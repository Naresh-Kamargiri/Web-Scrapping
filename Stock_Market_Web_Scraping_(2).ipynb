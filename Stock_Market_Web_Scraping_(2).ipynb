{
  "cells": [
    {
      "cell_type": "markdown",
      "metadata": {
        "id": "view-in-github",
        "colab_type": "text"
      },
      "source": [
        "<a href=\"https://colab.research.google.com/github/Naresh-Kamargiri/Web-Scrapping/blob/main/Stock_Market_Web_Scraping_(2).ipynb\" target=\"_parent\"><img src=\"https://colab.research.google.com/assets/colab-badge.svg\" alt=\"Open In Colab\"/></a>"
      ]
    },
    {
      "cell_type": "code",
      "execution_count": null,
      "id": "febc1504",
      "metadata": {
        "id": "febc1504",
        "outputId": "ce72907b-dcb5-44f0-a769-e0408c248175"
      },
      "outputs": [
        {
          "name": "stdout",
          "output_type": "stream",
          "text": [
            "Requirement already satisfied: requests in c:\\users\\student\\anaconda3\\lib\\site-packages (2.25.1)\n",
            "Requirement already satisfied: idna<3,>=2.5 in c:\\users\\student\\anaconda3\\lib\\site-packages (from requests) (2.10)\n",
            "Requirement already satisfied: certifi>=2017.4.17 in c:\\users\\student\\anaconda3\\lib\\site-packages (from requests) (2020.12.5)\n",
            "Requirement already satisfied: chardet<5,>=3.0.2 in c:\\users\\student\\anaconda3\\lib\\site-packages (from requests) (4.0.0)\n",
            "Requirement already satisfied: urllib3<1.27,>=1.21.1 in c:\\users\\student\\anaconda3\\lib\\site-packages (from requests) (1.26.4)\n",
            "Note: you may need to restart the kernel to use updated packages.\n"
          ]
        }
      ],
      "source": [
        "pip install requests"
      ]
    },
    {
      "cell_type": "code",
      "execution_count": null,
      "id": "66b81982",
      "metadata": {
        "id": "66b81982",
        "outputId": "8fb49072-a602-4292-a539-b79024aecf5e"
      },
      "outputs": [
        {
          "name": "stdout",
          "output_type": "stream",
          "text": [
            "Requirement already satisfied: bs4 in c:\\users\\student\\anaconda3\\lib\\site-packages (0.0.1)\n",
            "Requirement already satisfied: beautifulsoup4 in c:\\users\\student\\anaconda3\\lib\\site-packages (from bs4) (4.9.3)\n",
            "Requirement already satisfied: soupsieve>1.2 in c:\\users\\student\\anaconda3\\lib\\site-packages (from beautifulsoup4->bs4) (2.2.1)\n",
            "Note: you may need to restart the kernel to use updated packages.\n"
          ]
        }
      ],
      "source": [
        "pip install bs4"
      ]
    },
    {
      "cell_type": "code",
      "execution_count": null,
      "id": "5d3b1102",
      "metadata": {
        "id": "5d3b1102"
      },
      "outputs": [],
      "source": [
        "import requests\n",
        "from bs4 import BeautifulSoup"
      ]
    },
    {
      "cell_type": "code",
      "execution_count": null,
      "id": "cee92711",
      "metadata": {
        "id": "cee92711"
      },
      "outputs": [],
      "source": [
        "url=\"https://finance.yahoo.com/most-active\"\n",
        "response=requests.get(url)"
      ]
    },
    {
      "cell_type": "code",
      "execution_count": null,
      "id": "2a7c752a",
      "metadata": {
        "id": "2a7c752a",
        "outputId": "324f38fc-001e-4c68-9191-c5872069a591"
      },
      "outputs": [
        {
          "data": {
            "text/plain": [
              "<Response [200]>"
            ]
          },
          "execution_count": 25,
          "metadata": {},
          "output_type": "execute_result"
        }
      ],
      "source": [
        "response"
      ]
    },
    {
      "cell_type": "code",
      "execution_count": null,
      "id": "265ec955",
      "metadata": {
        "id": "265ec955"
      },
      "outputs": [],
      "source": [
        "#response.text"
      ]
    },
    {
      "cell_type": "code",
      "execution_count": null,
      "id": "eb587b97",
      "metadata": {
        "id": "eb587b97"
      },
      "outputs": [],
      "source": [
        "#response.content"
      ]
    },
    {
      "cell_type": "code",
      "execution_count": null,
      "id": "041ca0b9",
      "metadata": {
        "id": "041ca0b9"
      },
      "outputs": [],
      "source": [
        "soup=BeautifulSoup(response.content,\"html.parser\")"
      ]
    },
    {
      "cell_type": "code",
      "execution_count": null,
      "id": "51c0420d",
      "metadata": {
        "id": "51c0420d"
      },
      "outputs": [],
      "source": [
        "#soup"
      ]
    },
    {
      "cell_type": "code",
      "execution_count": null,
      "id": "cc59d9ac",
      "metadata": {
        "id": "cc59d9ac"
      },
      "outputs": [],
      "source": [
        "#print(soup.prettify())"
      ]
    },
    {
      "cell_type": "code",
      "execution_count": null,
      "id": "2afe6b8c",
      "metadata": {
        "id": "2afe6b8c",
        "outputId": "cf4504cb-d115-4887-b887-5e90de24f6df"
      },
      "outputs": [
        {
          "data": {
            "text/plain": [
              "<title>Most Active Stocks Today - Yahoo Finance</title>"
            ]
          },
          "execution_count": 11,
          "metadata": {},
          "output_type": "execute_result"
        }
      ],
      "source": [
        "title=soup.find(\"title\")\n",
        "title"
      ]
    },
    {
      "cell_type": "code",
      "execution_count": null,
      "id": "f9c8aedb",
      "metadata": {
        "id": "f9c8aedb",
        "outputId": "c5dfff44-ea89-4a07-dcde-80b6e380b958"
      },
      "outputs": [
        {
          "data": {
            "text/plain": [
              "'Most Active Stocks Today - Yahoo Finance'"
            ]
          },
          "execution_count": 12,
          "metadata": {},
          "output_type": "execute_result"
        }
      ],
      "source": [
        "title.text"
      ]
    },
    {
      "cell_type": "code",
      "execution_count": null,
      "id": "7a40a015",
      "metadata": {
        "id": "7a40a015",
        "outputId": "6da722ba-044b-49e8-8f96-b4164b786a4b"
      },
      "outputs": [
        {
          "data": {
            "text/plain": [
              "'Most Active Stocks Today - Yahoo Finance'"
            ]
          },
          "execution_count": 13,
          "metadata": {},
          "output_type": "execute_result"
        }
      ],
      "source": [
        "title.get_text()"
      ]
    },
    {
      "cell_type": "code",
      "execution_count": null,
      "id": "ccf623eb",
      "metadata": {
        "id": "ccf623eb"
      },
      "outputs": [],
      "source": [
        "#table=soup.find(\"table\")\n",
        "#table"
      ]
    },
    {
      "cell_type": "code",
      "execution_count": null,
      "id": "a77af07d",
      "metadata": {
        "id": "a77af07d",
        "outputId": "56d5a0c0-f435-4779-eef9-672269d03e70"
      },
      "outputs": [
        {
          "data": {
            "text/plain": [
              "<tbody><tr class=\"simpTblRow Bgc($hoverBgColor):h BdB Bdbc($seperatorColor) Bdbc($tableBorderBlue):h H(32px) Bgc($lv2BgColor)\"><td aria-label=\"Symbol\" class=\"Va(m) Ta(start) Pstart(6px) Pend(10px) Miw(90px) Start(0) Pend(10px) simpTblRow:h_Bgc($hoverBgColor) Pos(st) Bgc($lv3BgColor) Z(1) Bgc($lv2BgColor) Ta(start)! Fz(s)\" colspan=\"\"><label class=\"Ta(c) Pos(r) Va(tb) Pend(5px) D(n)--print\" data-id=\"portfolio-checkbox\"><input aria-label=\"Select TSLA\" class=\"Pos(a) Op(0) checkbox\" type=\"checkbox\"/><svg class=\"Va(m)! H(16px) W(16px) checkbox:f+Stk($linkColor)! checkbox:f+Fill($linkColor)! Stk($plusGray) Fill($plusGray) Cur(p)\" data-icon=\"checkbox-unchecked\" height=\"16\" style=\"stroke-width:0;vertical-align:bottom\" viewbox=\"0 0 24 24\" width=\"16\"><path d=\"M3 3h18v18H3V3zm19-2H2c-.553 0-1 .448-1 1v20c0 .552.447 1 1 1h20c.552 0 1-.448 1-1V2c0-.552-.448-1-1-1z\"></path></svg></label><a class=\"Fw(600) C($linkColor)\" data-test=\"quoteLink\" href=\"/quote/TSLA?p=TSLA\" title=\"Tesla, Inc.\">TSLA</a><div class=\"W(3px) Pos(a) Start(100%) T(0) H(100%) Bg($pfColumnFakeShadowGradient) Pe(n) Pend(5px)\"></div></td><td aria-label=\"Name\" class=\"Va(m) Ta(start) Px(10px) Fz(s)\" colspan=\"\">Tesla, Inc.</td><td aria-label=\"Price (Intraday)\" class=\"Va(m) Ta(end) Pstart(20px) Fw(600) Fz(s)\" colspan=\"\"><fin-streamer active=\"\" class=\"\" data-field=\"regularMarketPrice\" data-pricehint=\"2\" data-symbol=\"TSLA\" data-test=\"colorChange\" data-trend=\"none\" value=\"186.79\">186.79</fin-streamer></td><td aria-label=\"Change\" class=\"Va(m) Ta(end) Pstart(20px) Fw(600) Fz(s)\" colspan=\"\"><fin-streamer active=\"\" class=\"Fw(600)\" data-field=\"regularMarketChange\" data-pricehint=\"2\" data-symbol=\"TSLA\" data-test=\"colorChange\" data-trend=\"txt\" value=\"2.2799988\"><span class=\"C($positiveColor)\">+2.28</span></fin-streamer></td><td aria-label=\"% Change\" class=\"Va(m) Ta(end) Pstart(20px) Fw(600) Fz(s)\" colspan=\"\"><fin-streamer active=\"\" class=\"Fw(600)\" data-field=\"regularMarketChangePercent\" data-pricehint=\"2\" data-symbol=\"TSLA\" data-test=\"colorChange\" data-trend=\"txt\" value=\"1.2357048\"><span class=\"C($positiveColor)\">+1.24%</span></fin-streamer></td><td aria-label=\"Volume\" class=\"Va(m) Ta(end) Pstart(20px) Fz(s)\" colspan=\"\"><fin-streamer active=\"\" class=\"\" data-field=\"regularMarketVolume\" data-pricehint=\"2\" data-symbol=\"TSLA\" data-test=\"colorChange\" data-trend=\"none\" value=\"115770892\">115.771M</fin-streamer></td><td aria-label=\"Avg Vol (3 month)\" class=\"Va(m) Ta(end) Pstart(20px) Fz(s)\" colspan=\"\">169.054M</td><td aria-label=\"Market Cap\" class=\"Va(m) Ta(end) Pstart(20px) Pend(10px) W(120px) Fz(s)\" colspan=\"\"><fin-streamer active=\"\" class=\"\" data-field=\"marketCap\" data-pricehint=\"2\" data-symbol=\"TSLA\" data-test=\"colorChange\" data-trend=\"none\" value=\"591995404288\">591.995B</fin-streamer></td><td aria-label=\"PE Ratio (TTM)\" class=\"Va(m) Ta(end) Pstart(20px) Fz(s)\" colspan=\"\">51.74</td><td aria-label=\"52 Week Range\" class=\"Va(m) Ta(end) Pstart(20px) Pend(6px) Fz(s)\" colspan=\"\"><canvas style=\"width:140px;height:23px\"></canvas></td></tr><tr class=\"simpTblRow Bgc($hoverBgColor):h BdB Bdbc($seperatorColor) Bdbc($tableBorderBlue):h H(32px) Bgc($lv1BgColor)\"><td aria-label=\"Symbol\" class=\"Va(m) Ta(start) Pstart(6px) Pend(10px) Miw(90px) Start(0) Pend(10px) simpTblRow:h_Bgc($hoverBgColor) Pos(st) Bgc($lv3BgColor) Z(1) Bgc($lv1BgColor) Ta(start)! Fz(s)\" colspan=\"\"><label class=\"Ta(c) Pos(r) Va(tb) Pend(5px) D(n)--print\" data-id=\"portfolio-checkbox\"><input aria-label=\"Select AMZN\" class=\"Pos(a) Op(0) checkbox\" type=\"checkbox\"/><svg class=\"Va(m)! H(16px) W(16px) checkbox:f+Stk($linkColor)! checkbox:f+Fill($linkColor)! Stk($plusGray) Fill($plusGray) Cur(p)\" data-icon=\"checkbox-unchecked\" height=\"16\" style=\"stroke-width:0;vertical-align:bottom\" viewbox=\"0 0 24 24\" width=\"16\"><path d=\"M3 3h18v18H3V3zm19-2H2c-.553 0-1 .448-1 1v20c0 .552.447 1 1 1h20c.552 0 1-.448 1-1V2c0-.552-.448-1-1-1z\"></path></svg></label><a class=\"Fw(600) C($linkColor)\" data-test=\"quoteLink\" href=\"/quote/AMZN?p=AMZN\" title=\"Amazon.com, Inc.\">AMZN</a><div class=\"W(3px) Pos(a) Start(100%) T(0) H(100%) Bg($pfColumnFakeShadowGradient) Pe(n) Pend(5px)\"></div></td><td aria-label=\"Name\" class=\"Va(m) Ta(start) Px(10px) Fz(s)\" colspan=\"\">Amazon.com, Inc.</td><td aria-label=\"Price (Intraday)\" class=\"Va(m) Ta(end) Pstart(20px) Fw(600) Fz(s)\" colspan=\"\"><fin-streamer active=\"\" class=\"\" data-field=\"regularMarketPrice\" data-pricehint=\"2\" data-symbol=\"AMZN\" data-test=\"colorChange\" data-trend=\"none\" value=\"99.92\">99.92</fin-streamer></td><td aria-label=\"Change\" class=\"Va(m) Ta(end) Pstart(20px) Fw(600) Fz(s)\" colspan=\"\"><fin-streamer active=\"\" class=\"Fw(600)\" data-field=\"regularMarketChange\" data-pricehint=\"2\" data-symbol=\"AMZN\" data-test=\"colorChange\" data-trend=\"txt\" value=\"-2.25\"><span class=\"C($negativeColor)\">-2.25</span></fin-streamer></td><td aria-label=\"% Change\" class=\"Va(m) Ta(end) Pstart(20px) Fw(600) Fz(s)\" colspan=\"\"><fin-streamer active=\"\" class=\"Fw(600)\" data-field=\"regularMarketChangePercent\" data-pricehint=\"2\" data-symbol=\"AMZN\" data-test=\"colorChange\" data-trend=\"txt\" value=\"-2.202212\"><span class=\"C($negativeColor)\">-2.20%</span></fin-streamer></td><td aria-label=\"Volume\" class=\"Va(m) Ta(end) Pstart(20px) Fz(s)\" colspan=\"\"><fin-streamer active=\"\" class=\"\" data-field=\"regularMarketVolume\" data-pricehint=\"2\" data-symbol=\"AMZN\" data-test=\"colorChange\" data-trend=\"none\" value=\"60417847\">60.418M</fin-streamer></td><td aria-label=\"Avg Vol (3 month)\" class=\"Va(m) Ta(end) Pstart(20px) Fz(s)\" colspan=\"\">64.921M</td><td aria-label=\"Market Cap\" class=\"Va(m) Ta(end) Pstart(20px) Pend(10px) W(120px) Fz(s)\" colspan=\"\"><fin-streamer active=\"\" class=\"\" data-field=\"marketCap\" data-pricehint=\"2\" data-symbol=\"AMZN\" data-test=\"colorChange\" data-trend=\"none\" value=\"1023910215680\">1.024T</fin-streamer></td><td aria-label=\"PE Ratio (TTM)\" class=\"Va(m) Ta(end) Pstart(20px) Fz(s)\" colspan=\"\"><span>N/A</span></td><td aria-label=\"52 Week Range\" class=\"Va(m) Ta(end) Pstart(20px) Pend(6px) Fz(s)\" colspan=\"\"><canvas style=\"width:140px;height:23px\"></canvas></td></tr><tr class=\"simpTblRow Bgc($hoverBgColor):h BdB Bdbc($seperatorColor) Bdbc($tableBorderBlue):h H(32px) Bgc($lv2BgColor)\"><td aria-label=\"Symbol\" class=\"Va(m) Ta(start) Pstart(6px) Pend(10px) Miw(90px) Start(0) Pend(10px) simpTblRow:h_Bgc($hoverBgColor) Pos(st) Bgc($lv3BgColor) Z(1) Bgc($lv2BgColor) Ta(start)! Fz(s)\" colspan=\"\"><label class=\"Ta(c) Pos(r) Va(tb) Pend(5px) D(n)--print\" data-id=\"portfolio-checkbox\"><input aria-label=\"Select F\" class=\"Pos(a) Op(0) checkbox\" type=\"checkbox\"/><svg class=\"Va(m)! H(16px) W(16px) checkbox:f+Stk($linkColor)! checkbox:f+Fill($linkColor)! Stk($plusGray) Fill($plusGray) Cur(p)\" data-icon=\"checkbox-unchecked\" height=\"16\" style=\"stroke-width:0;vertical-align:bottom\" viewbox=\"0 0 24 24\" width=\"16\"><path d=\"M3 3h18v18H3V3zm19-2H2c-.553 0-1 .448-1 1v20c0 .552.447 1 1 1h20c.552 0 1-.448 1-1V2c0-.552-.448-1-1-1z\"></path></svg></label><a class=\"Fw(600) C($linkColor)\" data-test=\"quoteLink\" href=\"/quote/F?p=F\" title=\"Ford Motor Company\">F</a><div class=\"W(3px) Pos(a) Start(100%) T(0) H(100%) Bg($pfColumnFakeShadowGradient) Pe(n) Pend(5px)\"></div></td><td aria-label=\"Name\" class=\"Va(m) Ta(start) Px(10px) Fz(s)\" colspan=\"\">Ford Motor Company</td><td aria-label=\"Price (Intraday)\" class=\"Va(m) Ta(end) Pstart(20px) Fw(600) Fz(s)\" colspan=\"\"><fin-streamer active=\"\" class=\"\" data-field=\"regularMarketPrice\" data-pricehint=\"2\" data-symbol=\"F\" data-test=\"colorChange\" data-trend=\"none\" value=\"12.87\">12.87</fin-streamer></td><td aria-label=\"Change\" class=\"Va(m) Ta(end) Pstart(20px) Fw(600) Fz(s)\" colspan=\"\"><fin-streamer active=\"\" class=\"Fw(600)\" data-field=\"regularMarketChange\" data-pricehint=\"2\" data-symbol=\"F\" data-test=\"colorChange\" data-trend=\"txt\" value=\"0.14999962\"><span class=\"C($positiveColor)\">+0.15</span></fin-streamer></td><td aria-label=\"% Change\" class=\"Va(m) Ta(end) Pstart(20px) Fw(600) Fz(s)\" colspan=\"\"><fin-streamer active=\"\" class=\"Fw(600)\" data-field=\"regularMarketChangePercent\" data-pricehint=\"2\" data-symbol=\"F\" data-test=\"colorChange\" data-trend=\"txt\" value=\"1.1792423\"><span class=\"C($positiveColor)\">+1.18%</span></fin-streamer></td><td aria-label=\"Volume\" class=\"Va(m) Ta(end) Pstart(20px) Fz(s)\" colspan=\"\"><fin-streamer active=\"\" class=\"\" data-field=\"regularMarketVolume\" data-pricehint=\"2\" data-symbol=\"F\" data-test=\"colorChange\" data-trend=\"none\" value=\"62949101\">62.949M</fin-streamer></td><td aria-label=\"Avg Vol (3 month)\" class=\"Va(m) Ta(end) Pstart(20px) Fz(s)\" colspan=\"\">70.066M</td><td aria-label=\"Market Cap\" class=\"Va(m) Ta(end) Pstart(20px) Pend(10px) W(120px) Fz(s)\" colspan=\"\"><fin-streamer active=\"\" class=\"\" data-field=\"marketCap\" data-pricehint=\"2\" data-symbol=\"F\" data-test=\"colorChange\" data-trend=\"none\" value=\"51479486464\">51.479B</fin-streamer></td><td aria-label=\"PE Ratio (TTM)\" class=\"Va(m) Ta(end) Pstart(20px) Fz(s)\" colspan=\"\"><span>N/A</span></td><td aria-label=\"52 Week Range\" class=\"Va(m) Ta(end) Pstart(20px) Pend(6px) Fz(s)\" colspan=\"\"><canvas style=\"width:140px;height:23px\"></canvas></td></tr><tr class=\"simpTblRow Bgc($hoverBgColor):h BdB Bdbc($seperatorColor) Bdbc($tableBorderBlue):h H(32px) Bgc($lv1BgColor)\"><td aria-label=\"Symbol\" class=\"Va(m) Ta(start) Pstart(6px) Pend(10px) Miw(90px) Start(0) Pend(10px) simpTblRow:h_Bgc($hoverBgColor) Pos(st) Bgc($lv3BgColor) Z(1) Bgc($lv1BgColor) Ta(start)! Fz(s)\" colspan=\"\"><label class=\"Ta(c) Pos(r) Va(tb) Pend(5px) D(n)--print\" data-id=\"portfolio-checkbox\"><input aria-label=\"Select RIOT\" class=\"Pos(a) Op(0) checkbox\" type=\"checkbox\"/><svg class=\"Va(m)! H(16px) W(16px) checkbox:f+Stk($linkColor)! checkbox:f+Fill($linkColor)! Stk($plusGray) Fill($plusGray) Cur(p)\" data-icon=\"checkbox-unchecked\" height=\"16\" style=\"stroke-width:0;vertical-align:bottom\" viewbox=\"0 0 24 24\" width=\"16\"><path d=\"M3 3h18v18H3V3zm19-2H2c-.553 0-1 .448-1 1v20c0 .552.447 1 1 1h20c.552 0 1-.448 1-1V2c0-.552-.448-1-1-1z\"></path></svg></label><a class=\"Fw(600) C($linkColor)\" data-test=\"quoteLink\" href=\"/quote/RIOT?p=RIOT\" title=\"Riot Platforms, Inc.\">RIOT</a><div class=\"W(3px) Pos(a) Start(100%) T(0) H(100%) Bg($pfColumnFakeShadowGradient) Pe(n) Pend(5px)\"></div></td><td aria-label=\"Name\" class=\"Va(m) Ta(start) Px(10px) Fz(s)\" colspan=\"\">Riot Platforms, Inc.</td><td aria-label=\"Price (Intraday)\" class=\"Va(m) Ta(end) Pstart(20px) Fw(600) Fz(s)\" colspan=\"\"><fin-streamer active=\"\" class=\"\" data-field=\"regularMarketPrice\" data-pricehint=\"2\" data-symbol=\"RIOT\" data-test=\"colorChange\" data-trend=\"none\" value=\"12.38\">12.38</fin-streamer></td><td aria-label=\"Change\" class=\"Va(m) Ta(end) Pstart(20px) Fw(600) Fz(s)\" colspan=\"\"><fin-streamer active=\"\" class=\"Fw(600)\" data-field=\"regularMarketChange\" data-pricehint=\"2\" data-symbol=\"RIOT\" data-test=\"colorChange\" data-trend=\"txt\" value=\"1.8000002\"><span class=\"C($positiveColor)\">+1.80</span></fin-streamer></td><td aria-label=\"% Change\" class=\"Va(m) Ta(end) Pstart(20px) Fw(600) Fz(s)\" colspan=\"\"><fin-streamer active=\"\" class=\"Fw(600)\" data-field=\"regularMarketChangePercent\" data-pricehint=\"2\" data-symbol=\"RIOT\" data-test=\"colorChange\" data-trend=\"txt\" value=\"17.013233\"><span class=\"C($positiveColor)\">+17.01%</span></fin-streamer></td><td aria-label=\"Volume\" class=\"Va(m) Ta(end) Pstart(20px) Fz(s)\" colspan=\"\"><fin-streamer active=\"\" class=\"\" data-field=\"regularMarketVolume\" data-pricehint=\"2\" data-symbol=\"RIOT\" data-test=\"colorChange\" data-trend=\"none\" value=\"55029303\">55.029M</fin-streamer></td><td aria-label=\"Avg Vol (3 month)\" class=\"Va(m) Ta(end) Pstart(20px) Fz(s)\" colspan=\"\">18.738M</td><td aria-label=\"Market Cap\" class=\"Va(m) Ta(end) Pstart(20px) Pend(10px) W(120px) Fz(s)\" colspan=\"\"><fin-streamer active=\"\" class=\"\" data-field=\"marketCap\" data-pricehint=\"2\" data-symbol=\"RIOT\" data-test=\"colorChange\" data-trend=\"none\" value=\"2067200128\">2.067B</fin-streamer></td><td aria-label=\"PE Ratio (TTM)\" class=\"Va(m) Ta(end) Pstart(20px) Fz(s)\" colspan=\"\"><span>N/A</span></td><td aria-label=\"52 Week Range\" class=\"Va(m) Ta(end) Pstart(20px) Pend(6px) Fz(s)\" colspan=\"\"><canvas style=\"width:140px;height:23px\"></canvas></td></tr><tr class=\"simpTblRow Bgc($hoverBgColor):h BdB Bdbc($seperatorColor) Bdbc($tableBorderBlue):h H(32px) Bgc($lv2BgColor)\"><td aria-label=\"Symbol\" class=\"Va(m) Ta(start) Pstart(6px) Pend(10px) Miw(90px) Start(0) Pend(10px) simpTblRow:h_Bgc($hoverBgColor) Pos(st) Bgc($lv3BgColor) Z(1) Bgc($lv2BgColor) Ta(start)! Fz(s)\" colspan=\"\"><label class=\"Ta(c) Pos(r) Va(tb) Pend(5px) D(n)--print\" data-id=\"portfolio-checkbox\"><input aria-label=\"Select BAC\" class=\"Pos(a) Op(0) checkbox\" type=\"checkbox\"/><svg class=\"Va(m)! H(16px) W(16px) checkbox:f+Stk($linkColor)! checkbox:f+Fill($linkColor)! Stk($plusGray) Fill($plusGray) Cur(p)\" data-icon=\"checkbox-unchecked\" height=\"16\" style=\"stroke-width:0;vertical-align:bottom\" viewbox=\"0 0 24 24\" width=\"16\"><path d=\"M3 3h18v18H3V3zm19-2H2c-.553 0-1 .448-1 1v20c0 .552.447 1 1 1h20c.552 0 1-.448 1-1V2c0-.552-.448-1-1-1z\"></path></svg></label><a class=\"Fw(600) C($linkColor)\" data-test=\"quoteLink\" href=\"/quote/BAC?p=BAC\" title=\"Bank of America Corporation\">BAC</a><div class=\"W(3px) Pos(a) Start(100%) T(0) H(100%) Bg($pfColumnFakeShadowGradient) Pe(n) Pend(5px)\"></div></td><td aria-label=\"Name\" class=\"Va(m) Ta(start) Px(10px) Fz(s)\" colspan=\"\">Bank of America Corporation</td><td aria-label=\"Price (Intraday)\" class=\"Va(m) Ta(end) Pstart(20px) Fw(600) Fz(s)\" colspan=\"\"><fin-streamer active=\"\" class=\"\" data-field=\"regularMarketPrice\" data-pricehint=\"2\" data-symbol=\"BAC\" data-test=\"colorChange\" data-trend=\"none\" value=\"28.71\">28.71</fin-streamer></td><td aria-label=\"Change\" class=\"Va(m) Ta(end) Pstart(20px) Fw(600) Fz(s)\" colspan=\"\"><fin-streamer active=\"\" class=\"Fw(600)\" data-field=\"regularMarketChange\" data-pricehint=\"2\" data-symbol=\"BAC\" data-test=\"colorChange\" data-trend=\"txt\" value=\"0.76999855\"><span class=\"C($positiveColor)\">+0.77</span></fin-streamer></td><td aria-label=\"% Change\" class=\"Va(m) Ta(end) Pstart(20px) Fw(600) Fz(s)\" colspan=\"\"><fin-streamer active=\"\" class=\"Fw(600)\" data-field=\"regularMarketChangePercent\" data-pricehint=\"2\" data-symbol=\"BAC\" data-test=\"colorChange\" data-trend=\"txt\" value=\"2.7559004\"><span class=\"C($positiveColor)\">+2.76%</span></fin-streamer></td><td aria-label=\"Volume\" class=\"Va(m) Ta(end) Pstart(20px) Fz(s)\" colspan=\"\"><fin-streamer active=\"\" class=\"\" data-field=\"regularMarketVolume\" data-pricehint=\"2\" data-symbol=\"BAC\" data-test=\"colorChange\" data-trend=\"none\" value=\"58295054\">58.295M</fin-streamer></td><td aria-label=\"Avg Vol (3 month)\" class=\"Va(m) Ta(end) Pstart(20px) Fz(s)\" colspan=\"\">57.968M</td><td aria-label=\"Market Cap\" class=\"Va(m) Ta(end) Pstart(20px) Pend(10px) W(120px) Fz(s)\" colspan=\"\"><fin-streamer active=\"\" class=\"\" data-field=\"marketCap\" data-pricehint=\"2\" data-symbol=\"BAC\" data-test=\"colorChange\" data-trend=\"none\" value=\"229659328512\">229.659B</fin-streamer></td><td aria-label=\"PE Ratio (TTM)\" class=\"Va(m) Ta(end) Pstart(20px) Fz(s)\" colspan=\"\">9.00</td><td aria-label=\"52 Week Range\" class=\"Va(m) Ta(end) Pstart(20px) Pend(6px) Fz(s)\" colspan=\"\"><canvas style=\"width:140px;height:23px\"></canvas></td></tr><tr class=\"simpTblRow Bgc($hoverBgColor):h BdB Bdbc($seperatorColor) Bdbc($tableBorderBlue):h H(32px) Bgc($lv1BgColor)\"><td aria-label=\"Symbol\" class=\"Va(m) Ta(start) Pstart(6px) Pend(10px) Miw(90px) Start(0) Pend(10px) simpTblRow:h_Bgc($hoverBgColor) Pos(st) Bgc($lv3BgColor) Z(1) Bgc($lv1BgColor) Ta(start)! Fz(s)\" colspan=\"\"><label class=\"Ta(c) Pos(r) Va(tb) Pend(5px) D(n)--print\" data-id=\"portfolio-checkbox\"><input aria-label=\"Select AMD\" class=\"Pos(a) Op(0) checkbox\" type=\"checkbox\"/><svg class=\"Va(m)! H(16px) W(16px) checkbox:f+Stk($linkColor)! checkbox:f+Fill($linkColor)! Stk($plusGray) Fill($plusGray) Cur(p)\" data-icon=\"checkbox-unchecked\" height=\"16\" style=\"stroke-width:0;vertical-align:bottom\" viewbox=\"0 0 24 24\" width=\"16\"><path d=\"M3 3h18v18H3V3zm19-2H2c-.553 0-1 .448-1 1v20c0 .552.447 1 1 1h20c.552 0 1-.448 1-1V2c0-.552-.448-1-1-1z\"></path></svg></label><a class=\"Fw(600) C($linkColor)\" data-test=\"quoteLink\" href=\"/quote/AMD?p=AMD\" title=\"Advanced Micro Devices, Inc.\">AMD</a><div class=\"W(3px) Pos(a) Start(100%) T(0) H(100%) Bg($pfColumnFakeShadowGradient) Pe(n) Pend(5px)\"></div></td><td aria-label=\"Name\" class=\"Va(m) Ta(start) Px(10px) Fz(s)\" colspan=\"\">Advanced Micro Devices, Inc.</td><td aria-label=\"Price (Intraday)\" class=\"Va(m) Ta(end) Pstart(20px) Fw(600) Fz(s)\" colspan=\"\"><fin-streamer active=\"\" class=\"\" data-field=\"regularMarketPrice\" data-pricehint=\"2\" data-symbol=\"AMD\" data-test=\"colorChange\" data-trend=\"none\" value=\"94.03\">94.03</fin-streamer></td><td aria-label=\"Change\" class=\"Va(m) Ta(end) Pstart(20px) Fw(600) Fz(s)\" colspan=\"\"><fin-streamer active=\"\" class=\"Fw(600)\" data-field=\"regularMarketChange\" data-pricehint=\"2\" data-symbol=\"AMD\" data-test=\"colorChange\" data-trend=\"txt\" value=\"-1.4500046\"><span class=\"C($negativeColor)\">-1.45</span></fin-streamer></td><td aria-label=\"% Change\" class=\"Va(m) Ta(end) Pstart(20px) Fw(600) Fz(s)\" colspan=\"\"><fin-streamer active=\"\" class=\"Fw(600)\" data-field=\"regularMarketChangePercent\" data-pricehint=\"2\" data-symbol=\"AMD\" data-test=\"colorChange\" data-trend=\"txt\" value=\"-1.5186474\"><span class=\"C($negativeColor)\">-1.52%</span></fin-streamer></td><td aria-label=\"Volume\" class=\"Va(m) Ta(end) Pstart(20px) Fz(s)\" colspan=\"\"><fin-streamer active=\"\" class=\"\" data-field=\"regularMarketVolume\" data-pricehint=\"2\" data-symbol=\"AMD\" data-test=\"colorChange\" data-trend=\"none\" value=\"51935800\">51.936M</fin-streamer></td><td aria-label=\"Avg Vol (3 month)\" class=\"Va(m) Ta(end) Pstart(20px) Fz(s)\" colspan=\"\">62.438M</td><td aria-label=\"Market Cap\" class=\"Va(m) Ta(end) Pstart(20px) Pend(10px) W(120px) Fz(s)\" colspan=\"\"><fin-streamer active=\"\" class=\"\" data-field=\"marketCap\" data-pricehint=\"2\" data-symbol=\"AMD\" data-test=\"colorChange\" data-trend=\"none\" value=\"151519002624\">151.519B</fin-streamer></td><td aria-label=\"PE Ratio (TTM)\" class=\"Va(m) Ta(end) Pstart(20px) Fz(s)\" colspan=\"\">108.08</td><td aria-label=\"52 Week Range\" class=\"Va(m) Ta(end) Pstart(20px) Pend(6px) Fz(s)\" colspan=\"\"><canvas style=\"width:140px;height:23px\"></canvas></td></tr><tr class=\"simpTblRow Bgc($hoverBgColor):h BdB Bdbc($seperatorColor) Bdbc($tableBorderBlue):h H(32px) Bgc($lv2BgColor)\"><td aria-label=\"Symbol\" class=\"Va(m) Ta(start) Pstart(6px) Pend(10px) Miw(90px) Start(0) Pend(10px) simpTblRow:h_Bgc($hoverBgColor) Pos(st) Bgc($lv3BgColor) Z(1) Bgc($lv2BgColor) Ta(start)! Fz(s)\" colspan=\"\"><label class=\"Ta(c) Pos(r) Va(tb) Pend(5px) D(n)--print\" data-id=\"portfolio-checkbox\"><input aria-label=\"Select BBD\" class=\"Pos(a) Op(0) checkbox\" type=\"checkbox\"/><svg class=\"Va(m)! H(16px) W(16px) checkbox:f+Stk($linkColor)! checkbox:f+Fill($linkColor)! Stk($plusGray) Fill($plusGray) Cur(p)\" data-icon=\"checkbox-unchecked\" height=\"16\" style=\"stroke-width:0;vertical-align:bottom\" viewbox=\"0 0 24 24\" width=\"16\"><path d=\"M3 3h18v18H3V3zm19-2H2c-.553 0-1 .448-1 1v20c0 .552.447 1 1 1h20c.552 0 1-.448 1-1V2c0-.552-.448-1-1-1z\"></path></svg></label><a class=\"Fw(600) C($linkColor)\" data-test=\"quoteLink\" href=\"/quote/BBD?p=BBD\" title=\"Banco Bradesco S.A.\">BBD</a><div class=\"W(3px) Pos(a) Start(100%) T(0) H(100%) Bg($pfColumnFakeShadowGradient) Pe(n) Pend(5px)\"></div></td><td aria-label=\"Name\" class=\"Va(m) Ta(start) Px(10px) Fz(s)\" colspan=\"\">Banco Bradesco S.A.</td><td aria-label=\"Price (Intraday)\" class=\"Va(m) Ta(end) Pstart(20px) Fw(600) Fz(s)\" colspan=\"\"><fin-streamer active=\"\" class=\"\" data-field=\"regularMarketPrice\" data-pricehint=\"4\" data-symbol=\"BBD\" data-test=\"colorChange\" data-trend=\"none\" value=\"2.78\">2.7800</fin-streamer></td><td aria-label=\"Change\" class=\"Va(m) Ta(end) Pstart(20px) Fw(600) Fz(s)\" colspan=\"\"><fin-streamer active=\"\" class=\"Fw(600)\" data-field=\"regularMarketChange\" data-pricehint=\"4\" data-symbol=\"BBD\" data-test=\"colorChange\" data-trend=\"txt\" value=\"0.16000009\"><span class=\"C($positiveColor)\">+0.1600</span></fin-streamer></td><td aria-label=\"% Change\" class=\"Va(m) Ta(end) Pstart(20px) Fw(600) Fz(s)\" colspan=\"\"><fin-streamer active=\"\" class=\"Fw(600)\" data-field=\"regularMarketChangePercent\" data-pricehint=\"4\" data-symbol=\"BBD\" data-test=\"colorChange\" data-trend=\"txt\" value=\"6.1068735\"><span class=\"C($positiveColor)\">+6.11%</span></fin-streamer></td><td aria-label=\"Volume\" class=\"Va(m) Ta(end) Pstart(20px) Fz(s)\" colspan=\"\"><fin-streamer active=\"\" class=\"\" data-field=\"regularMarketVolume\" data-pricehint=\"4\" data-symbol=\"BBD\" data-test=\"colorChange\" data-trend=\"none\" value=\"46336767\">46.337M</fin-streamer></td><td aria-label=\"Avg Vol (3 month)\" class=\"Va(m) Ta(end) Pstart(20px) Fz(s)\" colspan=\"\">32.31M</td><td aria-label=\"Market Cap\" class=\"Va(m) Ta(end) Pstart(20px) Pend(10px) W(120px) Fz(s)\" colspan=\"\"><fin-streamer active=\"\" class=\"\" data-field=\"marketCap\" data-pricehint=\"4\" data-symbol=\"BBD\" data-test=\"colorChange\" data-trend=\"none\" value=\"29585313792\">29.585B</fin-streamer></td><td aria-label=\"PE Ratio (TTM)\" class=\"Va(m) Ta(end) Pstart(20px) Fz(s)\" colspan=\"\">7.51</td><td aria-label=\"52 Week Range\" class=\"Va(m) Ta(end) Pstart(20px) Pend(6px) Fz(s)\" colspan=\"\"><canvas style=\"width:140px;height:23px\"></canvas></td></tr><tr class=\"simpTblRow Bgc($hoverBgColor):h BdB Bdbc($seperatorColor) Bdbc($tableBorderBlue):h H(32px) Bgc($lv1BgColor)\"><td aria-label=\"Symbol\" class=\"Va(m) Ta(start) Pstart(6px) Pend(10px) Miw(90px) Start(0) Pend(10px) simpTblRow:h_Bgc($hoverBgColor) Pos(st) Bgc($lv3BgColor) Z(1) Bgc($lv1BgColor) Ta(start)! Fz(s)\" colspan=\"\"><label class=\"Ta(c) Pos(r) Va(tb) Pend(5px) D(n)--print\" data-id=\"portfolio-checkbox\"><input aria-label=\"Select NIO\" class=\"Pos(a) Op(0) checkbox\" type=\"checkbox\"/><svg class=\"Va(m)! H(16px) W(16px) checkbox:f+Stk($linkColor)! checkbox:f+Fill($linkColor)! Stk($plusGray) Fill($plusGray) Cur(p)\" data-icon=\"checkbox-unchecked\" height=\"16\" style=\"stroke-width:0;vertical-align:bottom\" viewbox=\"0 0 24 24\" width=\"16\"><path d=\"M3 3h18v18H3V3zm19-2H2c-.553 0-1 .448-1 1v20c0 .552.447 1 1 1h20c.552 0 1-.448 1-1V2c0-.552-.448-1-1-1z\"></path></svg></label><a class=\"Fw(600) C($linkColor)\" data-test=\"quoteLink\" href=\"/quote/NIO?p=NIO\" title=\"NIO Inc.\">NIO</a><div class=\"W(3px) Pos(a) Start(100%) T(0) H(100%) Bg($pfColumnFakeShadowGradient) Pe(n) Pend(5px)\"></div></td><td aria-label=\"Name\" class=\"Va(m) Ta(start) Px(10px) Fz(s)\" colspan=\"\">NIO Inc.</td><td aria-label=\"Price (Intraday)\" class=\"Va(m) Ta(end) Pstart(20px) Fw(600) Fz(s)\" colspan=\"\"><fin-streamer active=\"\" class=\"\" data-field=\"regularMarketPrice\" data-pricehint=\"2\" data-symbol=\"NIO\" data-test=\"colorChange\" data-trend=\"none\" value=\"9.52\">9.52</fin-streamer></td><td aria-label=\"Change\" class=\"Va(m) Ta(end) Pstart(20px) Fw(600) Fz(s)\" colspan=\"\"><fin-streamer active=\"\" class=\"Fw(600)\" data-field=\"regularMarketChange\" data-pricehint=\"2\" data-symbol=\"NIO\" data-test=\"colorChange\" data-trend=\"txt\" value=\"0.47000027\"><span class=\"C($positiveColor)\">+0.47</span></fin-streamer></td><td aria-label=\"% Change\" class=\"Va(m) Ta(end) Pstart(20px) Fw(600) Fz(s)\" colspan=\"\"><fin-streamer active=\"\" class=\"Fw(600)\" data-field=\"regularMarketChangePercent\" data-pricehint=\"2\" data-symbol=\"NIO\" data-test=\"colorChange\" data-trend=\"txt\" value=\"5.193373\"><span class=\"C($positiveColor)\">+5.19%</span></fin-streamer></td><td aria-label=\"Volume\" class=\"Va(m) Ta(end) Pstart(20px) Fz(s)\" colspan=\"\"><fin-streamer active=\"\" class=\"\" data-field=\"regularMarketVolume\" data-pricehint=\"2\" data-symbol=\"NIO\" data-test=\"colorChange\" data-trend=\"none\" value=\"44158177\">44.158M</fin-streamer></td><td aria-label=\"Avg Vol (3 month)\" class=\"Va(m) Ta(end) Pstart(20px) Fz(s)\" colspan=\"\">44.303M</td><td aria-label=\"Market Cap\" class=\"Va(m) Ta(end) Pstart(20px) Pend(10px) W(120px) Fz(s)\" colspan=\"\"><fin-streamer active=\"\" class=\"\" data-field=\"marketCap\" data-pricehint=\"2\" data-symbol=\"NIO\" data-test=\"colorChange\" data-trend=\"none\" value=\"15903447040\">15.903B</fin-streamer></td><td aria-label=\"PE Ratio (TTM)\" class=\"Va(m) Ta(end) Pstart(20px) Fz(s)\" colspan=\"\"><span>N/A</span></td><td aria-label=\"52 Week Range\" class=\"Va(m) Ta(end) Pstart(20px) Pend(6px) Fz(s)\" colspan=\"\"><canvas style=\"width:140px;height:23px\"></canvas></td></tr><tr class=\"simpTblRow Bgc($hoverBgColor):h BdB Bdbc($seperatorColor) Bdbc($tableBorderBlue):h H(32px) Bgc($lv2BgColor)\"><td aria-label=\"Symbol\" class=\"Va(m) Ta(start) Pstart(6px) Pend(10px) Miw(90px) Start(0) Pend(10px) simpTblRow:h_Bgc($hoverBgColor) Pos(st) Bgc($lv3BgColor) Z(1) Bgc($lv2BgColor) Ta(start)! Fz(s)\" colspan=\"\"><label class=\"Ta(c) Pos(r) Va(tb) Pend(5px) D(n)--print\" data-id=\"portfolio-checkbox\"><input aria-label=\"Select ITUB\" class=\"Pos(a) Op(0) checkbox\" type=\"checkbox\"/><svg class=\"Va(m)! H(16px) W(16px) checkbox:f+Stk($linkColor)! checkbox:f+Fill($linkColor)! Stk($plusGray) Fill($plusGray) Cur(p)\" data-icon=\"checkbox-unchecked\" height=\"16\" style=\"stroke-width:0;vertical-align:bottom\" viewbox=\"0 0 24 24\" width=\"16\"><path d=\"M3 3h18v18H3V3zm19-2H2c-.553 0-1 .448-1 1v20c0 .552.447 1 1 1h20c.552 0 1-.448 1-1V2c0-.552-.448-1-1-1z\"></path></svg></label><a class=\"Fw(600) C($linkColor)\" data-test=\"quoteLink\" href=\"/quote/ITUB?p=ITUB\" title=\"Itaú Unibanco Holding S.A.\">ITUB</a><div class=\"W(3px) Pos(a) Start(100%) T(0) H(100%) Bg($pfColumnFakeShadowGradient) Pe(n) Pend(5px)\"></div></td><td aria-label=\"Name\" class=\"Va(m) Ta(start) Px(10px) Fz(s)\" colspan=\"\">Itaú Unibanco Holding S.A.</td><td aria-label=\"Price (Intraday)\" class=\"Va(m) Ta(end) Pstart(20px) Fw(600) Fz(s)\" colspan=\"\"><fin-streamer active=\"\" class=\"\" data-field=\"regularMarketPrice\" data-pricehint=\"2\" data-symbol=\"ITUB\" data-test=\"colorChange\" data-trend=\"none\" value=\"5.07\">5.07</fin-streamer></td><td aria-label=\"Change\" class=\"Va(m) Ta(end) Pstart(20px) Fw(600) Fz(s)\" colspan=\"\"><fin-streamer active=\"\" class=\"Fw(600)\" data-field=\"regularMarketChange\" data-pricehint=\"2\" data-symbol=\"ITUB\" data-test=\"colorChange\" data-trend=\"txt\" value=\"0.24000025\"><span class=\"C($positiveColor)\">+0.24</span></fin-streamer></td><td aria-label=\"% Change\" class=\"Va(m) Ta(end) Pstart(20px) Fw(600) Fz(s)\" colspan=\"\"><fin-streamer active=\"\" class=\"Fw(600)\" data-field=\"regularMarketChangePercent\" data-pricehint=\"2\" data-symbol=\"ITUB\" data-test=\"colorChange\" data-trend=\"txt\" value=\"4.9689493\"><span class=\"C($positiveColor)\">+4.97%</span></fin-streamer></td><td aria-label=\"Volume\" class=\"Va(m) Ta(end) Pstart(20px) Fz(s)\" colspan=\"\"><fin-streamer active=\"\" class=\"\" data-field=\"regularMarketVolume\" data-pricehint=\"2\" data-symbol=\"ITUB\" data-test=\"colorChange\" data-trend=\"none\" value=\"44494606\">44.495M</fin-streamer></td><td aria-label=\"Avg Vol (3 month)\" class=\"Va(m) Ta(end) Pstart(20px) Fz(s)\" colspan=\"\">33.258M</td><td aria-label=\"Market Cap\" class=\"Va(m) Ta(end) Pstart(20px) Pend(10px) W(120px) Fz(s)\" colspan=\"\"><fin-streamer active=\"\" class=\"\" data-field=\"marketCap\" data-pricehint=\"2\" data-symbol=\"ITUB\" data-test=\"colorChange\" data-trend=\"none\" value=\"49558589440\">49.559B</fin-streamer></td><td aria-label=\"PE Ratio (TTM)\" class=\"Va(m) Ta(end) Pstart(20px) Fz(s)\" colspan=\"\">8.45</td><td aria-label=\"52 Week Range\" class=\"Va(m) Ta(end) Pstart(20px) Pend(6px) Fz(s)\" colspan=\"\"><canvas style=\"width:140px;height:23px\"></canvas></td></tr><tr class=\"simpTblRow Bgc($hoverBgColor):h BdB Bdbc($seperatorColor) Bdbc($tableBorderBlue):h H(32px) Bgc($lv1BgColor)\"><td aria-label=\"Symbol\" class=\"Va(m) Ta(start) Pstart(6px) Pend(10px) Miw(90px) Start(0) Pend(10px) simpTblRow:h_Bgc($hoverBgColor) Pos(st) Bgc($lv3BgColor) Z(1) Bgc($lv1BgColor) Ta(start)! Fz(s)\" colspan=\"\"><label class=\"Ta(c) Pos(r) Va(tb) Pend(5px) D(n)--print\" data-id=\"portfolio-checkbox\"><input aria-label=\"Select AAPL\" class=\"Pos(a) Op(0) checkbox\" type=\"checkbox\"/><svg class=\"Va(m)! H(16px) W(16px) checkbox:f+Stk($linkColor)! checkbox:f+Fill($linkColor)! Stk($plusGray) Fill($plusGray) Cur(p)\" data-icon=\"checkbox-unchecked\" height=\"16\" style=\"stroke-width:0;vertical-align:bottom\" viewbox=\"0 0 24 24\" width=\"16\"><path d=\"M3 3h18v18H3V3zm19-2H2c-.553 0-1 .448-1 1v20c0 .552.447 1 1 1h20c.552 0 1-.448 1-1V2c0-.552-.448-1-1-1z\"></path></svg></label><a class=\"Fw(600) C($linkColor)\" data-test=\"quoteLink\" href=\"/quote/AAPL?p=AAPL\" title=\"Apple Inc.\">AAPL</a><div class=\"W(3px) Pos(a) Start(100%) T(0) H(100%) Bg($pfColumnFakeShadowGradient) Pe(n) Pend(5px)\"></div></td><td aria-label=\"Name\" class=\"Va(m) Ta(start) Px(10px) Fz(s)\" colspan=\"\">Apple Inc.</td><td aria-label=\"Price (Intraday)\" class=\"Va(m) Ta(end) Pstart(20px) Fw(600) Fz(s)\" colspan=\"\"><fin-streamer active=\"\" class=\"\" data-field=\"regularMarketPrice\" data-pricehint=\"2\" data-symbol=\"AAPL\" data-test=\"colorChange\" data-trend=\"none\" value=\"160.8\">160.80</fin-streamer></td><td aria-label=\"Change\" class=\"Va(m) Ta(end) Pstart(20px) Fw(600) Fz(s)\" colspan=\"\"><fin-streamer active=\"\" class=\"Fw(600)\" data-field=\"regularMarketChange\" data-pricehint=\"2\" data-symbol=\"AAPL\" data-test=\"colorChange\" data-trend=\"txt\" value=\"-1.2299957\"><span class=\"C($negativeColor)\">-1.23</span></fin-streamer></td><td aria-label=\"% Change\" class=\"Va(m) Ta(end) Pstart(20px) Fw(600) Fz(s)\" colspan=\"\"><fin-streamer active=\"\" class=\"Fw(600)\" data-field=\"regularMarketChangePercent\" data-pricehint=\"2\" data-symbol=\"AAPL\" data-test=\"colorChange\" data-trend=\"txt\" value=\"-0.75911605\"><span class=\"C($negativeColor)\">-0.76%</span></fin-streamer></td><td aria-label=\"Volume\" class=\"Va(m) Ta(end) Pstart(20px) Fz(s)\" colspan=\"\"><fin-streamer active=\"\" class=\"\" data-field=\"regularMarketVolume\" data-pricehint=\"2\" data-symbol=\"AAPL\" data-test=\"colorChange\" data-trend=\"none\" value=\"47507081\">47.507M</fin-streamer></td><td aria-label=\"Avg Vol (3 month)\" class=\"Va(m) Ta(end) Pstart(20px) Fz(s)\" colspan=\"\">65.351M</td><td aria-label=\"Market Cap\" class=\"Va(m) Ta(end) Pstart(20px) Pend(10px) W(120px) Fz(s)\" colspan=\"\"><fin-streamer active=\"\" class=\"\" data-field=\"marketCap\" data-pricehint=\"2\" data-symbol=\"AAPL\" data-test=\"colorChange\" data-trend=\"none\" value=\"2544161521664\">2.544T</fin-streamer></td><td aria-label=\"PE Ratio (TTM)\" class=\"Va(m) Ta(end) Pstart(20px) Fz(s)\" colspan=\"\">27.25</td><td aria-label=\"52 Week Range\" class=\"Va(m) Ta(end) Pstart(20px) Pend(6px) Fz(s)\" colspan=\"\"><canvas style=\"width:140px;height:23px\"></canvas></td></tr><tr class=\"simpTblRow Bgc($hoverBgColor):h BdB Bdbc($seperatorColor) Bdbc($tableBorderBlue):h H(32px) Bgc($lv2BgColor)\"><td aria-label=\"Symbol\" class=\"Va(m) Ta(start) Pstart(6px) Pend(10px) Miw(90px) Start(0) Pend(10px) simpTblRow:h_Bgc($hoverBgColor) Pos(st) Bgc($lv3BgColor) Z(1) Bgc($lv2BgColor) Ta(start)! Fz(s)\" colspan=\"\"><label class=\"Ta(c) Pos(r) Va(tb) Pend(5px) D(n)--print\" data-id=\"portfolio-checkbox\"><input aria-label=\"Select AMC\" class=\"Pos(a) Op(0) checkbox\" type=\"checkbox\"/><svg class=\"Va(m)! H(16px) W(16px) checkbox:f+Stk($linkColor)! checkbox:f+Fill($linkColor)! Stk($plusGray) Fill($plusGray) Cur(p)\" data-icon=\"checkbox-unchecked\" height=\"16\" style=\"stroke-width:0;vertical-align:bottom\" viewbox=\"0 0 24 24\" width=\"16\"><path d=\"M3 3h18v18H3V3zm19-2H2c-.553 0-1 .448-1 1v20c0 .552.447 1 1 1h20c.552 0 1-.448 1-1V2c0-.552-.448-1-1-1z\"></path></svg></label><a class=\"Fw(600) C($linkColor)\" data-test=\"quoteLink\" href=\"/quote/AMC?p=AMC\" title=\"AMC Entertainment Holdings, Inc.\">AMC</a><div class=\"W(3px) Pos(a) Start(100%) T(0) H(100%) Bg($pfColumnFakeShadowGradient) Pe(n) Pend(5px)\"></div></td><td aria-label=\"Name\" class=\"Va(m) Ta(start) Px(10px) Fz(s)\" colspan=\"\">AMC Entertainment Holdings, Inc.</td><td aria-label=\"Price (Intraday)\" class=\"Va(m) Ta(end) Pstart(20px) Fw(600) Fz(s)\" colspan=\"\"><fin-streamer active=\"\" class=\"\" data-field=\"regularMarketPrice\" data-pricehint=\"2\" data-symbol=\"AMC\" data-test=\"colorChange\" data-trend=\"none\" value=\"5.43\">5.43</fin-streamer></td><td aria-label=\"Change\" class=\"Va(m) Ta(end) Pstart(20px) Fw(600) Fz(s)\" colspan=\"\"><fin-streamer active=\"\" class=\"Fw(600)\" data-field=\"regularMarketChange\" data-pricehint=\"2\" data-symbol=\"AMC\" data-test=\"colorChange\" data-trend=\"txt\" value=\"0.19000006\"><span class=\"C($positiveColor)\">+0.19</span></fin-streamer></td><td aria-label=\"% Change\" class=\"Va(m) Ta(end) Pstart(20px) Fw(600) Fz(s)\" colspan=\"\"><fin-streamer active=\"\" class=\"Fw(600)\" data-field=\"regularMarketChangePercent\" data-pricehint=\"2\" data-symbol=\"AMC\" data-test=\"colorChange\" data-trend=\"txt\" value=\"3.6259553\"><span class=\"C($positiveColor)\">+3.63%</span></fin-streamer></td><td aria-label=\"Volume\" class=\"Va(m) Ta(end) Pstart(20px) Fz(s)\" colspan=\"\"><fin-streamer active=\"\" class=\"\" data-field=\"regularMarketVolume\" data-pricehint=\"2\" data-symbol=\"AMC\" data-test=\"colorChange\" data-trend=\"none\" value=\"36000964\">36.001M</fin-streamer></td><td aria-label=\"Avg Vol (3 month)\" class=\"Va(m) Ta(end) Pstart(20px) Fz(s)\" colspan=\"\">39.16M</td><td aria-label=\"Market Cap\" class=\"Va(m) Ta(end) Pstart(20px) Pend(10px) W(120px) Fz(s)\" colspan=\"\"><fin-streamer active=\"\" class=\"\" data-field=\"marketCap\" data-pricehint=\"2\" data-symbol=\"AMC\" data-test=\"colorChange\" data-trend=\"none\" value=\"4244886016\">4.245B</fin-streamer></td><td aria-label=\"PE Ratio (TTM)\" class=\"Va(m) Ta(end) Pstart(20px) Fz(s)\" colspan=\"\"><span>N/A</span></td><td aria-label=\"52 Week Range\" class=\"Va(m) Ta(end) Pstart(20px) Pend(6px) Fz(s)\" colspan=\"\"><canvas style=\"width:140px;height:23px\"></canvas></td></tr><tr class=\"simpTblRow Bgc($hoverBgColor):h BdB Bdbc($seperatorColor) Bdbc($tableBorderBlue):h H(32px) Bgc($lv1BgColor)\"><td aria-label=\"Symbol\" class=\"Va(m) Ta(start) Pstart(6px) Pend(10px) Miw(90px) Start(0) Pend(10px) simpTblRow:h_Bgc($hoverBgColor) Pos(st) Bgc($lv3BgColor) Z(1) Bgc($lv1BgColor) Ta(start)! Fz(s)\" colspan=\"\"><label class=\"Ta(c) Pos(r) Va(tb) Pend(5px) D(n)--print\" data-id=\"portfolio-checkbox\"><input aria-label=\"Select PLTR\" class=\"Pos(a) Op(0) checkbox\" type=\"checkbox\"/><svg class=\"Va(m)! H(16px) W(16px) checkbox:f+Stk($linkColor)! checkbox:f+Fill($linkColor)! Stk($plusGray) Fill($plusGray) Cur(p)\" data-icon=\"checkbox-unchecked\" height=\"16\" style=\"stroke-width:0;vertical-align:bottom\" viewbox=\"0 0 24 24\" width=\"16\"><path d=\"M3 3h18v18H3V3zm19-2H2c-.553 0-1 .448-1 1v20c0 .552.447 1 1 1h20c.552 0 1-.448 1-1V2c0-.552-.448-1-1-1z\"></path></svg></label><a class=\"Fw(600) C($linkColor)\" data-test=\"quoteLink\" href=\"/quote/PLTR?p=PLTR\" title=\"Palantir Technologies Inc.\">PLTR</a><div class=\"W(3px) Pos(a) Start(100%) T(0) H(100%) Bg($pfColumnFakeShadowGradient) Pe(n) Pend(5px)\"></div></td><td aria-label=\"Name\" class=\"Va(m) Ta(start) Px(10px) Fz(s)\" colspan=\"\">Palantir Technologies Inc.</td><td aria-label=\"Price (Intraday)\" class=\"Va(m) Ta(end) Pstart(20px) Fw(600) Fz(s)\" colspan=\"\"><fin-streamer active=\"\" class=\"\" data-field=\"regularMarketPrice\" data-pricehint=\"2\" data-symbol=\"PLTR\" data-test=\"colorChange\" data-trend=\"none\" value=\"8.61\">8.61</fin-streamer></td><td aria-label=\"Change\" class=\"Va(m) Ta(end) Pstart(20px) Fw(600) Fz(s)\" colspan=\"\"><fin-streamer active=\"\" class=\"Fw(600)\" data-field=\"regularMarketChange\" data-pricehint=\"2\" data-symbol=\"PLTR\" data-test=\"colorChange\" data-trend=\"txt\" value=\"0.21999931\"><span class=\"C($positiveColor)\">+0.22</span></fin-streamer></td><td aria-label=\"% Change\" class=\"Va(m) Ta(end) Pstart(20px) Fw(600) Fz(s)\" colspan=\"\"><fin-streamer active=\"\" class=\"Fw(600)\" data-field=\"regularMarketChangePercent\" data-pricehint=\"2\" data-symbol=\"PLTR\" data-test=\"colorChange\" data-trend=\"txt\" value=\"2.622161\"><span class=\"C($positiveColor)\">+2.62%</span></fin-streamer></td><td aria-label=\"Volume\" class=\"Va(m) Ta(end) Pstart(20px) Fz(s)\" colspan=\"\"><fin-streamer active=\"\" class=\"\" data-field=\"regularMarketVolume\" data-pricehint=\"2\" data-symbol=\"PLTR\" data-test=\"colorChange\" data-trend=\"none\" value=\"35213754\">35.214M</fin-streamer></td><td aria-label=\"Avg Vol (3 month)\" class=\"Va(m) Ta(end) Pstart(20px) Fz(s)\" colspan=\"\">41.59M</td><td aria-label=\"Market Cap\" class=\"Va(m) Ta(end) Pstart(20px) Pend(10px) W(120px) Fz(s)\" colspan=\"\"><fin-streamer active=\"\" class=\"\" data-field=\"marketCap\" data-pricehint=\"2\" data-symbol=\"PLTR\" data-test=\"colorChange\" data-trend=\"none\" value=\"18092965888\">18.093B</fin-streamer></td><td aria-label=\"PE Ratio (TTM)\" class=\"Va(m) Ta(end) Pstart(20px) Fz(s)\" colspan=\"\"><span>N/A</span></td><td aria-label=\"52 Week Range\" class=\"Va(m) Ta(end) Pstart(20px) Pend(6px) Fz(s)\" colspan=\"\"><canvas style=\"width:140px;height:23px\"></canvas></td></tr><tr class=\"simpTblRow Bgc($hoverBgColor):h BdB Bdbc($seperatorColor) Bdbc($tableBorderBlue):h H(32px) Bgc($lv2BgColor)\"><td aria-label=\"Symbol\" class=\"Va(m) Ta(start) Pstart(6px) Pend(10px) Miw(90px) Start(0) Pend(10px) simpTblRow:h_Bgc($hoverBgColor) Pos(st) Bgc($lv3BgColor) Z(1) Bgc($lv2BgColor) Ta(start)! Fz(s)\" colspan=\"\"><label class=\"Ta(c) Pos(r) Va(tb) Pend(5px) D(n)--print\" data-id=\"portfolio-checkbox\"><input aria-label=\"Select AI\" class=\"Pos(a) Op(0) checkbox\" type=\"checkbox\"/><svg class=\"Va(m)! H(16px) W(16px) checkbox:f+Stk($linkColor)! checkbox:f+Fill($linkColor)! Stk($plusGray) Fill($plusGray) Cur(p)\" data-icon=\"checkbox-unchecked\" height=\"16\" style=\"stroke-width:0;vertical-align:bottom\" viewbox=\"0 0 24 24\" width=\"16\"><path d=\"M3 3h18v18H3V3zm19-2H2c-.553 0-1 .448-1 1v20c0 .552.447 1 1 1h20c.552 0 1-.448 1-1V2c0-.552-.448-1-1-1z\"></path></svg></label><a class=\"Fw(600) C($linkColor)\" data-test=\"quoteLink\" href=\"/quote/AI?p=AI\" title=\"C3.ai, Inc.\">AI</a><div class=\"W(3px) Pos(a) Start(100%) T(0) H(100%) Bg($pfColumnFakeShadowGradient) Pe(n) Pend(5px)\"></div></td><td aria-label=\"Name\" class=\"Va(m) Ta(start) Px(10px) Fz(s)\" colspan=\"\">C3.ai, Inc.</td><td aria-label=\"Price (Intraday)\" class=\"Va(m) Ta(end) Pstart(20px) Fw(600) Fz(s)\" colspan=\"\"><fin-streamer active=\"\" class=\"\" data-field=\"regularMarketPrice\" data-pricehint=\"2\" data-symbol=\"AI\" data-test=\"colorChange\" data-trend=\"none\" value=\"22.75\">22.75</fin-streamer></td><td aria-label=\"Change\" class=\"Va(m) Ta(end) Pstart(20px) Fw(600) Fz(s)\" colspan=\"\"><fin-streamer active=\"\" class=\"Fw(600)\" data-field=\"regularMarketChange\" data-pricehint=\"2\" data-symbol=\"AI\" data-test=\"colorChange\" data-trend=\"txt\" value=\"-0.3199997\"><span class=\"C($negativeColor)\">-0.32</span></fin-streamer></td><td aria-label=\"% Change\" class=\"Va(m) Ta(end) Pstart(20px) Fw(600) Fz(s)\" colspan=\"\"><fin-streamer active=\"\" class=\"Fw(600)\" data-field=\"regularMarketChangePercent\" data-pricehint=\"2\" data-symbol=\"AI\" data-test=\"colorChange\" data-trend=\"txt\" value=\"-1.3870815\"><span class=\"C($negativeColor)\">-1.39%</span></fin-streamer></td><td aria-label=\"Volume\" class=\"Va(m) Ta(end) Pstart(20px) Fz(s)\" colspan=\"\"><fin-streamer active=\"\" class=\"\" data-field=\"regularMarketVolume\" data-pricehint=\"2\" data-symbol=\"AI\" data-test=\"colorChange\" data-trend=\"none\" value=\"31485944\">31.486M</fin-streamer></td><td aria-label=\"Avg Vol (3 month)\" class=\"Va(m) Ta(end) Pstart(20px) Fz(s)\" colspan=\"\">25.685M</td><td aria-label=\"Market Cap\" class=\"Va(m) Ta(end) Pstart(20px) Pend(10px) W(120px) Fz(s)\" colspan=\"\"><fin-streamer active=\"\" class=\"\" data-field=\"marketCap\" data-pricehint=\"2\" data-symbol=\"AI\" data-test=\"colorChange\" data-trend=\"none\" value=\"2552777472\">2.553B</fin-streamer></td><td aria-label=\"PE Ratio (TTM)\" class=\"Va(m) Ta(end) Pstart(20px) Fz(s)\" colspan=\"\"><span>N/A</span></td><td aria-label=\"52 Week Range\" class=\"Va(m) Ta(end) Pstart(20px) Pend(6px) Fz(s)\" colspan=\"\"><canvas style=\"width:140px;height:23px\"></canvas></td></tr><tr class=\"simpTblRow Bgc($hoverBgColor):h BdB Bdbc($seperatorColor) Bdbc($tableBorderBlue):h H(32px) Bgc($lv1BgColor)\"><td aria-label=\"Symbol\" class=\"Va(m) Ta(start) Pstart(6px) Pend(10px) Miw(90px) Start(0) Pend(10px) simpTblRow:h_Bgc($hoverBgColor) Pos(st) Bgc($lv3BgColor) Z(1) Bgc($lv1BgColor) Ta(start)! Fz(s)\" colspan=\"\"><label class=\"Ta(c) Pos(r) Va(tb) Pend(5px) D(n)--print\" data-id=\"portfolio-checkbox\"><input aria-label=\"Select VALE\" class=\"Pos(a) Op(0) checkbox\" type=\"checkbox\"/><svg class=\"Va(m)! H(16px) W(16px) checkbox:f+Stk($linkColor)! checkbox:f+Fill($linkColor)! Stk($plusGray) Fill($plusGray) Cur(p)\" data-icon=\"checkbox-unchecked\" height=\"16\" style=\"stroke-width:0;vertical-align:bottom\" viewbox=\"0 0 24 24\" width=\"16\"><path d=\"M3 3h18v18H3V3zm19-2H2c-.553 0-1 .448-1 1v20c0 .552.447 1 1 1h20c.552 0 1-.448 1-1V2c0-.552-.448-1-1-1z\"></path></svg></label><a class=\"Fw(600) C($linkColor)\" data-test=\"quoteLink\" href=\"/quote/VALE?p=VALE\" title=\"Vale S.A.\">VALE</a><div class=\"W(3px) Pos(a) Start(100%) T(0) H(100%) Bg($pfColumnFakeShadowGradient) Pe(n) Pend(5px)\"></div></td><td aria-label=\"Name\" class=\"Va(m) Ta(start) Px(10px) Fz(s)\" colspan=\"\">Vale S.A.</td><td aria-label=\"Price (Intraday)\" class=\"Va(m) Ta(end) Pstart(20px) Fw(600) Fz(s)\" colspan=\"\"><fin-streamer active=\"\" class=\"\" data-field=\"regularMarketPrice\" data-pricehint=\"2\" data-symbol=\"VALE\" data-test=\"colorChange\" data-trend=\"none\" value=\"16.42\">16.42</fin-streamer></td><td aria-label=\"Change\" class=\"Va(m) Ta(end) Pstart(20px) Fw(600) Fz(s)\" colspan=\"\"><fin-streamer active=\"\" class=\"Fw(600)\" data-field=\"regularMarketChange\" data-pricehint=\"2\" data-symbol=\"VALE\" data-test=\"colorChange\" data-trend=\"txt\" value=\"1.0500002\"><span class=\"C($positiveColor)\">+1.05</span></fin-streamer></td><td aria-label=\"% Change\" class=\"Va(m) Ta(end) Pstart(20px) Fw(600) Fz(s)\" colspan=\"\"><fin-streamer active=\"\" class=\"Fw(600)\" data-field=\"regularMarketChangePercent\" data-pricehint=\"2\" data-symbol=\"VALE\" data-test=\"colorChange\" data-trend=\"txt\" value=\"6.831491\"><span class=\"C($positiveColor)\">+6.83%</span></fin-streamer></td><td aria-label=\"Volume\" class=\"Va(m) Ta(end) Pstart(20px) Fz(s)\" colspan=\"\"><fin-streamer active=\"\" class=\"\" data-field=\"regularMarketVolume\" data-pricehint=\"2\" data-symbol=\"VALE\" data-test=\"colorChange\" data-trend=\"none\" value=\"30451622\">30.452M</fin-streamer></td><td aria-label=\"Avg Vol (3 month)\" class=\"Va(m) Ta(end) Pstart(20px) Fz(s)\" colspan=\"\">22.538M</td><td aria-label=\"Market Cap\" class=\"Va(m) Ta(end) Pstart(20px) Pend(10px) W(120px) Fz(s)\" colspan=\"\"><fin-streamer active=\"\" class=\"\" data-field=\"marketCap\" data-pricehint=\"2\" data-symbol=\"VALE\" data-test=\"colorChange\" data-trend=\"none\" value=\"73044860928\">73.045B</fin-streamer></td><td aria-label=\"PE Ratio (TTM)\" class=\"Va(m) Ta(end) Pstart(20px) Fz(s)\" colspan=\"\">4.47</td><td aria-label=\"52 Week Range\" class=\"Va(m) Ta(end) Pstart(20px) Pend(6px) Fz(s)\" colspan=\"\"><canvas style=\"width:140px;height:23px\"></canvas></td></tr><tr class=\"simpTblRow Bgc($hoverBgColor):h BdB Bdbc($seperatorColor) Bdbc($tableBorderBlue):h H(32px) Bgc($lv2BgColor)\"><td aria-label=\"Symbol\" class=\"Va(m) Ta(start) Pstart(6px) Pend(10px) Miw(90px) Start(0) Pend(10px) simpTblRow:h_Bgc($hoverBgColor) Pos(st) Bgc($lv3BgColor) Z(1) Bgc($lv2BgColor) Ta(start)! Fz(s)\" colspan=\"\"><label class=\"Ta(c) Pos(r) Va(tb) Pend(5px) D(n)--print\" data-id=\"portfolio-checkbox\"><input aria-label=\"Select NVDA\" class=\"Pos(a) Op(0) checkbox\" type=\"checkbox\"/><svg class=\"Va(m)! H(16px) W(16px) checkbox:f+Stk($linkColor)! checkbox:f+Fill($linkColor)! Stk($plusGray) Fill($plusGray) Cur(p)\" data-icon=\"checkbox-unchecked\" height=\"16\" style=\"stroke-width:0;vertical-align:bottom\" viewbox=\"0 0 24 24\" width=\"16\"><path d=\"M3 3h18v18H3V3zm19-2H2c-.553 0-1 .448-1 1v20c0 .552.447 1 1 1h20c.552 0 1-.448 1-1V2c0-.552-.448-1-1-1z\"></path></svg></label><a class=\"Fw(600) C($linkColor)\" data-test=\"quoteLink\" href=\"/quote/NVDA?p=NVDA\" title=\"NVIDIA Corporation\">NVDA</a><div class=\"W(3px) Pos(a) Start(100%) T(0) H(100%) Bg($pfColumnFakeShadowGradient) Pe(n) Pend(5px)\"></div></td><td aria-label=\"Name\" class=\"Va(m) Ta(start) Px(10px) Fz(s)\" colspan=\"\">NVIDIA Corporation</td><td aria-label=\"Price (Intraday)\" class=\"Va(m) Ta(end) Pstart(20px) Fw(600) Fz(s)\" colspan=\"\"><fin-streamer active=\"\" class=\"\" data-field=\"regularMarketPrice\" data-pricehint=\"2\" data-symbol=\"NVDA\" data-test=\"colorChange\" data-trend=\"none\" value=\"271.69\">271.69</fin-streamer></td><td aria-label=\"Change\" class=\"Va(m) Ta(end) Pstart(20px) Fw(600) Fz(s)\" colspan=\"\"><fin-streamer active=\"\" class=\"Fw(600)\" data-field=\"regularMarketChange\" data-pricehint=\"2\" data-symbol=\"NVDA\" data-test=\"colorChange\" data-trend=\"txt\" value=\"-4.100006\"><span class=\"C($negativeColor)\">-4.10</span></fin-streamer></td><td aria-label=\"% Change\" class=\"Va(m) Ta(end) Pstart(20px) Fw(600) Fz(s)\" colspan=\"\"><fin-streamer active=\"\" class=\"Fw(600)\" data-field=\"regularMarketChangePercent\" data-pricehint=\"2\" data-symbol=\"NVDA\" data-test=\"colorChange\" data-trend=\"txt\" value=\"-1.4866406\"><span class=\"C($negativeColor)\">-1.49%</span></fin-streamer></td><td aria-label=\"Volume\" class=\"Va(m) Ta(end) Pstart(20px) Fz(s)\" colspan=\"\"><fin-streamer active=\"\" class=\"\" data-field=\"regularMarketVolume\" data-pricehint=\"2\" data-symbol=\"NVDA\" data-test=\"colorChange\" data-trend=\"none\" value=\"30019729\">30.02M</fin-streamer></td><td aria-label=\"Avg Vol (3 month)\" class=\"Va(m) Ta(end) Pstart(20px) Fz(s)\" colspan=\"\">50.135M</td><td aria-label=\"Market Cap\" class=\"Va(m) Ta(end) Pstart(20px) Pend(10px) W(120px) Fz(s)\" colspan=\"\"><fin-streamer active=\"\" class=\"\" data-field=\"marketCap\" data-pricehint=\"2\" data-symbol=\"NVDA\" data-test=\"colorChange\" data-trend=\"none\" value=\"671074353152\">671.074B</fin-streamer></td><td aria-label=\"PE Ratio (TTM)\" class=\"Va(m) Ta(end) Pstart(20px) Fz(s)\" colspan=\"\">156.14</td><td aria-label=\"52 Week Range\" class=\"Va(m) Ta(end) Pstart(20px) Pend(6px) Fz(s)\" colspan=\"\"><canvas style=\"width:140px;height:23px\"></canvas></td></tr><tr class=\"simpTblRow Bgc($hoverBgColor):h BdB Bdbc($seperatorColor) Bdbc($tableBorderBlue):h H(32px) Bgc($lv1BgColor)\"><td aria-label=\"Symbol\" class=\"Va(m) Ta(start) Pstart(6px) Pend(10px) Miw(90px) Start(0) Pend(10px) simpTblRow:h_Bgc($hoverBgColor) Pos(st) Bgc($lv3BgColor) Z(1) Bgc($lv1BgColor) Ta(start)! Fz(s)\" colspan=\"\"><label class=\"Ta(c) Pos(r) Va(tb) Pend(5px) D(n)--print\" data-id=\"portfolio-checkbox\"><input aria-label=\"Select PLUG\" class=\"Pos(a) Op(0) checkbox\" type=\"checkbox\"/><svg class=\"Va(m)! H(16px) W(16px) checkbox:f+Stk($linkColor)! checkbox:f+Fill($linkColor)! Stk($plusGray) Fill($plusGray) Cur(p)\" data-icon=\"checkbox-unchecked\" height=\"16\" style=\"stroke-width:0;vertical-align:bottom\" viewbox=\"0 0 24 24\" width=\"16\"><path d=\"M3 3h18v18H3V3zm19-2H2c-.553 0-1 .448-1 1v20c0 .552.447 1 1 1h20c.552 0 1-.448 1-1V2c0-.552-.448-1-1-1z\"></path></svg></label><a class=\"Fw(600) C($linkColor)\" data-test=\"quoteLink\" href=\"/quote/PLUG?p=PLUG\" title=\"Plug Power Inc.\">PLUG</a><div class=\"W(3px) Pos(a) Start(100%) T(0) H(100%) Bg($pfColumnFakeShadowGradient) Pe(n) Pend(5px)\"></div></td><td aria-label=\"Name\" class=\"Va(m) Ta(start) Px(10px) Fz(s)\" colspan=\"\">Plug Power Inc.</td><td aria-label=\"Price (Intraday)\" class=\"Va(m) Ta(end) Pstart(20px) Fw(600) Fz(s)\" colspan=\"\"><fin-streamer active=\"\" class=\"\" data-field=\"regularMarketPrice\" data-pricehint=\"2\" data-symbol=\"PLUG\" data-test=\"colorChange\" data-trend=\"none\" value=\"9.76\">9.76</fin-streamer></td><td aria-label=\"Change\" class=\"Va(m) Ta(end) Pstart(20px) Fw(600) Fz(s)\" colspan=\"\"><fin-streamer active=\"\" class=\"Fw(600)\" data-field=\"regularMarketChange\" data-pricehint=\"2\" data-symbol=\"PLUG\" data-test=\"colorChange\" data-trend=\"txt\" value=\"0.40000057\"><span class=\"C($positiveColor)\">+0.40</span></fin-streamer></td><td aria-label=\"% Change\" class=\"Va(m) Ta(end) Pstart(20px) Fw(600) Fz(s)\" colspan=\"\"><fin-streamer active=\"\" class=\"Fw(600)\" data-field=\"regularMarketChangePercent\" data-pricehint=\"2\" data-symbol=\"PLUG\" data-test=\"colorChange\" data-trend=\"txt\" value=\"4.273511\"><span class=\"C($positiveColor)\">+4.27%</span></fin-streamer></td><td aria-label=\"Volume\" class=\"Va(m) Ta(end) Pstart(20px) Fz(s)\" colspan=\"\"><fin-streamer active=\"\" class=\"\" data-field=\"regularMarketVolume\" data-pricehint=\"2\" data-symbol=\"PLUG\" data-test=\"colorChange\" data-trend=\"none\" value=\"28712700\">28.713M</fin-streamer></td><td aria-label=\"Avg Vol (3 month)\" class=\"Va(m) Ta(end) Pstart(20px) Fz(s)\" colspan=\"\">18.69M</td><td aria-label=\"Market Cap\" class=\"Va(m) Ta(end) Pstart(20px) Pend(10px) W(120px) Fz(s)\" colspan=\"\"><fin-streamer active=\"\" class=\"\" data-field=\"marketCap\" data-pricehint=\"2\" data-symbol=\"PLUG\" data-test=\"colorChange\" data-trend=\"none\" value=\"5791525376\">5.792B</fin-streamer></td><td aria-label=\"PE Ratio (TTM)\" class=\"Va(m) Ta(end) Pstart(20px) Fz(s)\" colspan=\"\"><span>N/A</span></td><td aria-label=\"52 Week Range\" class=\"Va(m) Ta(end) Pstart(20px) Pend(6px) Fz(s)\" colspan=\"\"><canvas style=\"width:140px;height:23px\"></canvas></td></tr><tr class=\"simpTblRow Bgc($hoverBgColor):h BdB Bdbc($seperatorColor) Bdbc($tableBorderBlue):h H(32px) Bgc($lv2BgColor)\"><td aria-label=\"Symbol\" class=\"Va(m) Ta(start) Pstart(6px) Pend(10px) Miw(90px) Start(0) Pend(10px) simpTblRow:h_Bgc($hoverBgColor) Pos(st) Bgc($lv3BgColor) Z(1) Bgc($lv2BgColor) Ta(start)! Fz(s)\" colspan=\"\"><label class=\"Ta(c) Pos(r) Va(tb) Pend(5px) D(n)--print\" data-id=\"portfolio-checkbox\"><input aria-label=\"Select MSFT\" class=\"Pos(a) Op(0) checkbox\" type=\"checkbox\"/><svg class=\"Va(m)! H(16px) W(16px) checkbox:f+Stk($linkColor)! checkbox:f+Fill($linkColor)! Stk($plusGray) Fill($plusGray) Cur(p)\" data-icon=\"checkbox-unchecked\" height=\"16\" style=\"stroke-width:0;vertical-align:bottom\" viewbox=\"0 0 24 24\" width=\"16\"><path d=\"M3 3h18v18H3V3zm19-2H2c-.553 0-1 .448-1 1v20c0 .552.447 1 1 1h20c.552 0 1-.448 1-1V2c0-.552-.448-1-1-1z\"></path></svg></label><a class=\"Fw(600) C($linkColor)\" data-test=\"quoteLink\" href=\"/quote/MSFT?p=MSFT\" title=\"Microsoft Corporation\">MSFT</a><div class=\"W(3px) Pos(a) Start(100%) T(0) H(100%) Bg($pfColumnFakeShadowGradient) Pe(n) Pend(5px)\"></div></td><td aria-label=\"Name\" class=\"Va(m) Ta(start) Px(10px) Fz(s)\" colspan=\"\">Microsoft Corporation</td><td aria-label=\"Price (Intraday)\" class=\"Va(m) Ta(end) Pstart(20px) Fw(600) Fz(s)\" colspan=\"\"><fin-streamer active=\"\" class=\"\" data-field=\"regularMarketPrice\" data-pricehint=\"2\" data-symbol=\"MSFT\" data-test=\"colorChange\" data-trend=\"none\" value=\"282.83\">282.83</fin-streamer></td><td aria-label=\"Change\" class=\"Va(m) Ta(end) Pstart(20px) Fw(600) Fz(s)\" colspan=\"\"><fin-streamer active=\"\" class=\"Fw(600)\" data-field=\"regularMarketChange\" data-pricehint=\"2\" data-symbol=\"MSFT\" data-test=\"colorChange\" data-trend=\"txt\" value=\"-6.560028\"><span class=\"C($negativeColor)\">-6.56</span></fin-streamer></td><td aria-label=\"% Change\" class=\"Va(m) Ta(end) Pstart(20px) Fw(600) Fz(s)\" colspan=\"\"><fin-streamer active=\"\" class=\"Fw(600)\" data-field=\"regularMarketChangePercent\" data-pricehint=\"2\" data-symbol=\"MSFT\" data-test=\"colorChange\" data-trend=\"txt\" value=\"-2.266847\"><span class=\"C($negativeColor)\">-2.27%</span></fin-streamer></td><td aria-label=\"Volume\" class=\"Va(m) Ta(end) Pstart(20px) Fz(s)\" colspan=\"\"><fin-streamer active=\"\" class=\"\" data-field=\"regularMarketVolume\" data-pricehint=\"2\" data-symbol=\"MSFT\" data-test=\"colorChange\" data-trend=\"none\" value=\"27276589\">27.277M</fin-streamer></td><td aria-label=\"Avg Vol (3 month)\" class=\"Va(m) Ta(end) Pstart(20px) Fz(s)\" colspan=\"\">31.871M</td><td aria-label=\"Market Cap\" class=\"Va(m) Ta(end) Pstart(20px) Pend(10px) W(120px) Fz(s)\" colspan=\"\"><fin-streamer active=\"\" class=\"\" data-field=\"marketCap\" data-pricehint=\"2\" data-symbol=\"MSFT\" data-test=\"colorChange\" data-trend=\"none\" value=\"2105329844224\">2.105T</fin-streamer></td><td aria-label=\"PE Ratio (TTM)\" class=\"Va(m) Ta(end) Pstart(20px) Fz(s)\" colspan=\"\">31.43</td><td aria-label=\"52 Week Range\" class=\"Va(m) Ta(end) Pstart(20px) Pend(6px) Fz(s)\" colspan=\"\"><canvas style=\"width:140px;height:23px\"></canvas></td></tr><tr class=\"simpTblRow Bgc($hoverBgColor):h BdB Bdbc($seperatorColor) Bdbc($tableBorderBlue):h H(32px) Bgc($lv1BgColor)\"><td aria-label=\"Symbol\" class=\"Va(m) Ta(start) Pstart(6px) Pend(10px) Miw(90px) Start(0) Pend(10px) simpTblRow:h_Bgc($hoverBgColor) Pos(st) Bgc($lv3BgColor) Z(1) Bgc($lv1BgColor) Ta(start)! Fz(s)\" colspan=\"\"><label class=\"Ta(c) Pos(r) Va(tb) Pend(5px) D(n)--print\" data-id=\"portfolio-checkbox\"><input aria-label=\"Select INTC\" class=\"Pos(a) Op(0) checkbox\" type=\"checkbox\"/><svg class=\"Va(m)! H(16px) W(16px) checkbox:f+Stk($linkColor)! checkbox:f+Fill($linkColor)! Stk($plusGray) Fill($plusGray) Cur(p)\" data-icon=\"checkbox-unchecked\" height=\"16\" style=\"stroke-width:0;vertical-align:bottom\" viewbox=\"0 0 24 24\" width=\"16\"><path d=\"M3 3h18v18H3V3zm19-2H2c-.553 0-1 .448-1 1v20c0 .552.447 1 1 1h20c.552 0 1-.448 1-1V2c0-.552-.448-1-1-1z\"></path></svg></label><a class=\"Fw(600) C($linkColor)\" data-test=\"quoteLink\" href=\"/quote/INTC?p=INTC\" title=\"Intel Corporation\">INTC</a><div class=\"W(3px) Pos(a) Start(100%) T(0) H(100%) Bg($pfColumnFakeShadowGradient) Pe(n) Pend(5px)\"></div></td><td aria-label=\"Name\" class=\"Va(m) Ta(start) Px(10px) Fz(s)\" colspan=\"\">Intel Corporation</td><td aria-label=\"Price (Intraday)\" class=\"Va(m) Ta(end) Pstart(20px) Fw(600) Fz(s)\" colspan=\"\"><fin-streamer active=\"\" class=\"\" data-field=\"regularMarketPrice\" data-pricehint=\"2\" data-symbol=\"INTC\" data-test=\"colorChange\" data-trend=\"none\" value=\"32.35\">32.35</fin-streamer></td><td aria-label=\"Change\" class=\"Va(m) Ta(end) Pstart(20px) Fw(600) Fz(s)\" colspan=\"\"><fin-streamer active=\"\" class=\"Fw(600)\" data-field=\"regularMarketChange\" data-pricehint=\"2\" data-symbol=\"INTC\" data-test=\"colorChange\" data-trend=\"txt\" value=\"-0.17000198\"><span class=\"C($negativeColor)\">-0.17</span></fin-streamer></td><td aria-label=\"% Change\" class=\"Va(m) Ta(end) Pstart(20px) Fw(600) Fz(s)\" colspan=\"\"><fin-streamer active=\"\" class=\"Fw(600)\" data-field=\"regularMarketChangePercent\" data-pricehint=\"2\" data-symbol=\"INTC\" data-test=\"colorChange\" data-trend=\"txt\" value=\"-0.52276134\"><span class=\"C($negativeColor)\">-0.52%</span></fin-streamer></td><td aria-label=\"Volume\" class=\"Va(m) Ta(end) Pstart(20px) Fz(s)\" colspan=\"\"><fin-streamer active=\"\" class=\"\" data-field=\"regularMarketVolume\" data-pricehint=\"2\" data-symbol=\"INTC\" data-test=\"colorChange\" data-trend=\"none\" value=\"27059106\">27.059M</fin-streamer></td><td aria-label=\"Avg Vol (3 month)\" class=\"Va(m) Ta(end) Pstart(20px) Fz(s)\" colspan=\"\">48.317M</td><td aria-label=\"Market Cap\" class=\"Va(m) Ta(end) Pstart(20px) Pend(10px) W(120px) Fz(s)\" colspan=\"\"><fin-streamer active=\"\" class=\"\" data-field=\"marketCap\" data-pricehint=\"2\" data-symbol=\"INTC\" data-test=\"colorChange\" data-trend=\"none\" value=\"134933463040\">134.933B</fin-streamer></td><td aria-label=\"PE Ratio (TTM)\" class=\"Va(m) Ta(end) Pstart(20px) Fz(s)\" colspan=\"\">16.68</td><td aria-label=\"52 Week Range\" class=\"Va(m) Ta(end) Pstart(20px) Pend(6px) Fz(s)\" colspan=\"\"><canvas style=\"width:140px;height:23px\"></canvas></td></tr><tr class=\"simpTblRow Bgc($hoverBgColor):h BdB Bdbc($seperatorColor) Bdbc($tableBorderBlue):h H(32px) Bgc($lv2BgColor)\"><td aria-label=\"Symbol\" class=\"Va(m) Ta(start) Pstart(6px) Pend(10px) Miw(90px) Start(0) Pend(10px) simpTblRow:h_Bgc($hoverBgColor) Pos(st) Bgc($lv3BgColor) Z(1) Bgc($lv2BgColor) Ta(start)! Fz(s)\" colspan=\"\"><label class=\"Ta(c) Pos(r) Va(tb) Pend(5px) D(n)--print\" data-id=\"portfolio-checkbox\"><input aria-label=\"Select SOFI\" class=\"Pos(a) Op(0) checkbox\" type=\"checkbox\"/><svg class=\"Va(m)! H(16px) W(16px) checkbox:f+Stk($linkColor)! checkbox:f+Fill($linkColor)! Stk($plusGray) Fill($plusGray) Cur(p)\" data-icon=\"checkbox-unchecked\" height=\"16\" style=\"stroke-width:0;vertical-align:bottom\" viewbox=\"0 0 24 24\" width=\"16\"><path d=\"M3 3h18v18H3V3zm19-2H2c-.553 0-1 .448-1 1v20c0 .552.447 1 1 1h20c.552 0 1-.448 1-1V2c0-.552-.448-1-1-1z\"></path></svg></label><a class=\"Fw(600) C($linkColor)\" data-test=\"quoteLink\" href=\"/quote/SOFI?p=SOFI\" title=\"SoFi Technologies, Inc.\">SOFI</a><div class=\"W(3px) Pos(a) Start(100%) T(0) H(100%) Bg($pfColumnFakeShadowGradient) Pe(n) Pend(5px)\"></div></td><td aria-label=\"Name\" class=\"Va(m) Ta(start) Px(10px) Fz(s)\" colspan=\"\">SoFi Technologies, Inc.</td><td aria-label=\"Price (Intraday)\" class=\"Va(m) Ta(end) Pstart(20px) Fw(600) Fz(s)\" colspan=\"\"><fin-streamer active=\"\" class=\"\" data-field=\"regularMarketPrice\" data-pricehint=\"2\" data-symbol=\"SOFI\" data-test=\"colorChange\" data-trend=\"none\" value=\"5.97\">5.97</fin-streamer></td><td aria-label=\"Change\" class=\"Va(m) Ta(end) Pstart(20px) Fw(600) Fz(s)\" colspan=\"\"><fin-streamer active=\"\" class=\"Fw(600)\" data-field=\"regularMarketChange\" data-pricehint=\"2\" data-symbol=\"SOFI\" data-test=\"colorChange\" data-trend=\"txt\" value=\"0.059999943\"><span class=\"C($positiveColor)\">+0.06</span></fin-streamer></td><td aria-label=\"% Change\" class=\"Va(m) Ta(end) Pstart(20px) Fw(600) Fz(s)\" colspan=\"\"><fin-streamer active=\"\" class=\"Fw(600)\" data-field=\"regularMarketChangePercent\" data-pricehint=\"2\" data-symbol=\"SOFI\" data-test=\"colorChange\" data-trend=\"txt\" value=\"1.0152274\"><span class=\"C($positiveColor)\">+1.02%</span></fin-streamer></td><td aria-label=\"Volume\" class=\"Va(m) Ta(end) Pstart(20px) Fz(s)\" colspan=\"\"><fin-streamer active=\"\" class=\"\" data-field=\"regularMarketVolume\" data-pricehint=\"2\" data-symbol=\"SOFI\" data-test=\"colorChange\" data-trend=\"none\" value=\"26455375\">26.455M</fin-streamer></td><td aria-label=\"Avg Vol (3 month)\" class=\"Va(m) Ta(end) Pstart(20px) Fz(s)\" colspan=\"\">36.62M</td><td aria-label=\"Market Cap\" class=\"Va(m) Ta(end) Pstart(20px) Pend(10px) W(120px) Fz(s)\" colspan=\"\"><fin-streamer active=\"\" class=\"\" data-field=\"marketCap\" data-pricehint=\"2\" data-symbol=\"SOFI\" data-test=\"colorChange\" data-trend=\"none\" value=\"5579275264\">5.579B</fin-streamer></td><td aria-label=\"PE Ratio (TTM)\" class=\"Va(m) Ta(end) Pstart(20px) Fz(s)\" colspan=\"\"><span>N/A</span></td><td aria-label=\"52 Week Range\" class=\"Va(m) Ta(end) Pstart(20px) Pend(6px) Fz(s)\" colspan=\"\"><canvas style=\"width:140px;height:23px\"></canvas></td></tr><tr class=\"simpTblRow Bgc($hoverBgColor):h BdB Bdbc($seperatorColor) Bdbc($tableBorderBlue):h H(32px) Bgc($lv1BgColor)\"><td aria-label=\"Symbol\" class=\"Va(m) Ta(start) Pstart(6px) Pend(10px) Miw(90px) Start(0) Pend(10px) simpTblRow:h_Bgc($hoverBgColor) Pos(st) Bgc($lv3BgColor) Z(1) Bgc($lv1BgColor) Ta(start)! Fz(s)\" colspan=\"\"><label class=\"Ta(c) Pos(r) Va(tb) Pend(5px) D(n)--print\" data-id=\"portfolio-checkbox\"><input aria-label=\"Select GOOGL\" class=\"Pos(a) Op(0) checkbox\" type=\"checkbox\"/><svg class=\"Va(m)! H(16px) W(16px) checkbox:f+Stk($linkColor)! checkbox:f+Fill($linkColor)! Stk($plusGray) Fill($plusGray) Cur(p)\" data-icon=\"checkbox-unchecked\" height=\"16\" style=\"stroke-width:0;vertical-align:bottom\" viewbox=\"0 0 24 24\" width=\"16\"><path d=\"M3 3h18v18H3V3zm19-2H2c-.553 0-1 .448-1 1v20c0 .552.447 1 1 1h20c.552 0 1-.448 1-1V2c0-.552-.448-1-1-1z\"></path></svg></label><a class=\"Fw(600) C($linkColor)\" data-test=\"quoteLink\" href=\"/quote/GOOGL?p=GOOGL\" title=\"Alphabet Inc.\">GOOGL</a><div class=\"W(3px) Pos(a) Start(100%) T(0) H(100%) Bg($pfColumnFakeShadowGradient) Pe(n) Pend(5px)\"></div></td><td aria-label=\"Name\" class=\"Va(m) Ta(start) Px(10px) Fz(s)\" colspan=\"\">Alphabet Inc.</td><td aria-label=\"Price (Intraday)\" class=\"Va(m) Ta(end) Pstart(20px) Fw(600) Fz(s)\" colspan=\"\"><fin-streamer active=\"\" class=\"\" data-field=\"regularMarketPrice\" data-pricehint=\"2\" data-symbol=\"GOOGL\" data-test=\"colorChange\" data-trend=\"none\" value=\"105.35\">105.35</fin-streamer></td><td aria-label=\"Change\" class=\"Va(m) Ta(end) Pstart(20px) Fw(600) Fz(s)\" colspan=\"\"><fin-streamer active=\"\" class=\"Fw(600)\" data-field=\"regularMarketChange\" data-pricehint=\"2\" data-symbol=\"GOOGL\" data-test=\"colorChange\" data-trend=\"txt\" value=\"-1.090004\"><span class=\"C($negativeColor)\">-1.09</span></fin-streamer></td><td aria-label=\"% Change\" class=\"Va(m) Ta(end) Pstart(20px) Fw(600) Fz(s)\" colspan=\"\"><fin-streamer active=\"\" class=\"Fw(600)\" data-field=\"regularMarketChangePercent\" data-pricehint=\"2\" data-symbol=\"GOOGL\" data-test=\"colorChange\" data-trend=\"txt\" value=\"-1.0240549\"><span class=\"C($negativeColor)\">-1.02%</span></fin-streamer></td><td aria-label=\"Volume\" class=\"Va(m) Ta(end) Pstart(20px) Fz(s)\" colspan=\"\"><fin-streamer active=\"\" class=\"\" data-field=\"regularMarketVolume\" data-pricehint=\"2\" data-symbol=\"GOOGL\" data-test=\"colorChange\" data-trend=\"none\" value=\"26311803\">26.312M</fin-streamer></td><td aria-label=\"Avg Vol (3 month)\" class=\"Va(m) Ta(end) Pstart(20px) Fz(s)\" colspan=\"\">40.284M</td><td aria-label=\"Market Cap\" class=\"Va(m) Ta(end) Pstart(20px) Pend(10px) W(120px) Fz(s)\" colspan=\"\"><fin-streamer active=\"\" class=\"\" data-field=\"marketCap\" data-pricehint=\"2\" data-symbol=\"GOOGL\" data-test=\"colorChange\" data-trend=\"none\" value=\"1352230502400\">1.352T</fin-streamer></td><td aria-label=\"PE Ratio (TTM)\" class=\"Va(m) Ta(end) Pstart(20px) Fz(s)\" colspan=\"\">23.52</td><td aria-label=\"52 Week Range\" class=\"Va(m) Ta(end) Pstart(20px) Pend(6px) Fz(s)\" colspan=\"\"><canvas style=\"width:140px;height:23px\"></canvas></td></tr><tr class=\"simpTblRow Bgc($hoverBgColor):h BdB Bdbc($seperatorColor) Bdbc($tableBorderBlue):h H(32px) Bgc($lv2BgColor)\"><td aria-label=\"Symbol\" class=\"Va(m) Ta(start) Pstart(6px) Pend(10px) Miw(90px) Start(0) Pend(10px) simpTblRow:h_Bgc($hoverBgColor) Pos(st) Bgc($lv3BgColor) Z(1) Bgc($lv2BgColor) Ta(start)! Fz(s)\" colspan=\"\"><label class=\"Ta(c) Pos(r) Va(tb) Pend(5px) D(n)--print\" data-id=\"portfolio-checkbox\"><input aria-label=\"Select COIN\" class=\"Pos(a) Op(0) checkbox\" type=\"checkbox\"/><svg class=\"Va(m)! H(16px) W(16px) checkbox:f+Stk($linkColor)! checkbox:f+Fill($linkColor)! Stk($plusGray) Fill($plusGray) Cur(p)\" data-icon=\"checkbox-unchecked\" height=\"16\" style=\"stroke-width:0;vertical-align:bottom\" viewbox=\"0 0 24 24\" width=\"16\"><path d=\"M3 3h18v18H3V3zm19-2H2c-.553 0-1 .448-1 1v20c0 .552.447 1 1 1h20c.552 0 1-.448 1-1V2c0-.552-.448-1-1-1z\"></path></svg></label><a class=\"Fw(600) C($linkColor)\" data-test=\"quoteLink\" href=\"/quote/COIN?p=COIN\" title=\"Coinbase Global, Inc.\">COIN</a><div class=\"W(3px) Pos(a) Start(100%) T(0) H(100%) Bg($pfColumnFakeShadowGradient) Pe(n) Pend(5px)\"></div></td><td aria-label=\"Name\" class=\"Va(m) Ta(start) Px(10px) Fz(s)\" colspan=\"\">Coinbase Global, Inc.</td><td aria-label=\"Price (Intraday)\" class=\"Va(m) Ta(end) Pstart(20px) Fw(600) Fz(s)\" colspan=\"\"><fin-streamer active=\"\" class=\"\" data-field=\"regularMarketPrice\" data-pricehint=\"2\" data-symbol=\"COIN\" data-test=\"colorChange\" data-trend=\"none\" value=\"70.19\">70.19</fin-streamer></td><td aria-label=\"Change\" class=\"Va(m) Ta(end) Pstart(20px) Fw(600) Fz(s)\" colspan=\"\"><fin-streamer active=\"\" class=\"Fw(600)\" data-field=\"regularMarketChange\" data-pricehint=\"2\" data-symbol=\"COIN\" data-test=\"colorChange\" data-trend=\"txt\" value=\"4.060005\"><span class=\"C($positiveColor)\">+4.06</span></fin-streamer></td><td aria-label=\"% Change\" class=\"Va(m) Ta(end) Pstart(20px) Fw(600) Fz(s)\" colspan=\"\"><fin-streamer active=\"\" class=\"Fw(600)\" data-field=\"regularMarketChangePercent\" data-pricehint=\"2\" data-symbol=\"COIN\" data-test=\"colorChange\" data-trend=\"txt\" value=\"6.1394305\"><span class=\"C($positiveColor)\">+6.14%</span></fin-streamer></td><td aria-label=\"Volume\" class=\"Va(m) Ta(end) Pstart(20px) Fz(s)\" colspan=\"\"><fin-streamer active=\"\" class=\"\" data-field=\"regularMarketVolume\" data-pricehint=\"2\" data-symbol=\"COIN\" data-test=\"colorChange\" data-trend=\"none\" value=\"25221927\">25.222M</fin-streamer></td><td aria-label=\"Avg Vol (3 month)\" class=\"Va(m) Ta(end) Pstart(20px) Fz(s)\" colspan=\"\">20.241M</td><td aria-label=\"Market Cap\" class=\"Va(m) Ta(end) Pstart(20px) Pend(10px) W(120px) Fz(s)\" colspan=\"\"><fin-streamer active=\"\" class=\"\" data-field=\"marketCap\" data-pricehint=\"2\" data-symbol=\"COIN\" data-test=\"colorChange\" data-trend=\"none\" value=\"16247160832\">16.247B</fin-streamer></td><td aria-label=\"PE Ratio (TTM)\" class=\"Va(m) Ta(end) Pstart(20px) Fz(s)\" colspan=\"\"><span>N/A</span></td><td aria-label=\"52 Week Range\" class=\"Va(m) Ta(end) Pstart(20px) Pend(6px) Fz(s)\" colspan=\"\"><canvas style=\"width:140px;height:23px\"></canvas></td></tr><tr class=\"simpTblRow Bgc($hoverBgColor):h BdB Bdbc($seperatorColor) Bdbc($tableBorderBlue):h H(32px) Bgc($lv1BgColor)\"><td aria-label=\"Symbol\" class=\"Va(m) Ta(start) Pstart(6px) Pend(10px) Miw(90px) Start(0) Pend(10px) simpTblRow:h_Bgc($hoverBgColor) Pos(st) Bgc($lv3BgColor) Z(1) Bgc($lv1BgColor) Ta(start)! Fz(s)\" colspan=\"\"><label class=\"Ta(c) Pos(r) Va(tb) Pend(5px) D(n)--print\" data-id=\"portfolio-checkbox\"><input aria-label=\"Select WFC\" class=\"Pos(a) Op(0) checkbox\" type=\"checkbox\"/><svg class=\"Va(m)! H(16px) W(16px) checkbox:f+Stk($linkColor)! checkbox:f+Fill($linkColor)! Stk($plusGray) Fill($plusGray) Cur(p)\" data-icon=\"checkbox-unchecked\" height=\"16\" style=\"stroke-width:0;vertical-align:bottom\" viewbox=\"0 0 24 24\" width=\"16\"><path d=\"M3 3h18v18H3V3zm19-2H2c-.553 0-1 .448-1 1v20c0 .552.447 1 1 1h20c.552 0 1-.448 1-1V2c0-.552-.448-1-1-1z\"></path></svg></label><a class=\"Fw(600) C($linkColor)\" data-test=\"quoteLink\" href=\"/quote/WFC?p=WFC\" title=\"Wells Fargo &amp; Company\">WFC</a><div class=\"W(3px) Pos(a) Start(100%) T(0) H(100%) Bg($pfColumnFakeShadowGradient) Pe(n) Pend(5px)\"></div></td><td aria-label=\"Name\" class=\"Va(m) Ta(start) Px(10px) Fz(s)\" colspan=\"\">Wells Fargo &amp; Company</td><td aria-label=\"Price (Intraday)\" class=\"Va(m) Ta(end) Pstart(20px) Fw(600) Fz(s)\" colspan=\"\"><fin-streamer active=\"\" class=\"\" data-field=\"regularMarketPrice\" data-pricehint=\"2\" data-symbol=\"WFC\" data-test=\"colorChange\" data-trend=\"none\" value=\"39.37\">39.37</fin-streamer></td><td aria-label=\"Change\" class=\"Va(m) Ta(end) Pstart(20px) Fw(600) Fz(s)\" colspan=\"\"><fin-streamer active=\"\" class=\"Fw(600)\" data-field=\"regularMarketChange\" data-pricehint=\"2\" data-symbol=\"WFC\" data-test=\"colorChange\" data-trend=\"txt\" value=\"0.73999786\"><span class=\"C($positiveColor)\">+0.74</span></fin-streamer></td><td aria-label=\"% Change\" class=\"Va(m) Ta(end) Pstart(20px) Fw(600) Fz(s)\" colspan=\"\"><fin-streamer active=\"\" class=\"Fw(600)\" data-field=\"regularMarketChangePercent\" data-pricehint=\"2\" data-symbol=\"WFC\" data-test=\"colorChange\" data-trend=\"txt\" value=\"1.9156041\"><span class=\"C($positiveColor)\">+1.92%</span></fin-streamer></td><td aria-label=\"Volume\" class=\"Va(m) Ta(end) Pstart(20px) Fz(s)\" colspan=\"\"><fin-streamer active=\"\" class=\"\" data-field=\"regularMarketVolume\" data-pricehint=\"2\" data-symbol=\"WFC\" data-test=\"colorChange\" data-trend=\"none\" value=\"25089653\">25.09M</fin-streamer></td><td aria-label=\"Avg Vol (3 month)\" class=\"Va(m) Ta(end) Pstart(20px) Fz(s)\" colspan=\"\">23.943M</td><td aria-label=\"Market Cap\" class=\"Va(m) Ta(end) Pstart(20px) Pend(10px) W(120px) Fz(s)\" colspan=\"\"><fin-streamer active=\"\" class=\"\" data-field=\"marketCap\" data-pricehint=\"2\" data-symbol=\"WFC\" data-test=\"colorChange\" data-trend=\"none\" value=\"148704034816\">148.704B</fin-streamer></td><td aria-label=\"PE Ratio (TTM)\" class=\"Va(m) Ta(end) Pstart(20px) Fz(s)\" colspan=\"\">12.54</td><td aria-label=\"52 Week Range\" class=\"Va(m) Ta(end) Pstart(20px) Pend(6px) Fz(s)\" colspan=\"\"><canvas style=\"width:140px;height:23px\"></canvas></td></tr><tr class=\"simpTblRow Bgc($hoverBgColor):h BdB Bdbc($seperatorColor) Bdbc($tableBorderBlue):h H(32px) Bgc($lv2BgColor)\"><td aria-label=\"Symbol\" class=\"Va(m) Ta(start) Pstart(6px) Pend(10px) Miw(90px) Start(0) Pend(10px) simpTblRow:h_Bgc($hoverBgColor) Pos(st) Bgc($lv3BgColor) Z(1) Bgc($lv2BgColor) Ta(start)! Fz(s)\" colspan=\"\"><label class=\"Ta(c) Pos(r) Va(tb) Pend(5px) D(n)--print\" data-id=\"portfolio-checkbox\"><input aria-label=\"Select T\" class=\"Pos(a) Op(0) checkbox\" type=\"checkbox\"/><svg class=\"Va(m)! H(16px) W(16px) checkbox:f+Stk($linkColor)! checkbox:f+Fill($linkColor)! Stk($plusGray) Fill($plusGray) Cur(p)\" data-icon=\"checkbox-unchecked\" height=\"16\" style=\"stroke-width:0;vertical-align:bottom\" viewbox=\"0 0 24 24\" width=\"16\"><path d=\"M3 3h18v18H3V3zm19-2H2c-.553 0-1 .448-1 1v20c0 .552.447 1 1 1h20c.552 0 1-.448 1-1V2c0-.552-.448-1-1-1z\"></path></svg></label><a class=\"Fw(600) C($linkColor)\" data-test=\"quoteLink\" href=\"/quote/T?p=T\" title=\"AT&amp;T Inc.\">T</a><div class=\"W(3px) Pos(a) Start(100%) T(0) H(100%) Bg($pfColumnFakeShadowGradient) Pe(n) Pend(5px)\"></div></td><td aria-label=\"Name\" class=\"Va(m) Ta(start) Px(10px) Fz(s)\" colspan=\"\">AT&amp;T Inc.</td><td aria-label=\"Price (Intraday)\" class=\"Va(m) Ta(end) Pstart(20px) Fw(600) Fz(s)\" colspan=\"\"><fin-streamer active=\"\" class=\"\" data-field=\"regularMarketPrice\" data-pricehint=\"2\" data-symbol=\"T\" data-test=\"colorChange\" data-trend=\"none\" value=\"19.69\">19.69</fin-streamer></td><td aria-label=\"Change\" class=\"Va(m) Ta(end) Pstart(20px) Fw(600) Fz(s)\" colspan=\"\"><fin-streamer active=\"\" class=\"Fw(600)\" data-field=\"regularMarketChange\" data-pricehint=\"2\" data-symbol=\"T\" data-test=\"colorChange\" data-trend=\"txt\" value=\"0.12000084\"><span class=\"C($positiveColor)\">+0.12</span></fin-streamer></td><td aria-label=\"% Change\" class=\"Va(m) Ta(end) Pstart(20px) Fw(600) Fz(s)\" colspan=\"\"><fin-streamer active=\"\" class=\"Fw(600)\" data-field=\"regularMarketChangePercent\" data-pricehint=\"2\" data-symbol=\"T\" data-test=\"colorChange\" data-trend=\"txt\" value=\"0.61318773\"><span class=\"C($positiveColor)\">+0.61%</span></fin-streamer></td><td aria-label=\"Volume\" class=\"Va(m) Ta(end) Pstart(20px) Fz(s)\" colspan=\"\"><fin-streamer active=\"\" class=\"\" data-field=\"regularMarketVolume\" data-pricehint=\"2\" data-symbol=\"T\" data-test=\"colorChange\" data-trend=\"none\" value=\"24050010\">24.05M</fin-streamer></td><td aria-label=\"Avg Vol (3 month)\" class=\"Va(m) Ta(end) Pstart(20px) Fz(s)\" colspan=\"\">31.385M</td><td aria-label=\"Market Cap\" class=\"Va(m) Ta(end) Pstart(20px) Pend(10px) W(120px) Fz(s)\" colspan=\"\"><fin-streamer active=\"\" class=\"\" data-field=\"marketCap\" data-pricehint=\"2\" data-symbol=\"T\" data-test=\"colorChange\" data-trend=\"none\" value=\"140852822016\">140.853B</fin-streamer></td><td aria-label=\"PE Ratio (TTM)\" class=\"Va(m) Ta(end) Pstart(20px) Fz(s)\" colspan=\"\"><span>N/A</span></td><td aria-label=\"52 Week Range\" class=\"Va(m) Ta(end) Pstart(20px) Pend(6px) Fz(s)\" colspan=\"\"><canvas style=\"width:140px;height:23px\"></canvas></td></tr><tr class=\"simpTblRow Bgc($hoverBgColor):h BdB Bdbc($seperatorColor) Bdbc($tableBorderBlue):h H(32px) Bgc($lv1BgColor)\"><td aria-label=\"Symbol\" class=\"Va(m) Ta(start) Pstart(6px) Pend(10px) Miw(90px) Start(0) Pend(10px) simpTblRow:h_Bgc($hoverBgColor) Pos(st) Bgc($lv3BgColor) Z(1) Bgc($lv1BgColor) Ta(start)! Fz(s)\" colspan=\"\"><label class=\"Ta(c) Pos(r) Va(tb) Pend(5px) D(n)--print\" data-id=\"portfolio-checkbox\"><input aria-label=\"Select CCL\" class=\"Pos(a) Op(0) checkbox\" type=\"checkbox\"/><svg class=\"Va(m)! H(16px) W(16px) checkbox:f+Stk($linkColor)! checkbox:f+Fill($linkColor)! Stk($plusGray) Fill($plusGray) Cur(p)\" data-icon=\"checkbox-unchecked\" height=\"16\" style=\"stroke-width:0;vertical-align:bottom\" viewbox=\"0 0 24 24\" width=\"16\"><path d=\"M3 3h18v18H3V3zm19-2H2c-.553 0-1 .448-1 1v20c0 .552.447 1 1 1h20c.552 0 1-.448 1-1V2c0-.552-.448-1-1-1z\"></path></svg></label><a class=\"Fw(600) C($linkColor)\" data-test=\"quoteLink\" href=\"/quote/CCL?p=CCL\" title=\"Carnival Corporation &amp; plc\">CCL</a><div class=\"W(3px) Pos(a) Start(100%) T(0) H(100%) Bg($pfColumnFakeShadowGradient) Pe(n) Pend(5px)\"></div></td><td aria-label=\"Name\" class=\"Va(m) Ta(start) Px(10px) Fz(s)\" colspan=\"\">Carnival Corporation &amp; plc</td><td aria-label=\"Price (Intraday)\" class=\"Va(m) Ta(end) Pstart(20px) Fw(600) Fz(s)\" colspan=\"\"><fin-streamer active=\"\" class=\"\" data-field=\"regularMarketPrice\" data-pricehint=\"2\" data-symbol=\"CCL\" data-test=\"colorChange\" data-trend=\"none\" value=\"10.04\">10.04</fin-streamer></td><td aria-label=\"Change\" class=\"Va(m) Ta(end) Pstart(20px) Fw(600) Fz(s)\" colspan=\"\"><fin-streamer active=\"\" class=\"Fw(600)\" data-field=\"regularMarketChange\" data-pricehint=\"2\" data-symbol=\"CCL\" data-test=\"colorChange\" data-trend=\"txt\" value=\"0.17000008\"><span class=\"C($positiveColor)\">+0.17</span></fin-streamer></td><td aria-label=\"% Change\" class=\"Va(m) Ta(end) Pstart(20px) Fw(600) Fz(s)\" colspan=\"\"><fin-streamer active=\"\" class=\"Fw(600)\" data-field=\"regularMarketChangePercent\" data-pricehint=\"2\" data-symbol=\"CCL\" data-test=\"colorChange\" data-trend=\"txt\" value=\"1.7223918\"><span class=\"C($positiveColor)\">+1.72%</span></fin-streamer></td><td aria-label=\"Volume\" class=\"Va(m) Ta(end) Pstart(20px) Fz(s)\" colspan=\"\"><fin-streamer active=\"\" class=\"\" data-field=\"regularMarketVolume\" data-pricehint=\"2\" data-symbol=\"CCL\" data-test=\"colorChange\" data-trend=\"none\" value=\"25833595\">25.834M</fin-streamer></td><td aria-label=\"Avg Vol (3 month)\" class=\"Va(m) Ta(end) Pstart(20px) Fz(s)\" colspan=\"\">39.952M</td><td aria-label=\"Market Cap\" class=\"Va(m) Ta(end) Pstart(20px) Pend(10px) W(120px) Fz(s)\" colspan=\"\"><fin-streamer active=\"\" class=\"\" data-field=\"marketCap\" data-pricehint=\"2\" data-symbol=\"CCL\" data-test=\"colorChange\" data-trend=\"none\" value=\"13080312832\">13.08B</fin-streamer></td><td aria-label=\"PE Ratio (TTM)\" class=\"Va(m) Ta(end) Pstart(20px) Fz(s)\" colspan=\"\"><span>N/A</span></td><td aria-label=\"52 Week Range\" class=\"Va(m) Ta(end) Pstart(20px) Pend(6px) Fz(s)\" colspan=\"\"><canvas style=\"width:140px;height:23px\"></canvas></td></tr><tr class=\"simpTblRow Bgc($hoverBgColor):h BdB Bdbc($seperatorColor) Bdbc($tableBorderBlue):h H(32px) Bgc($lv2BgColor)\"><td aria-label=\"Symbol\" class=\"Va(m) Ta(start) Pstart(6px) Pend(10px) Miw(90px) Start(0) Pend(10px) simpTblRow:h_Bgc($hoverBgColor) Pos(st) Bgc($lv3BgColor) Z(1) Bgc($lv2BgColor) Ta(start)! Fz(s)\" colspan=\"\"><label class=\"Ta(c) Pos(r) Va(tb) Pend(5px) D(n)--print\" data-id=\"portfolio-checkbox\"><input aria-label=\"Select PBR\" class=\"Pos(a) Op(0) checkbox\" type=\"checkbox\"/><svg class=\"Va(m)! H(16px) W(16px) checkbox:f+Stk($linkColor)! checkbox:f+Fill($linkColor)! Stk($plusGray) Fill($plusGray) Cur(p)\" data-icon=\"checkbox-unchecked\" height=\"16\" style=\"stroke-width:0;vertical-align:bottom\" viewbox=\"0 0 24 24\" width=\"16\"><path d=\"M3 3h18v18H3V3zm19-2H2c-.553 0-1 .448-1 1v20c0 .552.447 1 1 1h20c.552 0 1-.448 1-1V2c0-.552-.448-1-1-1z\"></path></svg></label><a class=\"Fw(600) C($linkColor)\" data-test=\"quoteLink\" href=\"/quote/PBR?p=PBR\" title=\"Petróleo Brasileiro S.A. - Petrobras\">PBR</a><div class=\"W(3px) Pos(a) Start(100%) T(0) H(100%) Bg($pfColumnFakeShadowGradient) Pe(n) Pend(5px)\"></div></td><td aria-label=\"Name\" class=\"Va(m) Ta(start) Px(10px) Fz(s)\" colspan=\"\">Petróleo Brasileiro S.A. - Petrobras</td><td aria-label=\"Price (Intraday)\" class=\"Va(m) Ta(end) Pstart(20px) Fw(600) Fz(s)\" colspan=\"\"><fin-streamer active=\"\" class=\"\" data-field=\"regularMarketPrice\" data-pricehint=\"2\" data-symbol=\"PBR\" data-test=\"colorChange\" data-trend=\"none\" value=\"11.57\">11.57</fin-streamer></td><td aria-label=\"Change\" class=\"Va(m) Ta(end) Pstart(20px) Fw(600) Fz(s)\" colspan=\"\"><fin-streamer active=\"\" class=\"Fw(600)\" data-field=\"regularMarketChange\" data-pricehint=\"2\" data-symbol=\"PBR\" data-test=\"colorChange\" data-trend=\"txt\" value=\"0.6700001\"><span class=\"C($positiveColor)\">+0.67</span></fin-streamer></td><td aria-label=\"% Change\" class=\"Va(m) Ta(end) Pstart(20px) Fw(600) Fz(s)\" colspan=\"\"><fin-streamer active=\"\" class=\"Fw(600)\" data-field=\"regularMarketChangePercent\" data-pricehint=\"2\" data-symbol=\"PBR\" data-test=\"colorChange\" data-trend=\"txt\" value=\"6.14679\"><span class=\"C($positiveColor)\">+6.15%</span></fin-streamer></td><td aria-label=\"Volume\" class=\"Va(m) Ta(end) Pstart(20px) Fz(s)\" colspan=\"\"><fin-streamer active=\"\" class=\"\" data-field=\"regularMarketVolume\" data-pricehint=\"2\" data-symbol=\"PBR\" data-test=\"colorChange\" data-trend=\"none\" value=\"23111907\">23.112M</fin-streamer></td><td aria-label=\"Avg Vol (3 month)\" class=\"Va(m) Ta(end) Pstart(20px) Fz(s)\" colspan=\"\">22.632M</td><td aria-label=\"Market Cap\" class=\"Va(m) Ta(end) Pstart(20px) Pend(10px) W(120px) Fz(s)\" colspan=\"\"><fin-streamer active=\"\" class=\"\" data-field=\"marketCap\" data-pricehint=\"2\" data-symbol=\"PBR\" data-test=\"colorChange\" data-trend=\"none\" value=\"75460698112\">75.461B</fin-streamer></td><td aria-label=\"PE Ratio (TTM)\" class=\"Va(m) Ta(end) Pstart(20px) Fz(s)\" colspan=\"\">2.02</td><td aria-label=\"52 Week Range\" class=\"Va(m) Ta(end) Pstart(20px) Pend(6px) Fz(s)\" colspan=\"\"><canvas style=\"width:140px;height:23px\"></canvas></td></tr></tbody>"
            ]
          },
          "execution_count": 32,
          "metadata": {},
          "output_type": "execute_result"
        }
      ],
      "source": [
        "stock_table=soup.find(\"tbody\")\n",
        "stock_table"
      ]
    },
    {
      "cell_type": "code",
      "execution_count": null,
      "id": "ac96cfb0",
      "metadata": {
        "id": "ac96cfb0",
        "outputId": "675b7bda-db5c-477e-e36d-c4909ff3c861"
      },
      "outputs": [
        {
          "name": "stdout",
          "output_type": "stream",
          "text": [
            "<tr class=\"simpTblRow Bgc($hoverBgColor):h BdB Bdbc($seperatorColor) Bdbc($tableBorderBlue):h H(32px) Bgc($lv2BgColor)\"><td aria-label=\"Symbol\" class=\"Va(m) Ta(start) Pstart(6px) Pend(10px) Miw(90px) Start(0) Pend(10px) simpTblRow:h_Bgc($hoverBgColor) Pos(st) Bgc($lv3BgColor) Z(1) Bgc($lv2BgColor) Ta(start)! Fz(s)\" colspan=\"\"><label class=\"Ta(c) Pos(r) Va(tb) Pend(5px) D(n)--print\" data-id=\"portfolio-checkbox\"><input aria-label=\"Select TSLA\" class=\"Pos(a) Op(0) checkbox\" type=\"checkbox\"/><svg class=\"Va(m)! H(16px) W(16px) checkbox:f+Stk($linkColor)! checkbox:f+Fill($linkColor)! Stk($plusGray) Fill($plusGray) Cur(p)\" data-icon=\"checkbox-unchecked\" height=\"16\" style=\"stroke-width:0;vertical-align:bottom\" viewbox=\"0 0 24 24\" width=\"16\"><path d=\"M3 3h18v18H3V3zm19-2H2c-.553 0-1 .448-1 1v20c0 .552.447 1 1 1h20c.552 0 1-.448 1-1V2c0-.552-.448-1-1-1z\"></path></svg></label><a class=\"Fw(600) C($linkColor)\" data-test=\"quoteLink\" href=\"/quote/TSLA?p=TSLA\" title=\"Tesla, Inc.\">TSLA</a><div class=\"W(3px) Pos(a) Start(100%) T(0) H(100%) Bg($pfColumnFakeShadowGradient) Pe(n) Pend(5px)\"></div></td><td aria-label=\"Name\" class=\"Va(m) Ta(start) Px(10px) Fz(s)\" colspan=\"\">Tesla, Inc.</td><td aria-label=\"Price (Intraday)\" class=\"Va(m) Ta(end) Pstart(20px) Fw(600) Fz(s)\" colspan=\"\"><fin-streamer active=\"\" class=\"\" data-field=\"regularMarketPrice\" data-pricehint=\"2\" data-symbol=\"TSLA\" data-test=\"colorChange\" data-trend=\"none\" value=\"186.79\">186.79</fin-streamer></td><td aria-label=\"Change\" class=\"Va(m) Ta(end) Pstart(20px) Fw(600) Fz(s)\" colspan=\"\"><fin-streamer active=\"\" class=\"Fw(600)\" data-field=\"regularMarketChange\" data-pricehint=\"2\" data-symbol=\"TSLA\" data-test=\"colorChange\" data-trend=\"txt\" value=\"2.2799988\"><span class=\"C($positiveColor)\">+2.28</span></fin-streamer></td><td aria-label=\"% Change\" class=\"Va(m) Ta(end) Pstart(20px) Fw(600) Fz(s)\" colspan=\"\"><fin-streamer active=\"\" class=\"Fw(600)\" data-field=\"regularMarketChangePercent\" data-pricehint=\"2\" data-symbol=\"TSLA\" data-test=\"colorChange\" data-trend=\"txt\" value=\"1.2357048\"><span class=\"C($positiveColor)\">+1.24%</span></fin-streamer></td><td aria-label=\"Volume\" class=\"Va(m) Ta(end) Pstart(20px) Fz(s)\" colspan=\"\"><fin-streamer active=\"\" class=\"\" data-field=\"regularMarketVolume\" data-pricehint=\"2\" data-symbol=\"TSLA\" data-test=\"colorChange\" data-trend=\"none\" value=\"115770892\">115.771M</fin-streamer></td><td aria-label=\"Avg Vol (3 month)\" class=\"Va(m) Ta(end) Pstart(20px) Fz(s)\" colspan=\"\">169.054M</td><td aria-label=\"Market Cap\" class=\"Va(m) Ta(end) Pstart(20px) Pend(10px) W(120px) Fz(s)\" colspan=\"\"><fin-streamer active=\"\" class=\"\" data-field=\"marketCap\" data-pricehint=\"2\" data-symbol=\"TSLA\" data-test=\"colorChange\" data-trend=\"none\" value=\"591995404288\">591.995B</fin-streamer></td><td aria-label=\"PE Ratio (TTM)\" class=\"Va(m) Ta(end) Pstart(20px) Fz(s)\" colspan=\"\">51.74</td><td aria-label=\"52 Week Range\" class=\"Va(m) Ta(end) Pstart(20px) Pend(6px) Fz(s)\" colspan=\"\"><canvas style=\"width:140px;height:23px\"></canvas></td></tr>\n",
            "<tr class=\"simpTblRow Bgc($hoverBgColor):h BdB Bdbc($seperatorColor) Bdbc($tableBorderBlue):h H(32px) Bgc($lv1BgColor)\"><td aria-label=\"Symbol\" class=\"Va(m) Ta(start) Pstart(6px) Pend(10px) Miw(90px) Start(0) Pend(10px) simpTblRow:h_Bgc($hoverBgColor) Pos(st) Bgc($lv3BgColor) Z(1) Bgc($lv1BgColor) Ta(start)! Fz(s)\" colspan=\"\"><label class=\"Ta(c) Pos(r) Va(tb) Pend(5px) D(n)--print\" data-id=\"portfolio-checkbox\"><input aria-label=\"Select AMZN\" class=\"Pos(a) Op(0) checkbox\" type=\"checkbox\"/><svg class=\"Va(m)! H(16px) W(16px) checkbox:f+Stk($linkColor)! checkbox:f+Fill($linkColor)! Stk($plusGray) Fill($plusGray) Cur(p)\" data-icon=\"checkbox-unchecked\" height=\"16\" style=\"stroke-width:0;vertical-align:bottom\" viewbox=\"0 0 24 24\" width=\"16\"><path d=\"M3 3h18v18H3V3zm19-2H2c-.553 0-1 .448-1 1v20c0 .552.447 1 1 1h20c.552 0 1-.448 1-1V2c0-.552-.448-1-1-1z\"></path></svg></label><a class=\"Fw(600) C($linkColor)\" data-test=\"quoteLink\" href=\"/quote/AMZN?p=AMZN\" title=\"Amazon.com, Inc.\">AMZN</a><div class=\"W(3px) Pos(a) Start(100%) T(0) H(100%) Bg($pfColumnFakeShadowGradient) Pe(n) Pend(5px)\"></div></td><td aria-label=\"Name\" class=\"Va(m) Ta(start) Px(10px) Fz(s)\" colspan=\"\">Amazon.com, Inc.</td><td aria-label=\"Price (Intraday)\" class=\"Va(m) Ta(end) Pstart(20px) Fw(600) Fz(s)\" colspan=\"\"><fin-streamer active=\"\" class=\"\" data-field=\"regularMarketPrice\" data-pricehint=\"2\" data-symbol=\"AMZN\" data-test=\"colorChange\" data-trend=\"none\" value=\"99.92\">99.92</fin-streamer></td><td aria-label=\"Change\" class=\"Va(m) Ta(end) Pstart(20px) Fw(600) Fz(s)\" colspan=\"\"><fin-streamer active=\"\" class=\"Fw(600)\" data-field=\"regularMarketChange\" data-pricehint=\"2\" data-symbol=\"AMZN\" data-test=\"colorChange\" data-trend=\"txt\" value=\"-2.25\"><span class=\"C($negativeColor)\">-2.25</span></fin-streamer></td><td aria-label=\"% Change\" class=\"Va(m) Ta(end) Pstart(20px) Fw(600) Fz(s)\" colspan=\"\"><fin-streamer active=\"\" class=\"Fw(600)\" data-field=\"regularMarketChangePercent\" data-pricehint=\"2\" data-symbol=\"AMZN\" data-test=\"colorChange\" data-trend=\"txt\" value=\"-2.202212\"><span class=\"C($negativeColor)\">-2.20%</span></fin-streamer></td><td aria-label=\"Volume\" class=\"Va(m) Ta(end) Pstart(20px) Fz(s)\" colspan=\"\"><fin-streamer active=\"\" class=\"\" data-field=\"regularMarketVolume\" data-pricehint=\"2\" data-symbol=\"AMZN\" data-test=\"colorChange\" data-trend=\"none\" value=\"60417847\">60.418M</fin-streamer></td><td aria-label=\"Avg Vol (3 month)\" class=\"Va(m) Ta(end) Pstart(20px) Fz(s)\" colspan=\"\">64.921M</td><td aria-label=\"Market Cap\" class=\"Va(m) Ta(end) Pstart(20px) Pend(10px) W(120px) Fz(s)\" colspan=\"\"><fin-streamer active=\"\" class=\"\" data-field=\"marketCap\" data-pricehint=\"2\" data-symbol=\"AMZN\" data-test=\"colorChange\" data-trend=\"none\" value=\"1023910215680\">1.024T</fin-streamer></td><td aria-label=\"PE Ratio (TTM)\" class=\"Va(m) Ta(end) Pstart(20px) Fz(s)\" colspan=\"\"><span>N/A</span></td><td aria-label=\"52 Week Range\" class=\"Va(m) Ta(end) Pstart(20px) Pend(6px) Fz(s)\" colspan=\"\"><canvas style=\"width:140px;height:23px\"></canvas></td></tr>\n",
            "<tr class=\"simpTblRow Bgc($hoverBgColor):h BdB Bdbc($seperatorColor) Bdbc($tableBorderBlue):h H(32px) Bgc($lv2BgColor)\"><td aria-label=\"Symbol\" class=\"Va(m) Ta(start) Pstart(6px) Pend(10px) Miw(90px) Start(0) Pend(10px) simpTblRow:h_Bgc($hoverBgColor) Pos(st) Bgc($lv3BgColor) Z(1) Bgc($lv2BgColor) Ta(start)! Fz(s)\" colspan=\"\"><label class=\"Ta(c) Pos(r) Va(tb) Pend(5px) D(n)--print\" data-id=\"portfolio-checkbox\"><input aria-label=\"Select F\" class=\"Pos(a) Op(0) checkbox\" type=\"checkbox\"/><svg class=\"Va(m)! H(16px) W(16px) checkbox:f+Stk($linkColor)! checkbox:f+Fill($linkColor)! Stk($plusGray) Fill($plusGray) Cur(p)\" data-icon=\"checkbox-unchecked\" height=\"16\" style=\"stroke-width:0;vertical-align:bottom\" viewbox=\"0 0 24 24\" width=\"16\"><path d=\"M3 3h18v18H3V3zm19-2H2c-.553 0-1 .448-1 1v20c0 .552.447 1 1 1h20c.552 0 1-.448 1-1V2c0-.552-.448-1-1-1z\"></path></svg></label><a class=\"Fw(600) C($linkColor)\" data-test=\"quoteLink\" href=\"/quote/F?p=F\" title=\"Ford Motor Company\">F</a><div class=\"W(3px) Pos(a) Start(100%) T(0) H(100%) Bg($pfColumnFakeShadowGradient) Pe(n) Pend(5px)\"></div></td><td aria-label=\"Name\" class=\"Va(m) Ta(start) Px(10px) Fz(s)\" colspan=\"\">Ford Motor Company</td><td aria-label=\"Price (Intraday)\" class=\"Va(m) Ta(end) Pstart(20px) Fw(600) Fz(s)\" colspan=\"\"><fin-streamer active=\"\" class=\"\" data-field=\"regularMarketPrice\" data-pricehint=\"2\" data-symbol=\"F\" data-test=\"colorChange\" data-trend=\"none\" value=\"12.87\">12.87</fin-streamer></td><td aria-label=\"Change\" class=\"Va(m) Ta(end) Pstart(20px) Fw(600) Fz(s)\" colspan=\"\"><fin-streamer active=\"\" class=\"Fw(600)\" data-field=\"regularMarketChange\" data-pricehint=\"2\" data-symbol=\"F\" data-test=\"colorChange\" data-trend=\"txt\" value=\"0.14999962\"><span class=\"C($positiveColor)\">+0.15</span></fin-streamer></td><td aria-label=\"% Change\" class=\"Va(m) Ta(end) Pstart(20px) Fw(600) Fz(s)\" colspan=\"\"><fin-streamer active=\"\" class=\"Fw(600)\" data-field=\"regularMarketChangePercent\" data-pricehint=\"2\" data-symbol=\"F\" data-test=\"colorChange\" data-trend=\"txt\" value=\"1.1792423\"><span class=\"C($positiveColor)\">+1.18%</span></fin-streamer></td><td aria-label=\"Volume\" class=\"Va(m) Ta(end) Pstart(20px) Fz(s)\" colspan=\"\"><fin-streamer active=\"\" class=\"\" data-field=\"regularMarketVolume\" data-pricehint=\"2\" data-symbol=\"F\" data-test=\"colorChange\" data-trend=\"none\" value=\"62949101\">62.949M</fin-streamer></td><td aria-label=\"Avg Vol (3 month)\" class=\"Va(m) Ta(end) Pstart(20px) Fz(s)\" colspan=\"\">70.066M</td><td aria-label=\"Market Cap\" class=\"Va(m) Ta(end) Pstart(20px) Pend(10px) W(120px) Fz(s)\" colspan=\"\"><fin-streamer active=\"\" class=\"\" data-field=\"marketCap\" data-pricehint=\"2\" data-symbol=\"F\" data-test=\"colorChange\" data-trend=\"none\" value=\"51479486464\">51.479B</fin-streamer></td><td aria-label=\"PE Ratio (TTM)\" class=\"Va(m) Ta(end) Pstart(20px) Fz(s)\" colspan=\"\"><span>N/A</span></td><td aria-label=\"52 Week Range\" class=\"Va(m) Ta(end) Pstart(20px) Pend(6px) Fz(s)\" colspan=\"\"><canvas style=\"width:140px;height:23px\"></canvas></td></tr>\n",
            "<tr class=\"simpTblRow Bgc($hoverBgColor):h BdB Bdbc($seperatorColor) Bdbc($tableBorderBlue):h H(32px) Bgc($lv1BgColor)\"><td aria-label=\"Symbol\" class=\"Va(m) Ta(start) Pstart(6px) Pend(10px) Miw(90px) Start(0) Pend(10px) simpTblRow:h_Bgc($hoverBgColor) Pos(st) Bgc($lv3BgColor) Z(1) Bgc($lv1BgColor) Ta(start)! Fz(s)\" colspan=\"\"><label class=\"Ta(c) Pos(r) Va(tb) Pend(5px) D(n)--print\" data-id=\"portfolio-checkbox\"><input aria-label=\"Select RIOT\" class=\"Pos(a) Op(0) checkbox\" type=\"checkbox\"/><svg class=\"Va(m)! H(16px) W(16px) checkbox:f+Stk($linkColor)! checkbox:f+Fill($linkColor)! Stk($plusGray) Fill($plusGray) Cur(p)\" data-icon=\"checkbox-unchecked\" height=\"16\" style=\"stroke-width:0;vertical-align:bottom\" viewbox=\"0 0 24 24\" width=\"16\"><path d=\"M3 3h18v18H3V3zm19-2H2c-.553 0-1 .448-1 1v20c0 .552.447 1 1 1h20c.552 0 1-.448 1-1V2c0-.552-.448-1-1-1z\"></path></svg></label><a class=\"Fw(600) C($linkColor)\" data-test=\"quoteLink\" href=\"/quote/RIOT?p=RIOT\" title=\"Riot Platforms, Inc.\">RIOT</a><div class=\"W(3px) Pos(a) Start(100%) T(0) H(100%) Bg($pfColumnFakeShadowGradient) Pe(n) Pend(5px)\"></div></td><td aria-label=\"Name\" class=\"Va(m) Ta(start) Px(10px) Fz(s)\" colspan=\"\">Riot Platforms, Inc.</td><td aria-label=\"Price (Intraday)\" class=\"Va(m) Ta(end) Pstart(20px) Fw(600) Fz(s)\" colspan=\"\"><fin-streamer active=\"\" class=\"\" data-field=\"regularMarketPrice\" data-pricehint=\"2\" data-symbol=\"RIOT\" data-test=\"colorChange\" data-trend=\"none\" value=\"12.38\">12.38</fin-streamer></td><td aria-label=\"Change\" class=\"Va(m) Ta(end) Pstart(20px) Fw(600) Fz(s)\" colspan=\"\"><fin-streamer active=\"\" class=\"Fw(600)\" data-field=\"regularMarketChange\" data-pricehint=\"2\" data-symbol=\"RIOT\" data-test=\"colorChange\" data-trend=\"txt\" value=\"1.8000002\"><span class=\"C($positiveColor)\">+1.80</span></fin-streamer></td><td aria-label=\"% Change\" class=\"Va(m) Ta(end) Pstart(20px) Fw(600) Fz(s)\" colspan=\"\"><fin-streamer active=\"\" class=\"Fw(600)\" data-field=\"regularMarketChangePercent\" data-pricehint=\"2\" data-symbol=\"RIOT\" data-test=\"colorChange\" data-trend=\"txt\" value=\"17.013233\"><span class=\"C($positiveColor)\">+17.01%</span></fin-streamer></td><td aria-label=\"Volume\" class=\"Va(m) Ta(end) Pstart(20px) Fz(s)\" colspan=\"\"><fin-streamer active=\"\" class=\"\" data-field=\"regularMarketVolume\" data-pricehint=\"2\" data-symbol=\"RIOT\" data-test=\"colorChange\" data-trend=\"none\" value=\"55029303\">55.029M</fin-streamer></td><td aria-label=\"Avg Vol (3 month)\" class=\"Va(m) Ta(end) Pstart(20px) Fz(s)\" colspan=\"\">18.738M</td><td aria-label=\"Market Cap\" class=\"Va(m) Ta(end) Pstart(20px) Pend(10px) W(120px) Fz(s)\" colspan=\"\"><fin-streamer active=\"\" class=\"\" data-field=\"marketCap\" data-pricehint=\"2\" data-symbol=\"RIOT\" data-test=\"colorChange\" data-trend=\"none\" value=\"2067200128\">2.067B</fin-streamer></td><td aria-label=\"PE Ratio (TTM)\" class=\"Va(m) Ta(end) Pstart(20px) Fz(s)\" colspan=\"\"><span>N/A</span></td><td aria-label=\"52 Week Range\" class=\"Va(m) Ta(end) Pstart(20px) Pend(6px) Fz(s)\" colspan=\"\"><canvas style=\"width:140px;height:23px\"></canvas></td></tr>\n",
            "<tr class=\"simpTblRow Bgc($hoverBgColor):h BdB Bdbc($seperatorColor) Bdbc($tableBorderBlue):h H(32px) Bgc($lv2BgColor)\"><td aria-label=\"Symbol\" class=\"Va(m) Ta(start) Pstart(6px) Pend(10px) Miw(90px) Start(0) Pend(10px) simpTblRow:h_Bgc($hoverBgColor) Pos(st) Bgc($lv3BgColor) Z(1) Bgc($lv2BgColor) Ta(start)! Fz(s)\" colspan=\"\"><label class=\"Ta(c) Pos(r) Va(tb) Pend(5px) D(n)--print\" data-id=\"portfolio-checkbox\"><input aria-label=\"Select BAC\" class=\"Pos(a) Op(0) checkbox\" type=\"checkbox\"/><svg class=\"Va(m)! H(16px) W(16px) checkbox:f+Stk($linkColor)! checkbox:f+Fill($linkColor)! Stk($plusGray) Fill($plusGray) Cur(p)\" data-icon=\"checkbox-unchecked\" height=\"16\" style=\"stroke-width:0;vertical-align:bottom\" viewbox=\"0 0 24 24\" width=\"16\"><path d=\"M3 3h18v18H3V3zm19-2H2c-.553 0-1 .448-1 1v20c0 .552.447 1 1 1h20c.552 0 1-.448 1-1V2c0-.552-.448-1-1-1z\"></path></svg></label><a class=\"Fw(600) C($linkColor)\" data-test=\"quoteLink\" href=\"/quote/BAC?p=BAC\" title=\"Bank of America Corporation\">BAC</a><div class=\"W(3px) Pos(a) Start(100%) T(0) H(100%) Bg($pfColumnFakeShadowGradient) Pe(n) Pend(5px)\"></div></td><td aria-label=\"Name\" class=\"Va(m) Ta(start) Px(10px) Fz(s)\" colspan=\"\">Bank of America Corporation</td><td aria-label=\"Price (Intraday)\" class=\"Va(m) Ta(end) Pstart(20px) Fw(600) Fz(s)\" colspan=\"\"><fin-streamer active=\"\" class=\"\" data-field=\"regularMarketPrice\" data-pricehint=\"2\" data-symbol=\"BAC\" data-test=\"colorChange\" data-trend=\"none\" value=\"28.71\">28.71</fin-streamer></td><td aria-label=\"Change\" class=\"Va(m) Ta(end) Pstart(20px) Fw(600) Fz(s)\" colspan=\"\"><fin-streamer active=\"\" class=\"Fw(600)\" data-field=\"regularMarketChange\" data-pricehint=\"2\" data-symbol=\"BAC\" data-test=\"colorChange\" data-trend=\"txt\" value=\"0.76999855\"><span class=\"C($positiveColor)\">+0.77</span></fin-streamer></td><td aria-label=\"% Change\" class=\"Va(m) Ta(end) Pstart(20px) Fw(600) Fz(s)\" colspan=\"\"><fin-streamer active=\"\" class=\"Fw(600)\" data-field=\"regularMarketChangePercent\" data-pricehint=\"2\" data-symbol=\"BAC\" data-test=\"colorChange\" data-trend=\"txt\" value=\"2.7559004\"><span class=\"C($positiveColor)\">+2.76%</span></fin-streamer></td><td aria-label=\"Volume\" class=\"Va(m) Ta(end) Pstart(20px) Fz(s)\" colspan=\"\"><fin-streamer active=\"\" class=\"\" data-field=\"regularMarketVolume\" data-pricehint=\"2\" data-symbol=\"BAC\" data-test=\"colorChange\" data-trend=\"none\" value=\"58295054\">58.295M</fin-streamer></td><td aria-label=\"Avg Vol (3 month)\" class=\"Va(m) Ta(end) Pstart(20px) Fz(s)\" colspan=\"\">57.968M</td><td aria-label=\"Market Cap\" class=\"Va(m) Ta(end) Pstart(20px) Pend(10px) W(120px) Fz(s)\" colspan=\"\"><fin-streamer active=\"\" class=\"\" data-field=\"marketCap\" data-pricehint=\"2\" data-symbol=\"BAC\" data-test=\"colorChange\" data-trend=\"none\" value=\"229659328512\">229.659B</fin-streamer></td><td aria-label=\"PE Ratio (TTM)\" class=\"Va(m) Ta(end) Pstart(20px) Fz(s)\" colspan=\"\">9.00</td><td aria-label=\"52 Week Range\" class=\"Va(m) Ta(end) Pstart(20px) Pend(6px) Fz(s)\" colspan=\"\"><canvas style=\"width:140px;height:23px\"></canvas></td></tr>\n",
            "<tr class=\"simpTblRow Bgc($hoverBgColor):h BdB Bdbc($seperatorColor) Bdbc($tableBorderBlue):h H(32px) Bgc($lv1BgColor)\"><td aria-label=\"Symbol\" class=\"Va(m) Ta(start) Pstart(6px) Pend(10px) Miw(90px) Start(0) Pend(10px) simpTblRow:h_Bgc($hoverBgColor) Pos(st) Bgc($lv3BgColor) Z(1) Bgc($lv1BgColor) Ta(start)! Fz(s)\" colspan=\"\"><label class=\"Ta(c) Pos(r) Va(tb) Pend(5px) D(n)--print\" data-id=\"portfolio-checkbox\"><input aria-label=\"Select AMD\" class=\"Pos(a) Op(0) checkbox\" type=\"checkbox\"/><svg class=\"Va(m)! H(16px) W(16px) checkbox:f+Stk($linkColor)! checkbox:f+Fill($linkColor)! Stk($plusGray) Fill($plusGray) Cur(p)\" data-icon=\"checkbox-unchecked\" height=\"16\" style=\"stroke-width:0;vertical-align:bottom\" viewbox=\"0 0 24 24\" width=\"16\"><path d=\"M3 3h18v18H3V3zm19-2H2c-.553 0-1 .448-1 1v20c0 .552.447 1 1 1h20c.552 0 1-.448 1-1V2c0-.552-.448-1-1-1z\"></path></svg></label><a class=\"Fw(600) C($linkColor)\" data-test=\"quoteLink\" href=\"/quote/AMD?p=AMD\" title=\"Advanced Micro Devices, Inc.\">AMD</a><div class=\"W(3px) Pos(a) Start(100%) T(0) H(100%) Bg($pfColumnFakeShadowGradient) Pe(n) Pend(5px)\"></div></td><td aria-label=\"Name\" class=\"Va(m) Ta(start) Px(10px) Fz(s)\" colspan=\"\">Advanced Micro Devices, Inc.</td><td aria-label=\"Price (Intraday)\" class=\"Va(m) Ta(end) Pstart(20px) Fw(600) Fz(s)\" colspan=\"\"><fin-streamer active=\"\" class=\"\" data-field=\"regularMarketPrice\" data-pricehint=\"2\" data-symbol=\"AMD\" data-test=\"colorChange\" data-trend=\"none\" value=\"94.03\">94.03</fin-streamer></td><td aria-label=\"Change\" class=\"Va(m) Ta(end) Pstart(20px) Fw(600) Fz(s)\" colspan=\"\"><fin-streamer active=\"\" class=\"Fw(600)\" data-field=\"regularMarketChange\" data-pricehint=\"2\" data-symbol=\"AMD\" data-test=\"colorChange\" data-trend=\"txt\" value=\"-1.4500046\"><span class=\"C($negativeColor)\">-1.45</span></fin-streamer></td><td aria-label=\"% Change\" class=\"Va(m) Ta(end) Pstart(20px) Fw(600) Fz(s)\" colspan=\"\"><fin-streamer active=\"\" class=\"Fw(600)\" data-field=\"regularMarketChangePercent\" data-pricehint=\"2\" data-symbol=\"AMD\" data-test=\"colorChange\" data-trend=\"txt\" value=\"-1.5186474\"><span class=\"C($negativeColor)\">-1.52%</span></fin-streamer></td><td aria-label=\"Volume\" class=\"Va(m) Ta(end) Pstart(20px) Fz(s)\" colspan=\"\"><fin-streamer active=\"\" class=\"\" data-field=\"regularMarketVolume\" data-pricehint=\"2\" data-symbol=\"AMD\" data-test=\"colorChange\" data-trend=\"none\" value=\"51935800\">51.936M</fin-streamer></td><td aria-label=\"Avg Vol (3 month)\" class=\"Va(m) Ta(end) Pstart(20px) Fz(s)\" colspan=\"\">62.438M</td><td aria-label=\"Market Cap\" class=\"Va(m) Ta(end) Pstart(20px) Pend(10px) W(120px) Fz(s)\" colspan=\"\"><fin-streamer active=\"\" class=\"\" data-field=\"marketCap\" data-pricehint=\"2\" data-symbol=\"AMD\" data-test=\"colorChange\" data-trend=\"none\" value=\"151519002624\">151.519B</fin-streamer></td><td aria-label=\"PE Ratio (TTM)\" class=\"Va(m) Ta(end) Pstart(20px) Fz(s)\" colspan=\"\">108.08</td><td aria-label=\"52 Week Range\" class=\"Va(m) Ta(end) Pstart(20px) Pend(6px) Fz(s)\" colspan=\"\"><canvas style=\"width:140px;height:23px\"></canvas></td></tr>\n",
            "<tr class=\"simpTblRow Bgc($hoverBgColor):h BdB Bdbc($seperatorColor) Bdbc($tableBorderBlue):h H(32px) Bgc($lv2BgColor)\"><td aria-label=\"Symbol\" class=\"Va(m) Ta(start) Pstart(6px) Pend(10px) Miw(90px) Start(0) Pend(10px) simpTblRow:h_Bgc($hoverBgColor) Pos(st) Bgc($lv3BgColor) Z(1) Bgc($lv2BgColor) Ta(start)! Fz(s)\" colspan=\"\"><label class=\"Ta(c) Pos(r) Va(tb) Pend(5px) D(n)--print\" data-id=\"portfolio-checkbox\"><input aria-label=\"Select BBD\" class=\"Pos(a) Op(0) checkbox\" type=\"checkbox\"/><svg class=\"Va(m)! H(16px) W(16px) checkbox:f+Stk($linkColor)! checkbox:f+Fill($linkColor)! Stk($plusGray) Fill($plusGray) Cur(p)\" data-icon=\"checkbox-unchecked\" height=\"16\" style=\"stroke-width:0;vertical-align:bottom\" viewbox=\"0 0 24 24\" width=\"16\"><path d=\"M3 3h18v18H3V3zm19-2H2c-.553 0-1 .448-1 1v20c0 .552.447 1 1 1h20c.552 0 1-.448 1-1V2c0-.552-.448-1-1-1z\"></path></svg></label><a class=\"Fw(600) C($linkColor)\" data-test=\"quoteLink\" href=\"/quote/BBD?p=BBD\" title=\"Banco Bradesco S.A.\">BBD</a><div class=\"W(3px) Pos(a) Start(100%) T(0) H(100%) Bg($pfColumnFakeShadowGradient) Pe(n) Pend(5px)\"></div></td><td aria-label=\"Name\" class=\"Va(m) Ta(start) Px(10px) Fz(s)\" colspan=\"\">Banco Bradesco S.A.</td><td aria-label=\"Price (Intraday)\" class=\"Va(m) Ta(end) Pstart(20px) Fw(600) Fz(s)\" colspan=\"\"><fin-streamer active=\"\" class=\"\" data-field=\"regularMarketPrice\" data-pricehint=\"4\" data-symbol=\"BBD\" data-test=\"colorChange\" data-trend=\"none\" value=\"2.78\">2.7800</fin-streamer></td><td aria-label=\"Change\" class=\"Va(m) Ta(end) Pstart(20px) Fw(600) Fz(s)\" colspan=\"\"><fin-streamer active=\"\" class=\"Fw(600)\" data-field=\"regularMarketChange\" data-pricehint=\"4\" data-symbol=\"BBD\" data-test=\"colorChange\" data-trend=\"txt\" value=\"0.16000009\"><span class=\"C($positiveColor)\">+0.1600</span></fin-streamer></td><td aria-label=\"% Change\" class=\"Va(m) Ta(end) Pstart(20px) Fw(600) Fz(s)\" colspan=\"\"><fin-streamer active=\"\" class=\"Fw(600)\" data-field=\"regularMarketChangePercent\" data-pricehint=\"4\" data-symbol=\"BBD\" data-test=\"colorChange\" data-trend=\"txt\" value=\"6.1068735\"><span class=\"C($positiveColor)\">+6.11%</span></fin-streamer></td><td aria-label=\"Volume\" class=\"Va(m) Ta(end) Pstart(20px) Fz(s)\" colspan=\"\"><fin-streamer active=\"\" class=\"\" data-field=\"regularMarketVolume\" data-pricehint=\"4\" data-symbol=\"BBD\" data-test=\"colorChange\" data-trend=\"none\" value=\"46336767\">46.337M</fin-streamer></td><td aria-label=\"Avg Vol (3 month)\" class=\"Va(m) Ta(end) Pstart(20px) Fz(s)\" colspan=\"\">32.31M</td><td aria-label=\"Market Cap\" class=\"Va(m) Ta(end) Pstart(20px) Pend(10px) W(120px) Fz(s)\" colspan=\"\"><fin-streamer active=\"\" class=\"\" data-field=\"marketCap\" data-pricehint=\"4\" data-symbol=\"BBD\" data-test=\"colorChange\" data-trend=\"none\" value=\"29585313792\">29.585B</fin-streamer></td><td aria-label=\"PE Ratio (TTM)\" class=\"Va(m) Ta(end) Pstart(20px) Fz(s)\" colspan=\"\">7.51</td><td aria-label=\"52 Week Range\" class=\"Va(m) Ta(end) Pstart(20px) Pend(6px) Fz(s)\" colspan=\"\"><canvas style=\"width:140px;height:23px\"></canvas></td></tr>\n",
            "<tr class=\"simpTblRow Bgc($hoverBgColor):h BdB Bdbc($seperatorColor) Bdbc($tableBorderBlue):h H(32px) Bgc($lv1BgColor)\"><td aria-label=\"Symbol\" class=\"Va(m) Ta(start) Pstart(6px) Pend(10px) Miw(90px) Start(0) Pend(10px) simpTblRow:h_Bgc($hoverBgColor) Pos(st) Bgc($lv3BgColor) Z(1) Bgc($lv1BgColor) Ta(start)! Fz(s)\" colspan=\"\"><label class=\"Ta(c) Pos(r) Va(tb) Pend(5px) D(n)--print\" data-id=\"portfolio-checkbox\"><input aria-label=\"Select NIO\" class=\"Pos(a) Op(0) checkbox\" type=\"checkbox\"/><svg class=\"Va(m)! H(16px) W(16px) checkbox:f+Stk($linkColor)! checkbox:f+Fill($linkColor)! Stk($plusGray) Fill($plusGray) Cur(p)\" data-icon=\"checkbox-unchecked\" height=\"16\" style=\"stroke-width:0;vertical-align:bottom\" viewbox=\"0 0 24 24\" width=\"16\"><path d=\"M3 3h18v18H3V3zm19-2H2c-.553 0-1 .448-1 1v20c0 .552.447 1 1 1h20c.552 0 1-.448 1-1V2c0-.552-.448-1-1-1z\"></path></svg></label><a class=\"Fw(600) C($linkColor)\" data-test=\"quoteLink\" href=\"/quote/NIO?p=NIO\" title=\"NIO Inc.\">NIO</a><div class=\"W(3px) Pos(a) Start(100%) T(0) H(100%) Bg($pfColumnFakeShadowGradient) Pe(n) Pend(5px)\"></div></td><td aria-label=\"Name\" class=\"Va(m) Ta(start) Px(10px) Fz(s)\" colspan=\"\">NIO Inc.</td><td aria-label=\"Price (Intraday)\" class=\"Va(m) Ta(end) Pstart(20px) Fw(600) Fz(s)\" colspan=\"\"><fin-streamer active=\"\" class=\"\" data-field=\"regularMarketPrice\" data-pricehint=\"2\" data-symbol=\"NIO\" data-test=\"colorChange\" data-trend=\"none\" value=\"9.52\">9.52</fin-streamer></td><td aria-label=\"Change\" class=\"Va(m) Ta(end) Pstart(20px) Fw(600) Fz(s)\" colspan=\"\"><fin-streamer active=\"\" class=\"Fw(600)\" data-field=\"regularMarketChange\" data-pricehint=\"2\" data-symbol=\"NIO\" data-test=\"colorChange\" data-trend=\"txt\" value=\"0.47000027\"><span class=\"C($positiveColor)\">+0.47</span></fin-streamer></td><td aria-label=\"% Change\" class=\"Va(m) Ta(end) Pstart(20px) Fw(600) Fz(s)\" colspan=\"\"><fin-streamer active=\"\" class=\"Fw(600)\" data-field=\"regularMarketChangePercent\" data-pricehint=\"2\" data-symbol=\"NIO\" data-test=\"colorChange\" data-trend=\"txt\" value=\"5.193373\"><span class=\"C($positiveColor)\">+5.19%</span></fin-streamer></td><td aria-label=\"Volume\" class=\"Va(m) Ta(end) Pstart(20px) Fz(s)\" colspan=\"\"><fin-streamer active=\"\" class=\"\" data-field=\"regularMarketVolume\" data-pricehint=\"2\" data-symbol=\"NIO\" data-test=\"colorChange\" data-trend=\"none\" value=\"44158177\">44.158M</fin-streamer></td><td aria-label=\"Avg Vol (3 month)\" class=\"Va(m) Ta(end) Pstart(20px) Fz(s)\" colspan=\"\">44.303M</td><td aria-label=\"Market Cap\" class=\"Va(m) Ta(end) Pstart(20px) Pend(10px) W(120px) Fz(s)\" colspan=\"\"><fin-streamer active=\"\" class=\"\" data-field=\"marketCap\" data-pricehint=\"2\" data-symbol=\"NIO\" data-test=\"colorChange\" data-trend=\"none\" value=\"15903447040\">15.903B</fin-streamer></td><td aria-label=\"PE Ratio (TTM)\" class=\"Va(m) Ta(end) Pstart(20px) Fz(s)\" colspan=\"\"><span>N/A</span></td><td aria-label=\"52 Week Range\" class=\"Va(m) Ta(end) Pstart(20px) Pend(6px) Fz(s)\" colspan=\"\"><canvas style=\"width:140px;height:23px\"></canvas></td></tr>\n",
            "<tr class=\"simpTblRow Bgc($hoverBgColor):h BdB Bdbc($seperatorColor) Bdbc($tableBorderBlue):h H(32px) Bgc($lv2BgColor)\"><td aria-label=\"Symbol\" class=\"Va(m) Ta(start) Pstart(6px) Pend(10px) Miw(90px) Start(0) Pend(10px) simpTblRow:h_Bgc($hoverBgColor) Pos(st) Bgc($lv3BgColor) Z(1) Bgc($lv2BgColor) Ta(start)! Fz(s)\" colspan=\"\"><label class=\"Ta(c) Pos(r) Va(tb) Pend(5px) D(n)--print\" data-id=\"portfolio-checkbox\"><input aria-label=\"Select ITUB\" class=\"Pos(a) Op(0) checkbox\" type=\"checkbox\"/><svg class=\"Va(m)! H(16px) W(16px) checkbox:f+Stk($linkColor)! checkbox:f+Fill($linkColor)! Stk($plusGray) Fill($plusGray) Cur(p)\" data-icon=\"checkbox-unchecked\" height=\"16\" style=\"stroke-width:0;vertical-align:bottom\" viewbox=\"0 0 24 24\" width=\"16\"><path d=\"M3 3h18v18H3V3zm19-2H2c-.553 0-1 .448-1 1v20c0 .552.447 1 1 1h20c.552 0 1-.448 1-1V2c0-.552-.448-1-1-1z\"></path></svg></label><a class=\"Fw(600) C($linkColor)\" data-test=\"quoteLink\" href=\"/quote/ITUB?p=ITUB\" title=\"Itaú Unibanco Holding S.A.\">ITUB</a><div class=\"W(3px) Pos(a) Start(100%) T(0) H(100%) Bg($pfColumnFakeShadowGradient) Pe(n) Pend(5px)\"></div></td><td aria-label=\"Name\" class=\"Va(m) Ta(start) Px(10px) Fz(s)\" colspan=\"\">Itaú Unibanco Holding S.A.</td><td aria-label=\"Price (Intraday)\" class=\"Va(m) Ta(end) Pstart(20px) Fw(600) Fz(s)\" colspan=\"\"><fin-streamer active=\"\" class=\"\" data-field=\"regularMarketPrice\" data-pricehint=\"2\" data-symbol=\"ITUB\" data-test=\"colorChange\" data-trend=\"none\" value=\"5.07\">5.07</fin-streamer></td><td aria-label=\"Change\" class=\"Va(m) Ta(end) Pstart(20px) Fw(600) Fz(s)\" colspan=\"\"><fin-streamer active=\"\" class=\"Fw(600)\" data-field=\"regularMarketChange\" data-pricehint=\"2\" data-symbol=\"ITUB\" data-test=\"colorChange\" data-trend=\"txt\" value=\"0.24000025\"><span class=\"C($positiveColor)\">+0.24</span></fin-streamer></td><td aria-label=\"% Change\" class=\"Va(m) Ta(end) Pstart(20px) Fw(600) Fz(s)\" colspan=\"\"><fin-streamer active=\"\" class=\"Fw(600)\" data-field=\"regularMarketChangePercent\" data-pricehint=\"2\" data-symbol=\"ITUB\" data-test=\"colorChange\" data-trend=\"txt\" value=\"4.9689493\"><span class=\"C($positiveColor)\">+4.97%</span></fin-streamer></td><td aria-label=\"Volume\" class=\"Va(m) Ta(end) Pstart(20px) Fz(s)\" colspan=\"\"><fin-streamer active=\"\" class=\"\" data-field=\"regularMarketVolume\" data-pricehint=\"2\" data-symbol=\"ITUB\" data-test=\"colorChange\" data-trend=\"none\" value=\"44494606\">44.495M</fin-streamer></td><td aria-label=\"Avg Vol (3 month)\" class=\"Va(m) Ta(end) Pstart(20px) Fz(s)\" colspan=\"\">33.258M</td><td aria-label=\"Market Cap\" class=\"Va(m) Ta(end) Pstart(20px) Pend(10px) W(120px) Fz(s)\" colspan=\"\"><fin-streamer active=\"\" class=\"\" data-field=\"marketCap\" data-pricehint=\"2\" data-symbol=\"ITUB\" data-test=\"colorChange\" data-trend=\"none\" value=\"49558589440\">49.559B</fin-streamer></td><td aria-label=\"PE Ratio (TTM)\" class=\"Va(m) Ta(end) Pstart(20px) Fz(s)\" colspan=\"\">8.45</td><td aria-label=\"52 Week Range\" class=\"Va(m) Ta(end) Pstart(20px) Pend(6px) Fz(s)\" colspan=\"\"><canvas style=\"width:140px;height:23px\"></canvas></td></tr>\n",
            "<tr class=\"simpTblRow Bgc($hoverBgColor):h BdB Bdbc($seperatorColor) Bdbc($tableBorderBlue):h H(32px) Bgc($lv1BgColor)\"><td aria-label=\"Symbol\" class=\"Va(m) Ta(start) Pstart(6px) Pend(10px) Miw(90px) Start(0) Pend(10px) simpTblRow:h_Bgc($hoverBgColor) Pos(st) Bgc($lv3BgColor) Z(1) Bgc($lv1BgColor) Ta(start)! Fz(s)\" colspan=\"\"><label class=\"Ta(c) Pos(r) Va(tb) Pend(5px) D(n)--print\" data-id=\"portfolio-checkbox\"><input aria-label=\"Select AAPL\" class=\"Pos(a) Op(0) checkbox\" type=\"checkbox\"/><svg class=\"Va(m)! H(16px) W(16px) checkbox:f+Stk($linkColor)! checkbox:f+Fill($linkColor)! Stk($plusGray) Fill($plusGray) Cur(p)\" data-icon=\"checkbox-unchecked\" height=\"16\" style=\"stroke-width:0;vertical-align:bottom\" viewbox=\"0 0 24 24\" width=\"16\"><path d=\"M3 3h18v18H3V3zm19-2H2c-.553 0-1 .448-1 1v20c0 .552.447 1 1 1h20c.552 0 1-.448 1-1V2c0-.552-.448-1-1-1z\"></path></svg></label><a class=\"Fw(600) C($linkColor)\" data-test=\"quoteLink\" href=\"/quote/AAPL?p=AAPL\" title=\"Apple Inc.\">AAPL</a><div class=\"W(3px) Pos(a) Start(100%) T(0) H(100%) Bg($pfColumnFakeShadowGradient) Pe(n) Pend(5px)\"></div></td><td aria-label=\"Name\" class=\"Va(m) Ta(start) Px(10px) Fz(s)\" colspan=\"\">Apple Inc.</td><td aria-label=\"Price (Intraday)\" class=\"Va(m) Ta(end) Pstart(20px) Fw(600) Fz(s)\" colspan=\"\"><fin-streamer active=\"\" class=\"\" data-field=\"regularMarketPrice\" data-pricehint=\"2\" data-symbol=\"AAPL\" data-test=\"colorChange\" data-trend=\"none\" value=\"160.8\">160.80</fin-streamer></td><td aria-label=\"Change\" class=\"Va(m) Ta(end) Pstart(20px) Fw(600) Fz(s)\" colspan=\"\"><fin-streamer active=\"\" class=\"Fw(600)\" data-field=\"regularMarketChange\" data-pricehint=\"2\" data-symbol=\"AAPL\" data-test=\"colorChange\" data-trend=\"txt\" value=\"-1.2299957\"><span class=\"C($negativeColor)\">-1.23</span></fin-streamer></td><td aria-label=\"% Change\" class=\"Va(m) Ta(end) Pstart(20px) Fw(600) Fz(s)\" colspan=\"\"><fin-streamer active=\"\" class=\"Fw(600)\" data-field=\"regularMarketChangePercent\" data-pricehint=\"2\" data-symbol=\"AAPL\" data-test=\"colorChange\" data-trend=\"txt\" value=\"-0.75911605\"><span class=\"C($negativeColor)\">-0.76%</span></fin-streamer></td><td aria-label=\"Volume\" class=\"Va(m) Ta(end) Pstart(20px) Fz(s)\" colspan=\"\"><fin-streamer active=\"\" class=\"\" data-field=\"regularMarketVolume\" data-pricehint=\"2\" data-symbol=\"AAPL\" data-test=\"colorChange\" data-trend=\"none\" value=\"47507081\">47.507M</fin-streamer></td><td aria-label=\"Avg Vol (3 month)\" class=\"Va(m) Ta(end) Pstart(20px) Fz(s)\" colspan=\"\">65.351M</td><td aria-label=\"Market Cap\" class=\"Va(m) Ta(end) Pstart(20px) Pend(10px) W(120px) Fz(s)\" colspan=\"\"><fin-streamer active=\"\" class=\"\" data-field=\"marketCap\" data-pricehint=\"2\" data-symbol=\"AAPL\" data-test=\"colorChange\" data-trend=\"none\" value=\"2544161521664\">2.544T</fin-streamer></td><td aria-label=\"PE Ratio (TTM)\" class=\"Va(m) Ta(end) Pstart(20px) Fz(s)\" colspan=\"\">27.25</td><td aria-label=\"52 Week Range\" class=\"Va(m) Ta(end) Pstart(20px) Pend(6px) Fz(s)\" colspan=\"\"><canvas style=\"width:140px;height:23px\"></canvas></td></tr>\n",
            "<tr class=\"simpTblRow Bgc($hoverBgColor):h BdB Bdbc($seperatorColor) Bdbc($tableBorderBlue):h H(32px) Bgc($lv2BgColor)\"><td aria-label=\"Symbol\" class=\"Va(m) Ta(start) Pstart(6px) Pend(10px) Miw(90px) Start(0) Pend(10px) simpTblRow:h_Bgc($hoverBgColor) Pos(st) Bgc($lv3BgColor) Z(1) Bgc($lv2BgColor) Ta(start)! Fz(s)\" colspan=\"\"><label class=\"Ta(c) Pos(r) Va(tb) Pend(5px) D(n)--print\" data-id=\"portfolio-checkbox\"><input aria-label=\"Select AMC\" class=\"Pos(a) Op(0) checkbox\" type=\"checkbox\"/><svg class=\"Va(m)! H(16px) W(16px) checkbox:f+Stk($linkColor)! checkbox:f+Fill($linkColor)! Stk($plusGray) Fill($plusGray) Cur(p)\" data-icon=\"checkbox-unchecked\" height=\"16\" style=\"stroke-width:0;vertical-align:bottom\" viewbox=\"0 0 24 24\" width=\"16\"><path d=\"M3 3h18v18H3V3zm19-2H2c-.553 0-1 .448-1 1v20c0 .552.447 1 1 1h20c.552 0 1-.448 1-1V2c0-.552-.448-1-1-1z\"></path></svg></label><a class=\"Fw(600) C($linkColor)\" data-test=\"quoteLink\" href=\"/quote/AMC?p=AMC\" title=\"AMC Entertainment Holdings, Inc.\">AMC</a><div class=\"W(3px) Pos(a) Start(100%) T(0) H(100%) Bg($pfColumnFakeShadowGradient) Pe(n) Pend(5px)\"></div></td><td aria-label=\"Name\" class=\"Va(m) Ta(start) Px(10px) Fz(s)\" colspan=\"\">AMC Entertainment Holdings, Inc.</td><td aria-label=\"Price (Intraday)\" class=\"Va(m) Ta(end) Pstart(20px) Fw(600) Fz(s)\" colspan=\"\"><fin-streamer active=\"\" class=\"\" data-field=\"regularMarketPrice\" data-pricehint=\"2\" data-symbol=\"AMC\" data-test=\"colorChange\" data-trend=\"none\" value=\"5.43\">5.43</fin-streamer></td><td aria-label=\"Change\" class=\"Va(m) Ta(end) Pstart(20px) Fw(600) Fz(s)\" colspan=\"\"><fin-streamer active=\"\" class=\"Fw(600)\" data-field=\"regularMarketChange\" data-pricehint=\"2\" data-symbol=\"AMC\" data-test=\"colorChange\" data-trend=\"txt\" value=\"0.19000006\"><span class=\"C($positiveColor)\">+0.19</span></fin-streamer></td><td aria-label=\"% Change\" class=\"Va(m) Ta(end) Pstart(20px) Fw(600) Fz(s)\" colspan=\"\"><fin-streamer active=\"\" class=\"Fw(600)\" data-field=\"regularMarketChangePercent\" data-pricehint=\"2\" data-symbol=\"AMC\" data-test=\"colorChange\" data-trend=\"txt\" value=\"3.6259553\"><span class=\"C($positiveColor)\">+3.63%</span></fin-streamer></td><td aria-label=\"Volume\" class=\"Va(m) Ta(end) Pstart(20px) Fz(s)\" colspan=\"\"><fin-streamer active=\"\" class=\"\" data-field=\"regularMarketVolume\" data-pricehint=\"2\" data-symbol=\"AMC\" data-test=\"colorChange\" data-trend=\"none\" value=\"36000964\">36.001M</fin-streamer></td><td aria-label=\"Avg Vol (3 month)\" class=\"Va(m) Ta(end) Pstart(20px) Fz(s)\" colspan=\"\">39.16M</td><td aria-label=\"Market Cap\" class=\"Va(m) Ta(end) Pstart(20px) Pend(10px) W(120px) Fz(s)\" colspan=\"\"><fin-streamer active=\"\" class=\"\" data-field=\"marketCap\" data-pricehint=\"2\" data-symbol=\"AMC\" data-test=\"colorChange\" data-trend=\"none\" value=\"4244886016\">4.245B</fin-streamer></td><td aria-label=\"PE Ratio (TTM)\" class=\"Va(m) Ta(end) Pstart(20px) Fz(s)\" colspan=\"\"><span>N/A</span></td><td aria-label=\"52 Week Range\" class=\"Va(m) Ta(end) Pstart(20px) Pend(6px) Fz(s)\" colspan=\"\"><canvas style=\"width:140px;height:23px\"></canvas></td></tr>\n",
            "<tr class=\"simpTblRow Bgc($hoverBgColor):h BdB Bdbc($seperatorColor) Bdbc($tableBorderBlue):h H(32px) Bgc($lv1BgColor)\"><td aria-label=\"Symbol\" class=\"Va(m) Ta(start) Pstart(6px) Pend(10px) Miw(90px) Start(0) Pend(10px) simpTblRow:h_Bgc($hoverBgColor) Pos(st) Bgc($lv3BgColor) Z(1) Bgc($lv1BgColor) Ta(start)! Fz(s)\" colspan=\"\"><label class=\"Ta(c) Pos(r) Va(tb) Pend(5px) D(n)--print\" data-id=\"portfolio-checkbox\"><input aria-label=\"Select PLTR\" class=\"Pos(a) Op(0) checkbox\" type=\"checkbox\"/><svg class=\"Va(m)! H(16px) W(16px) checkbox:f+Stk($linkColor)! checkbox:f+Fill($linkColor)! Stk($plusGray) Fill($plusGray) Cur(p)\" data-icon=\"checkbox-unchecked\" height=\"16\" style=\"stroke-width:0;vertical-align:bottom\" viewbox=\"0 0 24 24\" width=\"16\"><path d=\"M3 3h18v18H3V3zm19-2H2c-.553 0-1 .448-1 1v20c0 .552.447 1 1 1h20c.552 0 1-.448 1-1V2c0-.552-.448-1-1-1z\"></path></svg></label><a class=\"Fw(600) C($linkColor)\" data-test=\"quoteLink\" href=\"/quote/PLTR?p=PLTR\" title=\"Palantir Technologies Inc.\">PLTR</a><div class=\"W(3px) Pos(a) Start(100%) T(0) H(100%) Bg($pfColumnFakeShadowGradient) Pe(n) Pend(5px)\"></div></td><td aria-label=\"Name\" class=\"Va(m) Ta(start) Px(10px) Fz(s)\" colspan=\"\">Palantir Technologies Inc.</td><td aria-label=\"Price (Intraday)\" class=\"Va(m) Ta(end) Pstart(20px) Fw(600) Fz(s)\" colspan=\"\"><fin-streamer active=\"\" class=\"\" data-field=\"regularMarketPrice\" data-pricehint=\"2\" data-symbol=\"PLTR\" data-test=\"colorChange\" data-trend=\"none\" value=\"8.61\">8.61</fin-streamer></td><td aria-label=\"Change\" class=\"Va(m) Ta(end) Pstart(20px) Fw(600) Fz(s)\" colspan=\"\"><fin-streamer active=\"\" class=\"Fw(600)\" data-field=\"regularMarketChange\" data-pricehint=\"2\" data-symbol=\"PLTR\" data-test=\"colorChange\" data-trend=\"txt\" value=\"0.21999931\"><span class=\"C($positiveColor)\">+0.22</span></fin-streamer></td><td aria-label=\"% Change\" class=\"Va(m) Ta(end) Pstart(20px) Fw(600) Fz(s)\" colspan=\"\"><fin-streamer active=\"\" class=\"Fw(600)\" data-field=\"regularMarketChangePercent\" data-pricehint=\"2\" data-symbol=\"PLTR\" data-test=\"colorChange\" data-trend=\"txt\" value=\"2.622161\"><span class=\"C($positiveColor)\">+2.62%</span></fin-streamer></td><td aria-label=\"Volume\" class=\"Va(m) Ta(end) Pstart(20px) Fz(s)\" colspan=\"\"><fin-streamer active=\"\" class=\"\" data-field=\"regularMarketVolume\" data-pricehint=\"2\" data-symbol=\"PLTR\" data-test=\"colorChange\" data-trend=\"none\" value=\"35213754\">35.214M</fin-streamer></td><td aria-label=\"Avg Vol (3 month)\" class=\"Va(m) Ta(end) Pstart(20px) Fz(s)\" colspan=\"\">41.59M</td><td aria-label=\"Market Cap\" class=\"Va(m) Ta(end) Pstart(20px) Pend(10px) W(120px) Fz(s)\" colspan=\"\"><fin-streamer active=\"\" class=\"\" data-field=\"marketCap\" data-pricehint=\"2\" data-symbol=\"PLTR\" data-test=\"colorChange\" data-trend=\"none\" value=\"18092965888\">18.093B</fin-streamer></td><td aria-label=\"PE Ratio (TTM)\" class=\"Va(m) Ta(end) Pstart(20px) Fz(s)\" colspan=\"\"><span>N/A</span></td><td aria-label=\"52 Week Range\" class=\"Va(m) Ta(end) Pstart(20px) Pend(6px) Fz(s)\" colspan=\"\"><canvas style=\"width:140px;height:23px\"></canvas></td></tr>\n",
            "<tr class=\"simpTblRow Bgc($hoverBgColor):h BdB Bdbc($seperatorColor) Bdbc($tableBorderBlue):h H(32px) Bgc($lv2BgColor)\"><td aria-label=\"Symbol\" class=\"Va(m) Ta(start) Pstart(6px) Pend(10px) Miw(90px) Start(0) Pend(10px) simpTblRow:h_Bgc($hoverBgColor) Pos(st) Bgc($lv3BgColor) Z(1) Bgc($lv2BgColor) Ta(start)! Fz(s)\" colspan=\"\"><label class=\"Ta(c) Pos(r) Va(tb) Pend(5px) D(n)--print\" data-id=\"portfolio-checkbox\"><input aria-label=\"Select AI\" class=\"Pos(a) Op(0) checkbox\" type=\"checkbox\"/><svg class=\"Va(m)! H(16px) W(16px) checkbox:f+Stk($linkColor)! checkbox:f+Fill($linkColor)! Stk($plusGray) Fill($plusGray) Cur(p)\" data-icon=\"checkbox-unchecked\" height=\"16\" style=\"stroke-width:0;vertical-align:bottom\" viewbox=\"0 0 24 24\" width=\"16\"><path d=\"M3 3h18v18H3V3zm19-2H2c-.553 0-1 .448-1 1v20c0 .552.447 1 1 1h20c.552 0 1-.448 1-1V2c0-.552-.448-1-1-1z\"></path></svg></label><a class=\"Fw(600) C($linkColor)\" data-test=\"quoteLink\" href=\"/quote/AI?p=AI\" title=\"C3.ai, Inc.\">AI</a><div class=\"W(3px) Pos(a) Start(100%) T(0) H(100%) Bg($pfColumnFakeShadowGradient) Pe(n) Pend(5px)\"></div></td><td aria-label=\"Name\" class=\"Va(m) Ta(start) Px(10px) Fz(s)\" colspan=\"\">C3.ai, Inc.</td><td aria-label=\"Price (Intraday)\" class=\"Va(m) Ta(end) Pstart(20px) Fw(600) Fz(s)\" colspan=\"\"><fin-streamer active=\"\" class=\"\" data-field=\"regularMarketPrice\" data-pricehint=\"2\" data-symbol=\"AI\" data-test=\"colorChange\" data-trend=\"none\" value=\"22.75\">22.75</fin-streamer></td><td aria-label=\"Change\" class=\"Va(m) Ta(end) Pstart(20px) Fw(600) Fz(s)\" colspan=\"\"><fin-streamer active=\"\" class=\"Fw(600)\" data-field=\"regularMarketChange\" data-pricehint=\"2\" data-symbol=\"AI\" data-test=\"colorChange\" data-trend=\"txt\" value=\"-0.3199997\"><span class=\"C($negativeColor)\">-0.32</span></fin-streamer></td><td aria-label=\"% Change\" class=\"Va(m) Ta(end) Pstart(20px) Fw(600) Fz(s)\" colspan=\"\"><fin-streamer active=\"\" class=\"Fw(600)\" data-field=\"regularMarketChangePercent\" data-pricehint=\"2\" data-symbol=\"AI\" data-test=\"colorChange\" data-trend=\"txt\" value=\"-1.3870815\"><span class=\"C($negativeColor)\">-1.39%</span></fin-streamer></td><td aria-label=\"Volume\" class=\"Va(m) Ta(end) Pstart(20px) Fz(s)\" colspan=\"\"><fin-streamer active=\"\" class=\"\" data-field=\"regularMarketVolume\" data-pricehint=\"2\" data-symbol=\"AI\" data-test=\"colorChange\" data-trend=\"none\" value=\"31485944\">31.486M</fin-streamer></td><td aria-label=\"Avg Vol (3 month)\" class=\"Va(m) Ta(end) Pstart(20px) Fz(s)\" colspan=\"\">25.685M</td><td aria-label=\"Market Cap\" class=\"Va(m) Ta(end) Pstart(20px) Pend(10px) W(120px) Fz(s)\" colspan=\"\"><fin-streamer active=\"\" class=\"\" data-field=\"marketCap\" data-pricehint=\"2\" data-symbol=\"AI\" data-test=\"colorChange\" data-trend=\"none\" value=\"2552777472\">2.553B</fin-streamer></td><td aria-label=\"PE Ratio (TTM)\" class=\"Va(m) Ta(end) Pstart(20px) Fz(s)\" colspan=\"\"><span>N/A</span></td><td aria-label=\"52 Week Range\" class=\"Va(m) Ta(end) Pstart(20px) Pend(6px) Fz(s)\" colspan=\"\"><canvas style=\"width:140px;height:23px\"></canvas></td></tr>\n",
            "<tr class=\"simpTblRow Bgc($hoverBgColor):h BdB Bdbc($seperatorColor) Bdbc($tableBorderBlue):h H(32px) Bgc($lv1BgColor)\"><td aria-label=\"Symbol\" class=\"Va(m) Ta(start) Pstart(6px) Pend(10px) Miw(90px) Start(0) Pend(10px) simpTblRow:h_Bgc($hoverBgColor) Pos(st) Bgc($lv3BgColor) Z(1) Bgc($lv1BgColor) Ta(start)! Fz(s)\" colspan=\"\"><label class=\"Ta(c) Pos(r) Va(tb) Pend(5px) D(n)--print\" data-id=\"portfolio-checkbox\"><input aria-label=\"Select VALE\" class=\"Pos(a) Op(0) checkbox\" type=\"checkbox\"/><svg class=\"Va(m)! H(16px) W(16px) checkbox:f+Stk($linkColor)! checkbox:f+Fill($linkColor)! Stk($plusGray) Fill($plusGray) Cur(p)\" data-icon=\"checkbox-unchecked\" height=\"16\" style=\"stroke-width:0;vertical-align:bottom\" viewbox=\"0 0 24 24\" width=\"16\"><path d=\"M3 3h18v18H3V3zm19-2H2c-.553 0-1 .448-1 1v20c0 .552.447 1 1 1h20c.552 0 1-.448 1-1V2c0-.552-.448-1-1-1z\"></path></svg></label><a class=\"Fw(600) C($linkColor)\" data-test=\"quoteLink\" href=\"/quote/VALE?p=VALE\" title=\"Vale S.A.\">VALE</a><div class=\"W(3px) Pos(a) Start(100%) T(0) H(100%) Bg($pfColumnFakeShadowGradient) Pe(n) Pend(5px)\"></div></td><td aria-label=\"Name\" class=\"Va(m) Ta(start) Px(10px) Fz(s)\" colspan=\"\">Vale S.A.</td><td aria-label=\"Price (Intraday)\" class=\"Va(m) Ta(end) Pstart(20px) Fw(600) Fz(s)\" colspan=\"\"><fin-streamer active=\"\" class=\"\" data-field=\"regularMarketPrice\" data-pricehint=\"2\" data-symbol=\"VALE\" data-test=\"colorChange\" data-trend=\"none\" value=\"16.42\">16.42</fin-streamer></td><td aria-label=\"Change\" class=\"Va(m) Ta(end) Pstart(20px) Fw(600) Fz(s)\" colspan=\"\"><fin-streamer active=\"\" class=\"Fw(600)\" data-field=\"regularMarketChange\" data-pricehint=\"2\" data-symbol=\"VALE\" data-test=\"colorChange\" data-trend=\"txt\" value=\"1.0500002\"><span class=\"C($positiveColor)\">+1.05</span></fin-streamer></td><td aria-label=\"% Change\" class=\"Va(m) Ta(end) Pstart(20px) Fw(600) Fz(s)\" colspan=\"\"><fin-streamer active=\"\" class=\"Fw(600)\" data-field=\"regularMarketChangePercent\" data-pricehint=\"2\" data-symbol=\"VALE\" data-test=\"colorChange\" data-trend=\"txt\" value=\"6.831491\"><span class=\"C($positiveColor)\">+6.83%</span></fin-streamer></td><td aria-label=\"Volume\" class=\"Va(m) Ta(end) Pstart(20px) Fz(s)\" colspan=\"\"><fin-streamer active=\"\" class=\"\" data-field=\"regularMarketVolume\" data-pricehint=\"2\" data-symbol=\"VALE\" data-test=\"colorChange\" data-trend=\"none\" value=\"30451622\">30.452M</fin-streamer></td><td aria-label=\"Avg Vol (3 month)\" class=\"Va(m) Ta(end) Pstart(20px) Fz(s)\" colspan=\"\">22.538M</td><td aria-label=\"Market Cap\" class=\"Va(m) Ta(end) Pstart(20px) Pend(10px) W(120px) Fz(s)\" colspan=\"\"><fin-streamer active=\"\" class=\"\" data-field=\"marketCap\" data-pricehint=\"2\" data-symbol=\"VALE\" data-test=\"colorChange\" data-trend=\"none\" value=\"73044860928\">73.045B</fin-streamer></td><td aria-label=\"PE Ratio (TTM)\" class=\"Va(m) Ta(end) Pstart(20px) Fz(s)\" colspan=\"\">4.47</td><td aria-label=\"52 Week Range\" class=\"Va(m) Ta(end) Pstart(20px) Pend(6px) Fz(s)\" colspan=\"\"><canvas style=\"width:140px;height:23px\"></canvas></td></tr>\n",
            "<tr class=\"simpTblRow Bgc($hoverBgColor):h BdB Bdbc($seperatorColor) Bdbc($tableBorderBlue):h H(32px) Bgc($lv2BgColor)\"><td aria-label=\"Symbol\" class=\"Va(m) Ta(start) Pstart(6px) Pend(10px) Miw(90px) Start(0) Pend(10px) simpTblRow:h_Bgc($hoverBgColor) Pos(st) Bgc($lv3BgColor) Z(1) Bgc($lv2BgColor) Ta(start)! Fz(s)\" colspan=\"\"><label class=\"Ta(c) Pos(r) Va(tb) Pend(5px) D(n)--print\" data-id=\"portfolio-checkbox\"><input aria-label=\"Select NVDA\" class=\"Pos(a) Op(0) checkbox\" type=\"checkbox\"/><svg class=\"Va(m)! H(16px) W(16px) checkbox:f+Stk($linkColor)! checkbox:f+Fill($linkColor)! Stk($plusGray) Fill($plusGray) Cur(p)\" data-icon=\"checkbox-unchecked\" height=\"16\" style=\"stroke-width:0;vertical-align:bottom\" viewbox=\"0 0 24 24\" width=\"16\"><path d=\"M3 3h18v18H3V3zm19-2H2c-.553 0-1 .448-1 1v20c0 .552.447 1 1 1h20c.552 0 1-.448 1-1V2c0-.552-.448-1-1-1z\"></path></svg></label><a class=\"Fw(600) C($linkColor)\" data-test=\"quoteLink\" href=\"/quote/NVDA?p=NVDA\" title=\"NVIDIA Corporation\">NVDA</a><div class=\"W(3px) Pos(a) Start(100%) T(0) H(100%) Bg($pfColumnFakeShadowGradient) Pe(n) Pend(5px)\"></div></td><td aria-label=\"Name\" class=\"Va(m) Ta(start) Px(10px) Fz(s)\" colspan=\"\">NVIDIA Corporation</td><td aria-label=\"Price (Intraday)\" class=\"Va(m) Ta(end) Pstart(20px) Fw(600) Fz(s)\" colspan=\"\"><fin-streamer active=\"\" class=\"\" data-field=\"regularMarketPrice\" data-pricehint=\"2\" data-symbol=\"NVDA\" data-test=\"colorChange\" data-trend=\"none\" value=\"271.69\">271.69</fin-streamer></td><td aria-label=\"Change\" class=\"Va(m) Ta(end) Pstart(20px) Fw(600) Fz(s)\" colspan=\"\"><fin-streamer active=\"\" class=\"Fw(600)\" data-field=\"regularMarketChange\" data-pricehint=\"2\" data-symbol=\"NVDA\" data-test=\"colorChange\" data-trend=\"txt\" value=\"-4.100006\"><span class=\"C($negativeColor)\">-4.10</span></fin-streamer></td><td aria-label=\"% Change\" class=\"Va(m) Ta(end) Pstart(20px) Fw(600) Fz(s)\" colspan=\"\"><fin-streamer active=\"\" class=\"Fw(600)\" data-field=\"regularMarketChangePercent\" data-pricehint=\"2\" data-symbol=\"NVDA\" data-test=\"colorChange\" data-trend=\"txt\" value=\"-1.4866406\"><span class=\"C($negativeColor)\">-1.49%</span></fin-streamer></td><td aria-label=\"Volume\" class=\"Va(m) Ta(end) Pstart(20px) Fz(s)\" colspan=\"\"><fin-streamer active=\"\" class=\"\" data-field=\"regularMarketVolume\" data-pricehint=\"2\" data-symbol=\"NVDA\" data-test=\"colorChange\" data-trend=\"none\" value=\"30019729\">30.02M</fin-streamer></td><td aria-label=\"Avg Vol (3 month)\" class=\"Va(m) Ta(end) Pstart(20px) Fz(s)\" colspan=\"\">50.135M</td><td aria-label=\"Market Cap\" class=\"Va(m) Ta(end) Pstart(20px) Pend(10px) W(120px) Fz(s)\" colspan=\"\"><fin-streamer active=\"\" class=\"\" data-field=\"marketCap\" data-pricehint=\"2\" data-symbol=\"NVDA\" data-test=\"colorChange\" data-trend=\"none\" value=\"671074353152\">671.074B</fin-streamer></td><td aria-label=\"PE Ratio (TTM)\" class=\"Va(m) Ta(end) Pstart(20px) Fz(s)\" colspan=\"\">156.14</td><td aria-label=\"52 Week Range\" class=\"Va(m) Ta(end) Pstart(20px) Pend(6px) Fz(s)\" colspan=\"\"><canvas style=\"width:140px;height:23px\"></canvas></td></tr>\n",
            "<tr class=\"simpTblRow Bgc($hoverBgColor):h BdB Bdbc($seperatorColor) Bdbc($tableBorderBlue):h H(32px) Bgc($lv1BgColor)\"><td aria-label=\"Symbol\" class=\"Va(m) Ta(start) Pstart(6px) Pend(10px) Miw(90px) Start(0) Pend(10px) simpTblRow:h_Bgc($hoverBgColor) Pos(st) Bgc($lv3BgColor) Z(1) Bgc($lv1BgColor) Ta(start)! Fz(s)\" colspan=\"\"><label class=\"Ta(c) Pos(r) Va(tb) Pend(5px) D(n)--print\" data-id=\"portfolio-checkbox\"><input aria-label=\"Select PLUG\" class=\"Pos(a) Op(0) checkbox\" type=\"checkbox\"/><svg class=\"Va(m)! H(16px) W(16px) checkbox:f+Stk($linkColor)! checkbox:f+Fill($linkColor)! Stk($plusGray) Fill($plusGray) Cur(p)\" data-icon=\"checkbox-unchecked\" height=\"16\" style=\"stroke-width:0;vertical-align:bottom\" viewbox=\"0 0 24 24\" width=\"16\"><path d=\"M3 3h18v18H3V3zm19-2H2c-.553 0-1 .448-1 1v20c0 .552.447 1 1 1h20c.552 0 1-.448 1-1V2c0-.552-.448-1-1-1z\"></path></svg></label><a class=\"Fw(600) C($linkColor)\" data-test=\"quoteLink\" href=\"/quote/PLUG?p=PLUG\" title=\"Plug Power Inc.\">PLUG</a><div class=\"W(3px) Pos(a) Start(100%) T(0) H(100%) Bg($pfColumnFakeShadowGradient) Pe(n) Pend(5px)\"></div></td><td aria-label=\"Name\" class=\"Va(m) Ta(start) Px(10px) Fz(s)\" colspan=\"\">Plug Power Inc.</td><td aria-label=\"Price (Intraday)\" class=\"Va(m) Ta(end) Pstart(20px) Fw(600) Fz(s)\" colspan=\"\"><fin-streamer active=\"\" class=\"\" data-field=\"regularMarketPrice\" data-pricehint=\"2\" data-symbol=\"PLUG\" data-test=\"colorChange\" data-trend=\"none\" value=\"9.76\">9.76</fin-streamer></td><td aria-label=\"Change\" class=\"Va(m) Ta(end) Pstart(20px) Fw(600) Fz(s)\" colspan=\"\"><fin-streamer active=\"\" class=\"Fw(600)\" data-field=\"regularMarketChange\" data-pricehint=\"2\" data-symbol=\"PLUG\" data-test=\"colorChange\" data-trend=\"txt\" value=\"0.40000057\"><span class=\"C($positiveColor)\">+0.40</span></fin-streamer></td><td aria-label=\"% Change\" class=\"Va(m) Ta(end) Pstart(20px) Fw(600) Fz(s)\" colspan=\"\"><fin-streamer active=\"\" class=\"Fw(600)\" data-field=\"regularMarketChangePercent\" data-pricehint=\"2\" data-symbol=\"PLUG\" data-test=\"colorChange\" data-trend=\"txt\" value=\"4.273511\"><span class=\"C($positiveColor)\">+4.27%</span></fin-streamer></td><td aria-label=\"Volume\" class=\"Va(m) Ta(end) Pstart(20px) Fz(s)\" colspan=\"\"><fin-streamer active=\"\" class=\"\" data-field=\"regularMarketVolume\" data-pricehint=\"2\" data-symbol=\"PLUG\" data-test=\"colorChange\" data-trend=\"none\" value=\"28712700\">28.713M</fin-streamer></td><td aria-label=\"Avg Vol (3 month)\" class=\"Va(m) Ta(end) Pstart(20px) Fz(s)\" colspan=\"\">18.69M</td><td aria-label=\"Market Cap\" class=\"Va(m) Ta(end) Pstart(20px) Pend(10px) W(120px) Fz(s)\" colspan=\"\"><fin-streamer active=\"\" class=\"\" data-field=\"marketCap\" data-pricehint=\"2\" data-symbol=\"PLUG\" data-test=\"colorChange\" data-trend=\"none\" value=\"5791525376\">5.792B</fin-streamer></td><td aria-label=\"PE Ratio (TTM)\" class=\"Va(m) Ta(end) Pstart(20px) Fz(s)\" colspan=\"\"><span>N/A</span></td><td aria-label=\"52 Week Range\" class=\"Va(m) Ta(end) Pstart(20px) Pend(6px) Fz(s)\" colspan=\"\"><canvas style=\"width:140px;height:23px\"></canvas></td></tr>\n",
            "<tr class=\"simpTblRow Bgc($hoverBgColor):h BdB Bdbc($seperatorColor) Bdbc($tableBorderBlue):h H(32px) Bgc($lv2BgColor)\"><td aria-label=\"Symbol\" class=\"Va(m) Ta(start) Pstart(6px) Pend(10px) Miw(90px) Start(0) Pend(10px) simpTblRow:h_Bgc($hoverBgColor) Pos(st) Bgc($lv3BgColor) Z(1) Bgc($lv2BgColor) Ta(start)! Fz(s)\" colspan=\"\"><label class=\"Ta(c) Pos(r) Va(tb) Pend(5px) D(n)--print\" data-id=\"portfolio-checkbox\"><input aria-label=\"Select MSFT\" class=\"Pos(a) Op(0) checkbox\" type=\"checkbox\"/><svg class=\"Va(m)! H(16px) W(16px) checkbox:f+Stk($linkColor)! checkbox:f+Fill($linkColor)! Stk($plusGray) Fill($plusGray) Cur(p)\" data-icon=\"checkbox-unchecked\" height=\"16\" style=\"stroke-width:0;vertical-align:bottom\" viewbox=\"0 0 24 24\" width=\"16\"><path d=\"M3 3h18v18H3V3zm19-2H2c-.553 0-1 .448-1 1v20c0 .552.447 1 1 1h20c.552 0 1-.448 1-1V2c0-.552-.448-1-1-1z\"></path></svg></label><a class=\"Fw(600) C($linkColor)\" data-test=\"quoteLink\" href=\"/quote/MSFT?p=MSFT\" title=\"Microsoft Corporation\">MSFT</a><div class=\"W(3px) Pos(a) Start(100%) T(0) H(100%) Bg($pfColumnFakeShadowGradient) Pe(n) Pend(5px)\"></div></td><td aria-label=\"Name\" class=\"Va(m) Ta(start) Px(10px) Fz(s)\" colspan=\"\">Microsoft Corporation</td><td aria-label=\"Price (Intraday)\" class=\"Va(m) Ta(end) Pstart(20px) Fw(600) Fz(s)\" colspan=\"\"><fin-streamer active=\"\" class=\"\" data-field=\"regularMarketPrice\" data-pricehint=\"2\" data-symbol=\"MSFT\" data-test=\"colorChange\" data-trend=\"none\" value=\"282.83\">282.83</fin-streamer></td><td aria-label=\"Change\" class=\"Va(m) Ta(end) Pstart(20px) Fw(600) Fz(s)\" colspan=\"\"><fin-streamer active=\"\" class=\"Fw(600)\" data-field=\"regularMarketChange\" data-pricehint=\"2\" data-symbol=\"MSFT\" data-test=\"colorChange\" data-trend=\"txt\" value=\"-6.560028\"><span class=\"C($negativeColor)\">-6.56</span></fin-streamer></td><td aria-label=\"% Change\" class=\"Va(m) Ta(end) Pstart(20px) Fw(600) Fz(s)\" colspan=\"\"><fin-streamer active=\"\" class=\"Fw(600)\" data-field=\"regularMarketChangePercent\" data-pricehint=\"2\" data-symbol=\"MSFT\" data-test=\"colorChange\" data-trend=\"txt\" value=\"-2.266847\"><span class=\"C($negativeColor)\">-2.27%</span></fin-streamer></td><td aria-label=\"Volume\" class=\"Va(m) Ta(end) Pstart(20px) Fz(s)\" colspan=\"\"><fin-streamer active=\"\" class=\"\" data-field=\"regularMarketVolume\" data-pricehint=\"2\" data-symbol=\"MSFT\" data-test=\"colorChange\" data-trend=\"none\" value=\"27276589\">27.277M</fin-streamer></td><td aria-label=\"Avg Vol (3 month)\" class=\"Va(m) Ta(end) Pstart(20px) Fz(s)\" colspan=\"\">31.871M</td><td aria-label=\"Market Cap\" class=\"Va(m) Ta(end) Pstart(20px) Pend(10px) W(120px) Fz(s)\" colspan=\"\"><fin-streamer active=\"\" class=\"\" data-field=\"marketCap\" data-pricehint=\"2\" data-symbol=\"MSFT\" data-test=\"colorChange\" data-trend=\"none\" value=\"2105329844224\">2.105T</fin-streamer></td><td aria-label=\"PE Ratio (TTM)\" class=\"Va(m) Ta(end) Pstart(20px) Fz(s)\" colspan=\"\">31.43</td><td aria-label=\"52 Week Range\" class=\"Va(m) Ta(end) Pstart(20px) Pend(6px) Fz(s)\" colspan=\"\"><canvas style=\"width:140px;height:23px\"></canvas></td></tr>\n",
            "<tr class=\"simpTblRow Bgc($hoverBgColor):h BdB Bdbc($seperatorColor) Bdbc($tableBorderBlue):h H(32px) Bgc($lv1BgColor)\"><td aria-label=\"Symbol\" class=\"Va(m) Ta(start) Pstart(6px) Pend(10px) Miw(90px) Start(0) Pend(10px) simpTblRow:h_Bgc($hoverBgColor) Pos(st) Bgc($lv3BgColor) Z(1) Bgc($lv1BgColor) Ta(start)! Fz(s)\" colspan=\"\"><label class=\"Ta(c) Pos(r) Va(tb) Pend(5px) D(n)--print\" data-id=\"portfolio-checkbox\"><input aria-label=\"Select INTC\" class=\"Pos(a) Op(0) checkbox\" type=\"checkbox\"/><svg class=\"Va(m)! H(16px) W(16px) checkbox:f+Stk($linkColor)! checkbox:f+Fill($linkColor)! Stk($plusGray) Fill($plusGray) Cur(p)\" data-icon=\"checkbox-unchecked\" height=\"16\" style=\"stroke-width:0;vertical-align:bottom\" viewbox=\"0 0 24 24\" width=\"16\"><path d=\"M3 3h18v18H3V3zm19-2H2c-.553 0-1 .448-1 1v20c0 .552.447 1 1 1h20c.552 0 1-.448 1-1V2c0-.552-.448-1-1-1z\"></path></svg></label><a class=\"Fw(600) C($linkColor)\" data-test=\"quoteLink\" href=\"/quote/INTC?p=INTC\" title=\"Intel Corporation\">INTC</a><div class=\"W(3px) Pos(a) Start(100%) T(0) H(100%) Bg($pfColumnFakeShadowGradient) Pe(n) Pend(5px)\"></div></td><td aria-label=\"Name\" class=\"Va(m) Ta(start) Px(10px) Fz(s)\" colspan=\"\">Intel Corporation</td><td aria-label=\"Price (Intraday)\" class=\"Va(m) Ta(end) Pstart(20px) Fw(600) Fz(s)\" colspan=\"\"><fin-streamer active=\"\" class=\"\" data-field=\"regularMarketPrice\" data-pricehint=\"2\" data-symbol=\"INTC\" data-test=\"colorChange\" data-trend=\"none\" value=\"32.35\">32.35</fin-streamer></td><td aria-label=\"Change\" class=\"Va(m) Ta(end) Pstart(20px) Fw(600) Fz(s)\" colspan=\"\"><fin-streamer active=\"\" class=\"Fw(600)\" data-field=\"regularMarketChange\" data-pricehint=\"2\" data-symbol=\"INTC\" data-test=\"colorChange\" data-trend=\"txt\" value=\"-0.17000198\"><span class=\"C($negativeColor)\">-0.17</span></fin-streamer></td><td aria-label=\"% Change\" class=\"Va(m) Ta(end) Pstart(20px) Fw(600) Fz(s)\" colspan=\"\"><fin-streamer active=\"\" class=\"Fw(600)\" data-field=\"regularMarketChangePercent\" data-pricehint=\"2\" data-symbol=\"INTC\" data-test=\"colorChange\" data-trend=\"txt\" value=\"-0.52276134\"><span class=\"C($negativeColor)\">-0.52%</span></fin-streamer></td><td aria-label=\"Volume\" class=\"Va(m) Ta(end) Pstart(20px) Fz(s)\" colspan=\"\"><fin-streamer active=\"\" class=\"\" data-field=\"regularMarketVolume\" data-pricehint=\"2\" data-symbol=\"INTC\" data-test=\"colorChange\" data-trend=\"none\" value=\"27059106\">27.059M</fin-streamer></td><td aria-label=\"Avg Vol (3 month)\" class=\"Va(m) Ta(end) Pstart(20px) Fz(s)\" colspan=\"\">48.317M</td><td aria-label=\"Market Cap\" class=\"Va(m) Ta(end) Pstart(20px) Pend(10px) W(120px) Fz(s)\" colspan=\"\"><fin-streamer active=\"\" class=\"\" data-field=\"marketCap\" data-pricehint=\"2\" data-symbol=\"INTC\" data-test=\"colorChange\" data-trend=\"none\" value=\"134933463040\">134.933B</fin-streamer></td><td aria-label=\"PE Ratio (TTM)\" class=\"Va(m) Ta(end) Pstart(20px) Fz(s)\" colspan=\"\">16.68</td><td aria-label=\"52 Week Range\" class=\"Va(m) Ta(end) Pstart(20px) Pend(6px) Fz(s)\" colspan=\"\"><canvas style=\"width:140px;height:23px\"></canvas></td></tr>\n",
            "<tr class=\"simpTblRow Bgc($hoverBgColor):h BdB Bdbc($seperatorColor) Bdbc($tableBorderBlue):h H(32px) Bgc($lv2BgColor)\"><td aria-label=\"Symbol\" class=\"Va(m) Ta(start) Pstart(6px) Pend(10px) Miw(90px) Start(0) Pend(10px) simpTblRow:h_Bgc($hoverBgColor) Pos(st) Bgc($lv3BgColor) Z(1) Bgc($lv2BgColor) Ta(start)! Fz(s)\" colspan=\"\"><label class=\"Ta(c) Pos(r) Va(tb) Pend(5px) D(n)--print\" data-id=\"portfolio-checkbox\"><input aria-label=\"Select SOFI\" class=\"Pos(a) Op(0) checkbox\" type=\"checkbox\"/><svg class=\"Va(m)! H(16px) W(16px) checkbox:f+Stk($linkColor)! checkbox:f+Fill($linkColor)! Stk($plusGray) Fill($plusGray) Cur(p)\" data-icon=\"checkbox-unchecked\" height=\"16\" style=\"stroke-width:0;vertical-align:bottom\" viewbox=\"0 0 24 24\" width=\"16\"><path d=\"M3 3h18v18H3V3zm19-2H2c-.553 0-1 .448-1 1v20c0 .552.447 1 1 1h20c.552 0 1-.448 1-1V2c0-.552-.448-1-1-1z\"></path></svg></label><a class=\"Fw(600) C($linkColor)\" data-test=\"quoteLink\" href=\"/quote/SOFI?p=SOFI\" title=\"SoFi Technologies, Inc.\">SOFI</a><div class=\"W(3px) Pos(a) Start(100%) T(0) H(100%) Bg($pfColumnFakeShadowGradient) Pe(n) Pend(5px)\"></div></td><td aria-label=\"Name\" class=\"Va(m) Ta(start) Px(10px) Fz(s)\" colspan=\"\">SoFi Technologies, Inc.</td><td aria-label=\"Price (Intraday)\" class=\"Va(m) Ta(end) Pstart(20px) Fw(600) Fz(s)\" colspan=\"\"><fin-streamer active=\"\" class=\"\" data-field=\"regularMarketPrice\" data-pricehint=\"2\" data-symbol=\"SOFI\" data-test=\"colorChange\" data-trend=\"none\" value=\"5.97\">5.97</fin-streamer></td><td aria-label=\"Change\" class=\"Va(m) Ta(end) Pstart(20px) Fw(600) Fz(s)\" colspan=\"\"><fin-streamer active=\"\" class=\"Fw(600)\" data-field=\"regularMarketChange\" data-pricehint=\"2\" data-symbol=\"SOFI\" data-test=\"colorChange\" data-trend=\"txt\" value=\"0.059999943\"><span class=\"C($positiveColor)\">+0.06</span></fin-streamer></td><td aria-label=\"% Change\" class=\"Va(m) Ta(end) Pstart(20px) Fw(600) Fz(s)\" colspan=\"\"><fin-streamer active=\"\" class=\"Fw(600)\" data-field=\"regularMarketChangePercent\" data-pricehint=\"2\" data-symbol=\"SOFI\" data-test=\"colorChange\" data-trend=\"txt\" value=\"1.0152274\"><span class=\"C($positiveColor)\">+1.02%</span></fin-streamer></td><td aria-label=\"Volume\" class=\"Va(m) Ta(end) Pstart(20px) Fz(s)\" colspan=\"\"><fin-streamer active=\"\" class=\"\" data-field=\"regularMarketVolume\" data-pricehint=\"2\" data-symbol=\"SOFI\" data-test=\"colorChange\" data-trend=\"none\" value=\"26455375\">26.455M</fin-streamer></td><td aria-label=\"Avg Vol (3 month)\" class=\"Va(m) Ta(end) Pstart(20px) Fz(s)\" colspan=\"\">36.62M</td><td aria-label=\"Market Cap\" class=\"Va(m) Ta(end) Pstart(20px) Pend(10px) W(120px) Fz(s)\" colspan=\"\"><fin-streamer active=\"\" class=\"\" data-field=\"marketCap\" data-pricehint=\"2\" data-symbol=\"SOFI\" data-test=\"colorChange\" data-trend=\"none\" value=\"5579275264\">5.579B</fin-streamer></td><td aria-label=\"PE Ratio (TTM)\" class=\"Va(m) Ta(end) Pstart(20px) Fz(s)\" colspan=\"\"><span>N/A</span></td><td aria-label=\"52 Week Range\" class=\"Va(m) Ta(end) Pstart(20px) Pend(6px) Fz(s)\" colspan=\"\"><canvas style=\"width:140px;height:23px\"></canvas></td></tr>\n",
            "<tr class=\"simpTblRow Bgc($hoverBgColor):h BdB Bdbc($seperatorColor) Bdbc($tableBorderBlue):h H(32px) Bgc($lv1BgColor)\"><td aria-label=\"Symbol\" class=\"Va(m) Ta(start) Pstart(6px) Pend(10px) Miw(90px) Start(0) Pend(10px) simpTblRow:h_Bgc($hoverBgColor) Pos(st) Bgc($lv3BgColor) Z(1) Bgc($lv1BgColor) Ta(start)! Fz(s)\" colspan=\"\"><label class=\"Ta(c) Pos(r) Va(tb) Pend(5px) D(n)--print\" data-id=\"portfolio-checkbox\"><input aria-label=\"Select GOOGL\" class=\"Pos(a) Op(0) checkbox\" type=\"checkbox\"/><svg class=\"Va(m)! H(16px) W(16px) checkbox:f+Stk($linkColor)! checkbox:f+Fill($linkColor)! Stk($plusGray) Fill($plusGray) Cur(p)\" data-icon=\"checkbox-unchecked\" height=\"16\" style=\"stroke-width:0;vertical-align:bottom\" viewbox=\"0 0 24 24\" width=\"16\"><path d=\"M3 3h18v18H3V3zm19-2H2c-.553 0-1 .448-1 1v20c0 .552.447 1 1 1h20c.552 0 1-.448 1-1V2c0-.552-.448-1-1-1z\"></path></svg></label><a class=\"Fw(600) C($linkColor)\" data-test=\"quoteLink\" href=\"/quote/GOOGL?p=GOOGL\" title=\"Alphabet Inc.\">GOOGL</a><div class=\"W(3px) Pos(a) Start(100%) T(0) H(100%) Bg($pfColumnFakeShadowGradient) Pe(n) Pend(5px)\"></div></td><td aria-label=\"Name\" class=\"Va(m) Ta(start) Px(10px) Fz(s)\" colspan=\"\">Alphabet Inc.</td><td aria-label=\"Price (Intraday)\" class=\"Va(m) Ta(end) Pstart(20px) Fw(600) Fz(s)\" colspan=\"\"><fin-streamer active=\"\" class=\"\" data-field=\"regularMarketPrice\" data-pricehint=\"2\" data-symbol=\"GOOGL\" data-test=\"colorChange\" data-trend=\"none\" value=\"105.35\">105.35</fin-streamer></td><td aria-label=\"Change\" class=\"Va(m) Ta(end) Pstart(20px) Fw(600) Fz(s)\" colspan=\"\"><fin-streamer active=\"\" class=\"Fw(600)\" data-field=\"regularMarketChange\" data-pricehint=\"2\" data-symbol=\"GOOGL\" data-test=\"colorChange\" data-trend=\"txt\" value=\"-1.090004\"><span class=\"C($negativeColor)\">-1.09</span></fin-streamer></td><td aria-label=\"% Change\" class=\"Va(m) Ta(end) Pstart(20px) Fw(600) Fz(s)\" colspan=\"\"><fin-streamer active=\"\" class=\"Fw(600)\" data-field=\"regularMarketChangePercent\" data-pricehint=\"2\" data-symbol=\"GOOGL\" data-test=\"colorChange\" data-trend=\"txt\" value=\"-1.0240549\"><span class=\"C($negativeColor)\">-1.02%</span></fin-streamer></td><td aria-label=\"Volume\" class=\"Va(m) Ta(end) Pstart(20px) Fz(s)\" colspan=\"\"><fin-streamer active=\"\" class=\"\" data-field=\"regularMarketVolume\" data-pricehint=\"2\" data-symbol=\"GOOGL\" data-test=\"colorChange\" data-trend=\"none\" value=\"26311803\">26.312M</fin-streamer></td><td aria-label=\"Avg Vol (3 month)\" class=\"Va(m) Ta(end) Pstart(20px) Fz(s)\" colspan=\"\">40.284M</td><td aria-label=\"Market Cap\" class=\"Va(m) Ta(end) Pstart(20px) Pend(10px) W(120px) Fz(s)\" colspan=\"\"><fin-streamer active=\"\" class=\"\" data-field=\"marketCap\" data-pricehint=\"2\" data-symbol=\"GOOGL\" data-test=\"colorChange\" data-trend=\"none\" value=\"1352230502400\">1.352T</fin-streamer></td><td aria-label=\"PE Ratio (TTM)\" class=\"Va(m) Ta(end) Pstart(20px) Fz(s)\" colspan=\"\">23.52</td><td aria-label=\"52 Week Range\" class=\"Va(m) Ta(end) Pstart(20px) Pend(6px) Fz(s)\" colspan=\"\"><canvas style=\"width:140px;height:23px\"></canvas></td></tr>\n",
            "<tr class=\"simpTblRow Bgc($hoverBgColor):h BdB Bdbc($seperatorColor) Bdbc($tableBorderBlue):h H(32px) Bgc($lv2BgColor)\"><td aria-label=\"Symbol\" class=\"Va(m) Ta(start) Pstart(6px) Pend(10px) Miw(90px) Start(0) Pend(10px) simpTblRow:h_Bgc($hoverBgColor) Pos(st) Bgc($lv3BgColor) Z(1) Bgc($lv2BgColor) Ta(start)! Fz(s)\" colspan=\"\"><label class=\"Ta(c) Pos(r) Va(tb) Pend(5px) D(n)--print\" data-id=\"portfolio-checkbox\"><input aria-label=\"Select COIN\" class=\"Pos(a) Op(0) checkbox\" type=\"checkbox\"/><svg class=\"Va(m)! H(16px) W(16px) checkbox:f+Stk($linkColor)! checkbox:f+Fill($linkColor)! Stk($plusGray) Fill($plusGray) Cur(p)\" data-icon=\"checkbox-unchecked\" height=\"16\" style=\"stroke-width:0;vertical-align:bottom\" viewbox=\"0 0 24 24\" width=\"16\"><path d=\"M3 3h18v18H3V3zm19-2H2c-.553 0-1 .448-1 1v20c0 .552.447 1 1 1h20c.552 0 1-.448 1-1V2c0-.552-.448-1-1-1z\"></path></svg></label><a class=\"Fw(600) C($linkColor)\" data-test=\"quoteLink\" href=\"/quote/COIN?p=COIN\" title=\"Coinbase Global, Inc.\">COIN</a><div class=\"W(3px) Pos(a) Start(100%) T(0) H(100%) Bg($pfColumnFakeShadowGradient) Pe(n) Pend(5px)\"></div></td><td aria-label=\"Name\" class=\"Va(m) Ta(start) Px(10px) Fz(s)\" colspan=\"\">Coinbase Global, Inc.</td><td aria-label=\"Price (Intraday)\" class=\"Va(m) Ta(end) Pstart(20px) Fw(600) Fz(s)\" colspan=\"\"><fin-streamer active=\"\" class=\"\" data-field=\"regularMarketPrice\" data-pricehint=\"2\" data-symbol=\"COIN\" data-test=\"colorChange\" data-trend=\"none\" value=\"70.19\">70.19</fin-streamer></td><td aria-label=\"Change\" class=\"Va(m) Ta(end) Pstart(20px) Fw(600) Fz(s)\" colspan=\"\"><fin-streamer active=\"\" class=\"Fw(600)\" data-field=\"regularMarketChange\" data-pricehint=\"2\" data-symbol=\"COIN\" data-test=\"colorChange\" data-trend=\"txt\" value=\"4.060005\"><span class=\"C($positiveColor)\">+4.06</span></fin-streamer></td><td aria-label=\"% Change\" class=\"Va(m) Ta(end) Pstart(20px) Fw(600) Fz(s)\" colspan=\"\"><fin-streamer active=\"\" class=\"Fw(600)\" data-field=\"regularMarketChangePercent\" data-pricehint=\"2\" data-symbol=\"COIN\" data-test=\"colorChange\" data-trend=\"txt\" value=\"6.1394305\"><span class=\"C($positiveColor)\">+6.14%</span></fin-streamer></td><td aria-label=\"Volume\" class=\"Va(m) Ta(end) Pstart(20px) Fz(s)\" colspan=\"\"><fin-streamer active=\"\" class=\"\" data-field=\"regularMarketVolume\" data-pricehint=\"2\" data-symbol=\"COIN\" data-test=\"colorChange\" data-trend=\"none\" value=\"25221927\">25.222M</fin-streamer></td><td aria-label=\"Avg Vol (3 month)\" class=\"Va(m) Ta(end) Pstart(20px) Fz(s)\" colspan=\"\">20.241M</td><td aria-label=\"Market Cap\" class=\"Va(m) Ta(end) Pstart(20px) Pend(10px) W(120px) Fz(s)\" colspan=\"\"><fin-streamer active=\"\" class=\"\" data-field=\"marketCap\" data-pricehint=\"2\" data-symbol=\"COIN\" data-test=\"colorChange\" data-trend=\"none\" value=\"16247160832\">16.247B</fin-streamer></td><td aria-label=\"PE Ratio (TTM)\" class=\"Va(m) Ta(end) Pstart(20px) Fz(s)\" colspan=\"\"><span>N/A</span></td><td aria-label=\"52 Week Range\" class=\"Va(m) Ta(end) Pstart(20px) Pend(6px) Fz(s)\" colspan=\"\"><canvas style=\"width:140px;height:23px\"></canvas></td></tr>\n",
            "<tr class=\"simpTblRow Bgc($hoverBgColor):h BdB Bdbc($seperatorColor) Bdbc($tableBorderBlue):h H(32px) Bgc($lv1BgColor)\"><td aria-label=\"Symbol\" class=\"Va(m) Ta(start) Pstart(6px) Pend(10px) Miw(90px) Start(0) Pend(10px) simpTblRow:h_Bgc($hoverBgColor) Pos(st) Bgc($lv3BgColor) Z(1) Bgc($lv1BgColor) Ta(start)! Fz(s)\" colspan=\"\"><label class=\"Ta(c) Pos(r) Va(tb) Pend(5px) D(n)--print\" data-id=\"portfolio-checkbox\"><input aria-label=\"Select WFC\" class=\"Pos(a) Op(0) checkbox\" type=\"checkbox\"/><svg class=\"Va(m)! H(16px) W(16px) checkbox:f+Stk($linkColor)! checkbox:f+Fill($linkColor)! Stk($plusGray) Fill($plusGray) Cur(p)\" data-icon=\"checkbox-unchecked\" height=\"16\" style=\"stroke-width:0;vertical-align:bottom\" viewbox=\"0 0 24 24\" width=\"16\"><path d=\"M3 3h18v18H3V3zm19-2H2c-.553 0-1 .448-1 1v20c0 .552.447 1 1 1h20c.552 0 1-.448 1-1V2c0-.552-.448-1-1-1z\"></path></svg></label><a class=\"Fw(600) C($linkColor)\" data-test=\"quoteLink\" href=\"/quote/WFC?p=WFC\" title=\"Wells Fargo &amp; Company\">WFC</a><div class=\"W(3px) Pos(a) Start(100%) T(0) H(100%) Bg($pfColumnFakeShadowGradient) Pe(n) Pend(5px)\"></div></td><td aria-label=\"Name\" class=\"Va(m) Ta(start) Px(10px) Fz(s)\" colspan=\"\">Wells Fargo &amp; Company</td><td aria-label=\"Price (Intraday)\" class=\"Va(m) Ta(end) Pstart(20px) Fw(600) Fz(s)\" colspan=\"\"><fin-streamer active=\"\" class=\"\" data-field=\"regularMarketPrice\" data-pricehint=\"2\" data-symbol=\"WFC\" data-test=\"colorChange\" data-trend=\"none\" value=\"39.37\">39.37</fin-streamer></td><td aria-label=\"Change\" class=\"Va(m) Ta(end) Pstart(20px) Fw(600) Fz(s)\" colspan=\"\"><fin-streamer active=\"\" class=\"Fw(600)\" data-field=\"regularMarketChange\" data-pricehint=\"2\" data-symbol=\"WFC\" data-test=\"colorChange\" data-trend=\"txt\" value=\"0.73999786\"><span class=\"C($positiveColor)\">+0.74</span></fin-streamer></td><td aria-label=\"% Change\" class=\"Va(m) Ta(end) Pstart(20px) Fw(600) Fz(s)\" colspan=\"\"><fin-streamer active=\"\" class=\"Fw(600)\" data-field=\"regularMarketChangePercent\" data-pricehint=\"2\" data-symbol=\"WFC\" data-test=\"colorChange\" data-trend=\"txt\" value=\"1.9156041\"><span class=\"C($positiveColor)\">+1.92%</span></fin-streamer></td><td aria-label=\"Volume\" class=\"Va(m) Ta(end) Pstart(20px) Fz(s)\" colspan=\"\"><fin-streamer active=\"\" class=\"\" data-field=\"regularMarketVolume\" data-pricehint=\"2\" data-symbol=\"WFC\" data-test=\"colorChange\" data-trend=\"none\" value=\"25089653\">25.09M</fin-streamer></td><td aria-label=\"Avg Vol (3 month)\" class=\"Va(m) Ta(end) Pstart(20px) Fz(s)\" colspan=\"\">23.943M</td><td aria-label=\"Market Cap\" class=\"Va(m) Ta(end) Pstart(20px) Pend(10px) W(120px) Fz(s)\" colspan=\"\"><fin-streamer active=\"\" class=\"\" data-field=\"marketCap\" data-pricehint=\"2\" data-symbol=\"WFC\" data-test=\"colorChange\" data-trend=\"none\" value=\"148704034816\">148.704B</fin-streamer></td><td aria-label=\"PE Ratio (TTM)\" class=\"Va(m) Ta(end) Pstart(20px) Fz(s)\" colspan=\"\">12.54</td><td aria-label=\"52 Week Range\" class=\"Va(m) Ta(end) Pstart(20px) Pend(6px) Fz(s)\" colspan=\"\"><canvas style=\"width:140px;height:23px\"></canvas></td></tr>\n",
            "<tr class=\"simpTblRow Bgc($hoverBgColor):h BdB Bdbc($seperatorColor) Bdbc($tableBorderBlue):h H(32px) Bgc($lv2BgColor)\"><td aria-label=\"Symbol\" class=\"Va(m) Ta(start) Pstart(6px) Pend(10px) Miw(90px) Start(0) Pend(10px) simpTblRow:h_Bgc($hoverBgColor) Pos(st) Bgc($lv3BgColor) Z(1) Bgc($lv2BgColor) Ta(start)! Fz(s)\" colspan=\"\"><label class=\"Ta(c) Pos(r) Va(tb) Pend(5px) D(n)--print\" data-id=\"portfolio-checkbox\"><input aria-label=\"Select T\" class=\"Pos(a) Op(0) checkbox\" type=\"checkbox\"/><svg class=\"Va(m)! H(16px) W(16px) checkbox:f+Stk($linkColor)! checkbox:f+Fill($linkColor)! Stk($plusGray) Fill($plusGray) Cur(p)\" data-icon=\"checkbox-unchecked\" height=\"16\" style=\"stroke-width:0;vertical-align:bottom\" viewbox=\"0 0 24 24\" width=\"16\"><path d=\"M3 3h18v18H3V3zm19-2H2c-.553 0-1 .448-1 1v20c0 .552.447 1 1 1h20c.552 0 1-.448 1-1V2c0-.552-.448-1-1-1z\"></path></svg></label><a class=\"Fw(600) C($linkColor)\" data-test=\"quoteLink\" href=\"/quote/T?p=T\" title=\"AT&amp;T Inc.\">T</a><div class=\"W(3px) Pos(a) Start(100%) T(0) H(100%) Bg($pfColumnFakeShadowGradient) Pe(n) Pend(5px)\"></div></td><td aria-label=\"Name\" class=\"Va(m) Ta(start) Px(10px) Fz(s)\" colspan=\"\">AT&amp;T Inc.</td><td aria-label=\"Price (Intraday)\" class=\"Va(m) Ta(end) Pstart(20px) Fw(600) Fz(s)\" colspan=\"\"><fin-streamer active=\"\" class=\"\" data-field=\"regularMarketPrice\" data-pricehint=\"2\" data-symbol=\"T\" data-test=\"colorChange\" data-trend=\"none\" value=\"19.69\">19.69</fin-streamer></td><td aria-label=\"Change\" class=\"Va(m) Ta(end) Pstart(20px) Fw(600) Fz(s)\" colspan=\"\"><fin-streamer active=\"\" class=\"Fw(600)\" data-field=\"regularMarketChange\" data-pricehint=\"2\" data-symbol=\"T\" data-test=\"colorChange\" data-trend=\"txt\" value=\"0.12000084\"><span class=\"C($positiveColor)\">+0.12</span></fin-streamer></td><td aria-label=\"% Change\" class=\"Va(m) Ta(end) Pstart(20px) Fw(600) Fz(s)\" colspan=\"\"><fin-streamer active=\"\" class=\"Fw(600)\" data-field=\"regularMarketChangePercent\" data-pricehint=\"2\" data-symbol=\"T\" data-test=\"colorChange\" data-trend=\"txt\" value=\"0.61318773\"><span class=\"C($positiveColor)\">+0.61%</span></fin-streamer></td><td aria-label=\"Volume\" class=\"Va(m) Ta(end) Pstart(20px) Fz(s)\" colspan=\"\"><fin-streamer active=\"\" class=\"\" data-field=\"regularMarketVolume\" data-pricehint=\"2\" data-symbol=\"T\" data-test=\"colorChange\" data-trend=\"none\" value=\"24050010\">24.05M</fin-streamer></td><td aria-label=\"Avg Vol (3 month)\" class=\"Va(m) Ta(end) Pstart(20px) Fz(s)\" colspan=\"\">31.385M</td><td aria-label=\"Market Cap\" class=\"Va(m) Ta(end) Pstart(20px) Pend(10px) W(120px) Fz(s)\" colspan=\"\"><fin-streamer active=\"\" class=\"\" data-field=\"marketCap\" data-pricehint=\"2\" data-symbol=\"T\" data-test=\"colorChange\" data-trend=\"none\" value=\"140852822016\">140.853B</fin-streamer></td><td aria-label=\"PE Ratio (TTM)\" class=\"Va(m) Ta(end) Pstart(20px) Fz(s)\" colspan=\"\"><span>N/A</span></td><td aria-label=\"52 Week Range\" class=\"Va(m) Ta(end) Pstart(20px) Pend(6px) Fz(s)\" colspan=\"\"><canvas style=\"width:140px;height:23px\"></canvas></td></tr>\n",
            "<tr class=\"simpTblRow Bgc($hoverBgColor):h BdB Bdbc($seperatorColor) Bdbc($tableBorderBlue):h H(32px) Bgc($lv1BgColor)\"><td aria-label=\"Symbol\" class=\"Va(m) Ta(start) Pstart(6px) Pend(10px) Miw(90px) Start(0) Pend(10px) simpTblRow:h_Bgc($hoverBgColor) Pos(st) Bgc($lv3BgColor) Z(1) Bgc($lv1BgColor) Ta(start)! Fz(s)\" colspan=\"\"><label class=\"Ta(c) Pos(r) Va(tb) Pend(5px) D(n)--print\" data-id=\"portfolio-checkbox\"><input aria-label=\"Select CCL\" class=\"Pos(a) Op(0) checkbox\" type=\"checkbox\"/><svg class=\"Va(m)! H(16px) W(16px) checkbox:f+Stk($linkColor)! checkbox:f+Fill($linkColor)! Stk($plusGray) Fill($plusGray) Cur(p)\" data-icon=\"checkbox-unchecked\" height=\"16\" style=\"stroke-width:0;vertical-align:bottom\" viewbox=\"0 0 24 24\" width=\"16\"><path d=\"M3 3h18v18H3V3zm19-2H2c-.553 0-1 .448-1 1v20c0 .552.447 1 1 1h20c.552 0 1-.448 1-1V2c0-.552-.448-1-1-1z\"></path></svg></label><a class=\"Fw(600) C($linkColor)\" data-test=\"quoteLink\" href=\"/quote/CCL?p=CCL\" title=\"Carnival Corporation &amp; plc\">CCL</a><div class=\"W(3px) Pos(a) Start(100%) T(0) H(100%) Bg($pfColumnFakeShadowGradient) Pe(n) Pend(5px)\"></div></td><td aria-label=\"Name\" class=\"Va(m) Ta(start) Px(10px) Fz(s)\" colspan=\"\">Carnival Corporation &amp; plc</td><td aria-label=\"Price (Intraday)\" class=\"Va(m) Ta(end) Pstart(20px) Fw(600) Fz(s)\" colspan=\"\"><fin-streamer active=\"\" class=\"\" data-field=\"regularMarketPrice\" data-pricehint=\"2\" data-symbol=\"CCL\" data-test=\"colorChange\" data-trend=\"none\" value=\"10.04\">10.04</fin-streamer></td><td aria-label=\"Change\" class=\"Va(m) Ta(end) Pstart(20px) Fw(600) Fz(s)\" colspan=\"\"><fin-streamer active=\"\" class=\"Fw(600)\" data-field=\"regularMarketChange\" data-pricehint=\"2\" data-symbol=\"CCL\" data-test=\"colorChange\" data-trend=\"txt\" value=\"0.17000008\"><span class=\"C($positiveColor)\">+0.17</span></fin-streamer></td><td aria-label=\"% Change\" class=\"Va(m) Ta(end) Pstart(20px) Fw(600) Fz(s)\" colspan=\"\"><fin-streamer active=\"\" class=\"Fw(600)\" data-field=\"regularMarketChangePercent\" data-pricehint=\"2\" data-symbol=\"CCL\" data-test=\"colorChange\" data-trend=\"txt\" value=\"1.7223918\"><span class=\"C($positiveColor)\">+1.72%</span></fin-streamer></td><td aria-label=\"Volume\" class=\"Va(m) Ta(end) Pstart(20px) Fz(s)\" colspan=\"\"><fin-streamer active=\"\" class=\"\" data-field=\"regularMarketVolume\" data-pricehint=\"2\" data-symbol=\"CCL\" data-test=\"colorChange\" data-trend=\"none\" value=\"25833595\">25.834M</fin-streamer></td><td aria-label=\"Avg Vol (3 month)\" class=\"Va(m) Ta(end) Pstart(20px) Fz(s)\" colspan=\"\">39.952M</td><td aria-label=\"Market Cap\" class=\"Va(m) Ta(end) Pstart(20px) Pend(10px) W(120px) Fz(s)\" colspan=\"\"><fin-streamer active=\"\" class=\"\" data-field=\"marketCap\" data-pricehint=\"2\" data-symbol=\"CCL\" data-test=\"colorChange\" data-trend=\"none\" value=\"13080312832\">13.08B</fin-streamer></td><td aria-label=\"PE Ratio (TTM)\" class=\"Va(m) Ta(end) Pstart(20px) Fz(s)\" colspan=\"\"><span>N/A</span></td><td aria-label=\"52 Week Range\" class=\"Va(m) Ta(end) Pstart(20px) Pend(6px) Fz(s)\" colspan=\"\"><canvas style=\"width:140px;height:23px\"></canvas></td></tr>\n",
            "<tr class=\"simpTblRow Bgc($hoverBgColor):h BdB Bdbc($seperatorColor) Bdbc($tableBorderBlue):h H(32px) Bgc($lv2BgColor)\"><td aria-label=\"Symbol\" class=\"Va(m) Ta(start) Pstart(6px) Pend(10px) Miw(90px) Start(0) Pend(10px) simpTblRow:h_Bgc($hoverBgColor) Pos(st) Bgc($lv3BgColor) Z(1) Bgc($lv2BgColor) Ta(start)! Fz(s)\" colspan=\"\"><label class=\"Ta(c) Pos(r) Va(tb) Pend(5px) D(n)--print\" data-id=\"portfolio-checkbox\"><input aria-label=\"Select PBR\" class=\"Pos(a) Op(0) checkbox\" type=\"checkbox\"/><svg class=\"Va(m)! H(16px) W(16px) checkbox:f+Stk($linkColor)! checkbox:f+Fill($linkColor)! Stk($plusGray) Fill($plusGray) Cur(p)\" data-icon=\"checkbox-unchecked\" height=\"16\" style=\"stroke-width:0;vertical-align:bottom\" viewbox=\"0 0 24 24\" width=\"16\"><path d=\"M3 3h18v18H3V3zm19-2H2c-.553 0-1 .448-1 1v20c0 .552.447 1 1 1h20c.552 0 1-.448 1-1V2c0-.552-.448-1-1-1z\"></path></svg></label><a class=\"Fw(600) C($linkColor)\" data-test=\"quoteLink\" href=\"/quote/PBR?p=PBR\" title=\"Petróleo Brasileiro S.A. - Petrobras\">PBR</a><div class=\"W(3px) Pos(a) Start(100%) T(0) H(100%) Bg($pfColumnFakeShadowGradient) Pe(n) Pend(5px)\"></div></td><td aria-label=\"Name\" class=\"Va(m) Ta(start) Px(10px) Fz(s)\" colspan=\"\">Petróleo Brasileiro S.A. - Petrobras</td><td aria-label=\"Price (Intraday)\" class=\"Va(m) Ta(end) Pstart(20px) Fw(600) Fz(s)\" colspan=\"\"><fin-streamer active=\"\" class=\"\" data-field=\"regularMarketPrice\" data-pricehint=\"2\" data-symbol=\"PBR\" data-test=\"colorChange\" data-trend=\"none\" value=\"11.57\">11.57</fin-streamer></td><td aria-label=\"Change\" class=\"Va(m) Ta(end) Pstart(20px) Fw(600) Fz(s)\" colspan=\"\"><fin-streamer active=\"\" class=\"Fw(600)\" data-field=\"regularMarketChange\" data-pricehint=\"2\" data-symbol=\"PBR\" data-test=\"colorChange\" data-trend=\"txt\" value=\"0.6700001\"><span class=\"C($positiveColor)\">+0.67</span></fin-streamer></td><td aria-label=\"% Change\" class=\"Va(m) Ta(end) Pstart(20px) Fw(600) Fz(s)\" colspan=\"\"><fin-streamer active=\"\" class=\"Fw(600)\" data-field=\"regularMarketChangePercent\" data-pricehint=\"2\" data-symbol=\"PBR\" data-test=\"colorChange\" data-trend=\"txt\" value=\"6.14679\"><span class=\"C($positiveColor)\">+6.15%</span></fin-streamer></td><td aria-label=\"Volume\" class=\"Va(m) Ta(end) Pstart(20px) Fz(s)\" colspan=\"\"><fin-streamer active=\"\" class=\"\" data-field=\"regularMarketVolume\" data-pricehint=\"2\" data-symbol=\"PBR\" data-test=\"colorChange\" data-trend=\"none\" value=\"23111907\">23.112M</fin-streamer></td><td aria-label=\"Avg Vol (3 month)\" class=\"Va(m) Ta(end) Pstart(20px) Fz(s)\" colspan=\"\">22.632M</td><td aria-label=\"Market Cap\" class=\"Va(m) Ta(end) Pstart(20px) Pend(10px) W(120px) Fz(s)\" colspan=\"\"><fin-streamer active=\"\" class=\"\" data-field=\"marketCap\" data-pricehint=\"2\" data-symbol=\"PBR\" data-test=\"colorChange\" data-trend=\"none\" value=\"75460698112\">75.461B</fin-streamer></td><td aria-label=\"PE Ratio (TTM)\" class=\"Va(m) Ta(end) Pstart(20px) Fz(s)\" colspan=\"\">2.02</td><td aria-label=\"52 Week Range\" class=\"Va(m) Ta(end) Pstart(20px) Pend(6px) Fz(s)\" colspan=\"\"><canvas style=\"width:140px;height:23px\"></canvas></td></tr>\n"
          ]
        }
      ],
      "source": [
        "for i in stock_table.find_all(\"tr\"):\n",
        "    print(i)"
      ]
    },
    {
      "cell_type": "code",
      "execution_count": null,
      "id": "e3e2097d",
      "metadata": {
        "id": "e3e2097d",
        "outputId": "9bdad498-4a15-43e6-b916-4bdfc38b2ea1"
      },
      "outputs": [
        {
          "name": "stdout",
          "output_type": "stream",
          "text": [
            "['TSLA', 'AMZN', 'F', 'RIOT', 'BAC', 'AMD', 'BBD', 'NIO', 'ITUB', 'AAPL', 'AMC', 'PLTR', 'AI', 'VALE', 'NVDA', 'PLUG', 'MSFT', 'INTC', 'SOFI', 'GOOGL', 'COIN', 'WFC', 'T', 'CCL', 'PBR']\n"
          ]
        }
      ],
      "source": [
        "symbol=[]\n",
        "for i in stock_table.find_all(\"tr\"):\n",
        "    sym=i.find(\"td\",attrs={\"aria-label\":\"Symbol\"})\n",
        "    symbol.append(sym.text)\n",
        "print(symbol)"
      ]
    },
    {
      "cell_type": "code",
      "execution_count": null,
      "id": "aaab67d2",
      "metadata": {
        "id": "aaab67d2",
        "outputId": "c95a412c-a5eb-49b2-fada-51686d2c14f3"
      },
      "outputs": [
        {
          "name": "stdout",
          "output_type": "stream",
          "text": [
            "['Tesla, Inc.', 'Amazon.com, Inc.', 'Ford Motor Company', 'Riot Platforms, Inc.', 'Bank of America Corporation', 'Advanced Micro Devices, Inc.', 'Banco Bradesco S.A.', 'NIO Inc.', 'Itaú Unibanco Holding S.A.', 'Apple Inc.', 'AMC Entertainment Holdings, Inc.', 'Palantir Technologies Inc.', 'C3.ai, Inc.', 'Vale S.A.', 'NVIDIA Corporation', 'Plug Power Inc.', 'Microsoft Corporation', 'Intel Corporation', 'SoFi Technologies, Inc.', 'Alphabet Inc.', 'Coinbase Global, Inc.', 'Wells Fargo & Company', 'AT&T Inc.', 'Carnival Corporation & plc', 'Petróleo Brasileiro S.A. - Petrobras']\n"
          ]
        }
      ],
      "source": [
        "names=[]\n",
        "for i in stock_table.find_all(\"tr\"):\n",
        "    name=i.find(\"td\",attrs={\"aria-label\":\"Name\"})\n",
        "    names.append(name.text)\n",
        "print(names)"
      ]
    },
    {
      "cell_type": "code",
      "execution_count": null,
      "id": "923a3114",
      "metadata": {
        "id": "923a3114",
        "outputId": "c98ad0d6-159e-470e-bdaf-5f46cad16f48"
      },
      "outputs": [
        {
          "name": "stdout",
          "output_type": "stream",
          "text": [
            "['186.79', '99.92', '12.87', '12.38', '28.71', '94.03', '2.7800', '9.52', '5.07', '160.80', '5.43', '8.61', '22.75', '16.42', '271.69', '9.76', '282.83', '32.35', '5.97', '105.35', '70.19', '39.37', '19.69', '10.04', '11.57']\n"
          ]
        }
      ],
      "source": [
        "prices=[]\n",
        "for i in stock_table.find_all(\"tr\"):\n",
        "    price=i.find(\"td\",attrs={\"aria-label\":\"Price (Intraday)\"})\n",
        "    prices.append(price.text)\n",
        "print(prices)"
      ]
    },
    {
      "cell_type": "code",
      "execution_count": null,
      "id": "abb87659",
      "metadata": {
        "id": "abb87659",
        "outputId": "7a11fbc0-a776-409e-ba89-9591ab019b6c"
      },
      "outputs": [
        {
          "name": "stdout",
          "output_type": "stream",
          "text": [
            "['+2.28', '-2.25', '+0.15', '+1.80', '+0.77', '-1.45', '+0.1600', '+0.47', '+0.24', '-1.23', '+0.19', '+0.22', '-0.32', '+1.05', '-4.10', '+0.40', '-6.56', '-0.17', '+0.06', '-1.09', '+4.06', '+0.74', '+0.12', '+0.17', '+0.67']\n"
          ]
        }
      ],
      "source": [
        "changes=[]\n",
        "for i in stock_table.find_all(\"tr\"):\n",
        "    change=i.find(\"td\",attrs={\"aria-label\":\"Change\"})\n",
        "    changes.append(change.text)\n",
        "print(changes)"
      ]
    },
    {
      "cell_type": "code",
      "execution_count": null,
      "id": "e93f2b8c",
      "metadata": {
        "id": "e93f2b8c",
        "outputId": "1ae968b5-ac02-432c-bd6b-7a48c2339d14"
      },
      "outputs": [
        {
          "name": "stdout",
          "output_type": "stream",
          "text": [
            "['+0.67', '+0.67', '+0.67', '+0.67', '+0.67', '+0.67', '+0.67', '+0.67', '+0.67', '+0.67', '+0.67', '+0.67', '+0.67', '+0.67', '+0.67', '+0.67', '+0.67', '+0.67', '+0.67', '+0.67', '+0.67', '+0.67', '+0.67', '+0.67', '+0.67']\n"
          ]
        }
      ],
      "source": [
        "perc_changes=[]\n",
        "for i in stock_table.find_all(\"tr\"):\n",
        "    perc_change=i.find(\"td\",attrs={\"aria-label\":\"% Change\"})\n",
        "    perc_changes.append(change.text)\n",
        "print(perc_changes)"
      ]
    },
    {
      "cell_type": "code",
      "execution_count": null,
      "id": "b361d400",
      "metadata": {
        "id": "b361d400",
        "outputId": "e38977c2-b375-4d4c-fcbe-9d1644b8412f"
      },
      "outputs": [
        {
          "name": "stdout",
          "output_type": "stream",
          "text": [
            "['115.771M', '60.418M', '62.949M', '55.029M', '58.295M', '51.936M', '46.337M', '44.158M', '44.495M', '47.507M', '36.001M', '35.214M', '31.486M', '30.452M', '30.02M', '28.713M', '27.277M', '27.059M', '26.455M', '26.312M', '25.222M', '25.09M', '24.05M', '25.834M', '23.112M']\n"
          ]
        }
      ],
      "source": [
        "Volumes=[]\n",
        "for i in stock_table.find_all(\"tr\"):\n",
        "    volume=i.find(\"td\",attrs={\"aria-label\":\"Volume\"})\n",
        "    Volumes.append(volume.text)\n",
        "print(Volumes)\n"
      ]
    },
    {
      "cell_type": "code",
      "execution_count": null,
      "id": "348f0111",
      "metadata": {
        "id": "348f0111",
        "outputId": "e4768d75-deda-4c48-8a8f-48309ecdb4d4"
      },
      "outputs": [
        {
          "name": "stdout",
          "output_type": "stream",
          "text": [
            "['169.054M', '64.921M', '70.066M', '18.738M', '57.968M', '62.438M', '32.31M', '44.303M', '33.258M', '65.351M', '39.16M', '41.59M', '25.685M', '22.538M', '50.135M', '18.69M', '31.871M', '48.317M', '36.62M', '40.284M', '20.241M', '23.943M', '31.385M', '39.952M', '22.632M']\n"
          ]
        }
      ],
      "source": [
        "Avg_Volumes=[]\n",
        "for i in stock_table.find_all(\"tr\"):\n",
        "    Avg_Volume=i.find(\"td\",attrs={\"aria-label\":\"Avg Vol (3 month)\"})\n",
        "    Avg_Volumes.append(Avg_Volume.text)\n",
        "print(Avg_Volumes)"
      ]
    },
    {
      "cell_type": "code",
      "execution_count": null,
      "id": "25a3f71d",
      "metadata": {
        "id": "25a3f71d",
        "outputId": "b6ffd4cc-3efc-4400-dbea-902fd2afb99c"
      },
      "outputs": [
        {
          "name": "stdout",
          "output_type": "stream",
          "text": [
            "['591.995B', '1.024T', '51.479B', '2.067B', '229.659B', '151.519B', '29.585B', '15.903B', '49.559B', '2.544T', '4.245B', '18.093B', '2.553B', '73.045B', '671.074B', '5.792B', '2.105T', '134.933B', '5.579B', '1.352T', '16.247B', '148.704B', '140.853B', '13.08B', '75.461B']\n"
          ]
        }
      ],
      "source": [
        "Markets=[]\n",
        "for i in stock_table.find_all(\"tr\"):\n",
        "    Market=i.find(\"td\",attrs={\"aria-label\":\"Market Cap\"})\n",
        "    Markets.append(Market.text)\n",
        "print(Markets)"
      ]
    },
    {
      "cell_type": "code",
      "execution_count": null,
      "id": "9af930bb",
      "metadata": {
        "id": "9af930bb",
        "outputId": "b25b6006-fd24-4c38-e782-454f1451c474"
      },
      "outputs": [
        {
          "name": "stdout",
          "output_type": "stream",
          "text": [
            "['51.74', 'N/A', 'N/A', 'N/A', '9.00', '108.08', '7.51', 'N/A', '8.45', '27.25', 'N/A', 'N/A', 'N/A', '4.47', '156.14', 'N/A', '31.43', '16.68', 'N/A', '23.52', 'N/A', '12.54', 'N/A', 'N/A', '2.02']\n"
          ]
        }
      ],
      "source": [
        "Ratios=[]\n",
        "for i in stock_table.find_all(\"tr\"):\n",
        "    Ratio=i.find(\"td\",attrs={\"aria-label\":\"PE Ratio (TTM)\"})\n",
        "    Ratios.append(Ratio.text)\n",
        "print(Ratios)"
      ]
    },
    {
      "cell_type": "code",
      "execution_count": null,
      "id": "c89aacad",
      "metadata": {
        "id": "c89aacad",
        "outputId": "cd252acd-b92b-4573-e1c1-889bb8ab6ecc"
      },
      "outputs": [
        {
          "name": "stdout",
          "output_type": "stream",
          "text": [
            "['', '', '', '', '', '', '', '', '', '', '', '', '', '', '', '', '', '', '', '', '', '', '', '', '']\n"
          ]
        }
      ],
      "source": [
        "Ranges=[]\n",
        "for i in stock_table.find_all(\"tr\"):\n",
        "    Range=i.find(\"td\",attrs={\"aria-label\":\"52 Week Range\"})\n",
        "    Ranges.append(Range.text)\n",
        "print(Ranges)"
      ]
    },
    {
      "cell_type": "code",
      "execution_count": null,
      "id": "2b025116",
      "metadata": {
        "id": "2b025116"
      },
      "outputs": [],
      "source": [
        "data={\"Symbol\":symbol,\"Name\":names,\"Price (Intraday)\":prices,\"Change\":changes,\"% Change\":perc_changes,\"Volume\":Volumes,\"Avg Vol (3 month)\":Avg_Volumes,\"Market Cap\":Markets,\"PE Ratio (TTM)\":Ratios,\"52 Week Range\":Ranges}"
      ]
    },
    {
      "cell_type": "code",
      "execution_count": null,
      "id": "8454473a",
      "metadata": {
        "id": "8454473a",
        "outputId": "b51ab8da-93cb-4f8f-dead-61a94ba16649"
      },
      "outputs": [
        {
          "data": {
            "text/plain": [
              "{'Symbol': ['TSLA',\n",
              "  'AMZN',\n",
              "  'F',\n",
              "  'RIOT',\n",
              "  'BAC',\n",
              "  'AMD',\n",
              "  'BBD',\n",
              "  'NIO',\n",
              "  'ITUB',\n",
              "  'AAPL',\n",
              "  'AMC',\n",
              "  'PLTR',\n",
              "  'AI',\n",
              "  'VALE',\n",
              "  'NVDA',\n",
              "  'PLUG',\n",
              "  'MSFT',\n",
              "  'INTC',\n",
              "  'SOFI',\n",
              "  'GOOGL',\n",
              "  'COIN',\n",
              "  'WFC',\n",
              "  'T',\n",
              "  'CCL',\n",
              "  'PBR'],\n",
              " 'Name': ['Tesla, Inc.',\n",
              "  'Amazon.com, Inc.',\n",
              "  'Ford Motor Company',\n",
              "  'Riot Platforms, Inc.',\n",
              "  'Bank of America Corporation',\n",
              "  'Advanced Micro Devices, Inc.',\n",
              "  'Banco Bradesco S.A.',\n",
              "  'NIO Inc.',\n",
              "  'Itaú Unibanco Holding S.A.',\n",
              "  'Apple Inc.',\n",
              "  'AMC Entertainment Holdings, Inc.',\n",
              "  'Palantir Technologies Inc.',\n",
              "  'C3.ai, Inc.',\n",
              "  'Vale S.A.',\n",
              "  'NVIDIA Corporation',\n",
              "  'Plug Power Inc.',\n",
              "  'Microsoft Corporation',\n",
              "  'Intel Corporation',\n",
              "  'SoFi Technologies, Inc.',\n",
              "  'Alphabet Inc.',\n",
              "  'Coinbase Global, Inc.',\n",
              "  'Wells Fargo & Company',\n",
              "  'AT&T Inc.',\n",
              "  'Carnival Corporation & plc',\n",
              "  'Petróleo Brasileiro S.A. - Petrobras'],\n",
              " 'Price (Intraday)': ['186.79',\n",
              "  '99.92',\n",
              "  '12.87',\n",
              "  '12.38',\n",
              "  '28.71',\n",
              "  '94.03',\n",
              "  '2.7800',\n",
              "  '9.52',\n",
              "  '5.07',\n",
              "  '160.80',\n",
              "  '5.43',\n",
              "  '8.61',\n",
              "  '22.75',\n",
              "  '16.42',\n",
              "  '271.69',\n",
              "  '9.76',\n",
              "  '282.83',\n",
              "  '32.35',\n",
              "  '5.97',\n",
              "  '105.35',\n",
              "  '70.19',\n",
              "  '39.37',\n",
              "  '19.69',\n",
              "  '10.04',\n",
              "  '11.57'],\n",
              " 'Change': ['+2.28',\n",
              "  '-2.25',\n",
              "  '+0.15',\n",
              "  '+1.80',\n",
              "  '+0.77',\n",
              "  '-1.45',\n",
              "  '+0.1600',\n",
              "  '+0.47',\n",
              "  '+0.24',\n",
              "  '-1.23',\n",
              "  '+0.19',\n",
              "  '+0.22',\n",
              "  '-0.32',\n",
              "  '+1.05',\n",
              "  '-4.10',\n",
              "  '+0.40',\n",
              "  '-6.56',\n",
              "  '-0.17',\n",
              "  '+0.06',\n",
              "  '-1.09',\n",
              "  '+4.06',\n",
              "  '+0.74',\n",
              "  '+0.12',\n",
              "  '+0.17',\n",
              "  '+0.67'],\n",
              " '% Change': ['+0.67',\n",
              "  '+0.67',\n",
              "  '+0.67',\n",
              "  '+0.67',\n",
              "  '+0.67',\n",
              "  '+0.67',\n",
              "  '+0.67',\n",
              "  '+0.67',\n",
              "  '+0.67',\n",
              "  '+0.67',\n",
              "  '+0.67',\n",
              "  '+0.67',\n",
              "  '+0.67',\n",
              "  '+0.67',\n",
              "  '+0.67',\n",
              "  '+0.67',\n",
              "  '+0.67',\n",
              "  '+0.67',\n",
              "  '+0.67',\n",
              "  '+0.67',\n",
              "  '+0.67',\n",
              "  '+0.67',\n",
              "  '+0.67',\n",
              "  '+0.67',\n",
              "  '+0.67'],\n",
              " 'Volume': ['115.771M',\n",
              "  '60.418M',\n",
              "  '62.949M',\n",
              "  '55.029M',\n",
              "  '58.295M',\n",
              "  '51.936M',\n",
              "  '46.337M',\n",
              "  '44.158M',\n",
              "  '44.495M',\n",
              "  '47.507M',\n",
              "  '36.001M',\n",
              "  '35.214M',\n",
              "  '31.486M',\n",
              "  '30.452M',\n",
              "  '30.02M',\n",
              "  '28.713M',\n",
              "  '27.277M',\n",
              "  '27.059M',\n",
              "  '26.455M',\n",
              "  '26.312M',\n",
              "  '25.222M',\n",
              "  '25.09M',\n",
              "  '24.05M',\n",
              "  '25.834M',\n",
              "  '23.112M'],\n",
              " 'Avg Vol (3 month)': ['169.054M',\n",
              "  '64.921M',\n",
              "  '70.066M',\n",
              "  '18.738M',\n",
              "  '57.968M',\n",
              "  '62.438M',\n",
              "  '32.31M',\n",
              "  '44.303M',\n",
              "  '33.258M',\n",
              "  '65.351M',\n",
              "  '39.16M',\n",
              "  '41.59M',\n",
              "  '25.685M',\n",
              "  '22.538M',\n",
              "  '50.135M',\n",
              "  '18.69M',\n",
              "  '31.871M',\n",
              "  '48.317M',\n",
              "  '36.62M',\n",
              "  '40.284M',\n",
              "  '20.241M',\n",
              "  '23.943M',\n",
              "  '31.385M',\n",
              "  '39.952M',\n",
              "  '22.632M'],\n",
              " 'Market Cap': ['591.995B',\n",
              "  '1.024T',\n",
              "  '51.479B',\n",
              "  '2.067B',\n",
              "  '229.659B',\n",
              "  '151.519B',\n",
              "  '29.585B',\n",
              "  '15.903B',\n",
              "  '49.559B',\n",
              "  '2.544T',\n",
              "  '4.245B',\n",
              "  '18.093B',\n",
              "  '2.553B',\n",
              "  '73.045B',\n",
              "  '671.074B',\n",
              "  '5.792B',\n",
              "  '2.105T',\n",
              "  '134.933B',\n",
              "  '5.579B',\n",
              "  '1.352T',\n",
              "  '16.247B',\n",
              "  '148.704B',\n",
              "  '140.853B',\n",
              "  '13.08B',\n",
              "  '75.461B'],\n",
              " 'PE Ratio (TTM)': ['51.74',\n",
              "  'N/A',\n",
              "  'N/A',\n",
              "  'N/A',\n",
              "  '9.00',\n",
              "  '108.08',\n",
              "  '7.51',\n",
              "  'N/A',\n",
              "  '8.45',\n",
              "  '27.25',\n",
              "  'N/A',\n",
              "  'N/A',\n",
              "  'N/A',\n",
              "  '4.47',\n",
              "  '156.14',\n",
              "  'N/A',\n",
              "  '31.43',\n",
              "  '16.68',\n",
              "  'N/A',\n",
              "  '23.52',\n",
              "  'N/A',\n",
              "  '12.54',\n",
              "  'N/A',\n",
              "  'N/A',\n",
              "  '2.02'],\n",
              " '52 Week Range': ['',\n",
              "  '',\n",
              "  '',\n",
              "  '',\n",
              "  '',\n",
              "  '',\n",
              "  '',\n",
              "  '',\n",
              "  '',\n",
              "  '',\n",
              "  '',\n",
              "  '',\n",
              "  '',\n",
              "  '',\n",
              "  '',\n",
              "  '',\n",
              "  '',\n",
              "  '',\n",
              "  '',\n",
              "  '',\n",
              "  '',\n",
              "  '',\n",
              "  '',\n",
              "  '',\n",
              "  '']}"
            ]
          },
          "execution_count": 59,
          "metadata": {},
          "output_type": "execute_result"
        }
      ],
      "source": [
        "data"
      ]
    },
    {
      "cell_type": "code",
      "execution_count": null,
      "id": "b0ea866a",
      "metadata": {
        "id": "b0ea866a",
        "outputId": "dc149de6-1123-4d67-84ca-a2a76de701d2"
      },
      "outputs": [
        {
          "name": "stdout",
          "output_type": "stream",
          "text": [
            "Requirement already satisfied: pandas in c:\\users\\student\\anaconda3\\lib\\site-packages (1.2.4)\n",
            "Requirement already satisfied: python-dateutil>=2.7.3 in c:\\users\\student\\anaconda3\\lib\\site-packages (from pandas) (2.8.1)\n",
            "Requirement already satisfied: pytz>=2017.3 in c:\\users\\student\\anaconda3\\lib\\site-packages (from pandas) (2021.1)\n",
            "Requirement already satisfied: numpy>=1.16.5 in c:\\users\\student\\anaconda3\\lib\\site-packages (from pandas) (1.20.1)\n",
            "Requirement already satisfied: six>=1.5 in c:\\users\\student\\anaconda3\\lib\\site-packages (from python-dateutil>=2.7.3->pandas) (1.15.0)\n",
            "Note: you may need to restart the kernel to use updated packages.\n"
          ]
        }
      ],
      "source": [
        "pip install pandas"
      ]
    },
    {
      "cell_type": "code",
      "execution_count": null,
      "id": "e7fb88b7",
      "metadata": {
        "id": "e7fb88b7",
        "outputId": "1dc31445-6c7b-4577-ee4f-12b413555ff4"
      },
      "outputs": [
        {
          "data": {
            "text/html": [
              "<div>\n",
              "<style scoped>\n",
              "    .dataframe tbody tr th:only-of-type {\n",
              "        vertical-align: middle;\n",
              "    }\n",
              "\n",
              "    .dataframe tbody tr th {\n",
              "        vertical-align: top;\n",
              "    }\n",
              "\n",
              "    .dataframe thead th {\n",
              "        text-align: right;\n",
              "    }\n",
              "</style>\n",
              "<table border=\"1\" class=\"dataframe\">\n",
              "  <thead>\n",
              "    <tr style=\"text-align: right;\">\n",
              "      <th></th>\n",
              "      <th>Symbol</th>\n",
              "      <th>Name</th>\n",
              "      <th>Price (Intraday)</th>\n",
              "      <th>Change</th>\n",
              "      <th>% Change</th>\n",
              "      <th>Volume</th>\n",
              "      <th>Avg Vol (3 month)</th>\n",
              "      <th>Market Cap</th>\n",
              "      <th>PE Ratio (TTM)</th>\n",
              "      <th>52 Week Range</th>\n",
              "    </tr>\n",
              "  </thead>\n",
              "  <tbody>\n",
              "    <tr>\n",
              "      <th>1</th>\n",
              "      <td>TSLA</td>\n",
              "      <td>Tesla, Inc.</td>\n",
              "      <td>186.79</td>\n",
              "      <td>+2.28</td>\n",
              "      <td>+0.67</td>\n",
              "      <td>115.771M</td>\n",
              "      <td>169.054M</td>\n",
              "      <td>591.995B</td>\n",
              "      <td>51.74</td>\n",
              "      <td></td>\n",
              "    </tr>\n",
              "    <tr>\n",
              "      <th>2</th>\n",
              "      <td>AMZN</td>\n",
              "      <td>Amazon.com, Inc.</td>\n",
              "      <td>99.92</td>\n",
              "      <td>-2.25</td>\n",
              "      <td>+0.67</td>\n",
              "      <td>60.418M</td>\n",
              "      <td>64.921M</td>\n",
              "      <td>1.024T</td>\n",
              "      <td>N/A</td>\n",
              "      <td></td>\n",
              "    </tr>\n",
              "    <tr>\n",
              "      <th>3</th>\n",
              "      <td>F</td>\n",
              "      <td>Ford Motor Company</td>\n",
              "      <td>12.87</td>\n",
              "      <td>+0.15</td>\n",
              "      <td>+0.67</td>\n",
              "      <td>62.949M</td>\n",
              "      <td>70.066M</td>\n",
              "      <td>51.479B</td>\n",
              "      <td>N/A</td>\n",
              "      <td></td>\n",
              "    </tr>\n",
              "    <tr>\n",
              "      <th>4</th>\n",
              "      <td>RIOT</td>\n",
              "      <td>Riot Platforms, Inc.</td>\n",
              "      <td>12.38</td>\n",
              "      <td>+1.80</td>\n",
              "      <td>+0.67</td>\n",
              "      <td>55.029M</td>\n",
              "      <td>18.738M</td>\n",
              "      <td>2.067B</td>\n",
              "      <td>N/A</td>\n",
              "      <td></td>\n",
              "    </tr>\n",
              "    <tr>\n",
              "      <th>5</th>\n",
              "      <td>BAC</td>\n",
              "      <td>Bank of America Corporation</td>\n",
              "      <td>28.71</td>\n",
              "      <td>+0.77</td>\n",
              "      <td>+0.67</td>\n",
              "      <td>58.295M</td>\n",
              "      <td>57.968M</td>\n",
              "      <td>229.659B</td>\n",
              "      <td>9.00</td>\n",
              "      <td></td>\n",
              "    </tr>\n",
              "    <tr>\n",
              "      <th>6</th>\n",
              "      <td>AMD</td>\n",
              "      <td>Advanced Micro Devices, Inc.</td>\n",
              "      <td>94.03</td>\n",
              "      <td>-1.45</td>\n",
              "      <td>+0.67</td>\n",
              "      <td>51.936M</td>\n",
              "      <td>62.438M</td>\n",
              "      <td>151.519B</td>\n",
              "      <td>108.08</td>\n",
              "      <td></td>\n",
              "    </tr>\n",
              "    <tr>\n",
              "      <th>7</th>\n",
              "      <td>BBD</td>\n",
              "      <td>Banco Bradesco S.A.</td>\n",
              "      <td>2.7800</td>\n",
              "      <td>+0.1600</td>\n",
              "      <td>+0.67</td>\n",
              "      <td>46.337M</td>\n",
              "      <td>32.31M</td>\n",
              "      <td>29.585B</td>\n",
              "      <td>7.51</td>\n",
              "      <td></td>\n",
              "    </tr>\n",
              "    <tr>\n",
              "      <th>8</th>\n",
              "      <td>NIO</td>\n",
              "      <td>NIO Inc.</td>\n",
              "      <td>9.52</td>\n",
              "      <td>+0.47</td>\n",
              "      <td>+0.67</td>\n",
              "      <td>44.158M</td>\n",
              "      <td>44.303M</td>\n",
              "      <td>15.903B</td>\n",
              "      <td>N/A</td>\n",
              "      <td></td>\n",
              "    </tr>\n",
              "    <tr>\n",
              "      <th>9</th>\n",
              "      <td>ITUB</td>\n",
              "      <td>Itaú Unibanco Holding S.A.</td>\n",
              "      <td>5.07</td>\n",
              "      <td>+0.24</td>\n",
              "      <td>+0.67</td>\n",
              "      <td>44.495M</td>\n",
              "      <td>33.258M</td>\n",
              "      <td>49.559B</td>\n",
              "      <td>8.45</td>\n",
              "      <td></td>\n",
              "    </tr>\n",
              "    <tr>\n",
              "      <th>10</th>\n",
              "      <td>AAPL</td>\n",
              "      <td>Apple Inc.</td>\n",
              "      <td>160.80</td>\n",
              "      <td>-1.23</td>\n",
              "      <td>+0.67</td>\n",
              "      <td>47.507M</td>\n",
              "      <td>65.351M</td>\n",
              "      <td>2.544T</td>\n",
              "      <td>27.25</td>\n",
              "      <td></td>\n",
              "    </tr>\n",
              "    <tr>\n",
              "      <th>11</th>\n",
              "      <td>AMC</td>\n",
              "      <td>AMC Entertainment Holdings, Inc.</td>\n",
              "      <td>5.43</td>\n",
              "      <td>+0.19</td>\n",
              "      <td>+0.67</td>\n",
              "      <td>36.001M</td>\n",
              "      <td>39.16M</td>\n",
              "      <td>4.245B</td>\n",
              "      <td>N/A</td>\n",
              "      <td></td>\n",
              "    </tr>\n",
              "    <tr>\n",
              "      <th>12</th>\n",
              "      <td>PLTR</td>\n",
              "      <td>Palantir Technologies Inc.</td>\n",
              "      <td>8.61</td>\n",
              "      <td>+0.22</td>\n",
              "      <td>+0.67</td>\n",
              "      <td>35.214M</td>\n",
              "      <td>41.59M</td>\n",
              "      <td>18.093B</td>\n",
              "      <td>N/A</td>\n",
              "      <td></td>\n",
              "    </tr>\n",
              "    <tr>\n",
              "      <th>13</th>\n",
              "      <td>AI</td>\n",
              "      <td>C3.ai, Inc.</td>\n",
              "      <td>22.75</td>\n",
              "      <td>-0.32</td>\n",
              "      <td>+0.67</td>\n",
              "      <td>31.486M</td>\n",
              "      <td>25.685M</td>\n",
              "      <td>2.553B</td>\n",
              "      <td>N/A</td>\n",
              "      <td></td>\n",
              "    </tr>\n",
              "    <tr>\n",
              "      <th>14</th>\n",
              "      <td>VALE</td>\n",
              "      <td>Vale S.A.</td>\n",
              "      <td>16.42</td>\n",
              "      <td>+1.05</td>\n",
              "      <td>+0.67</td>\n",
              "      <td>30.452M</td>\n",
              "      <td>22.538M</td>\n",
              "      <td>73.045B</td>\n",
              "      <td>4.47</td>\n",
              "      <td></td>\n",
              "    </tr>\n",
              "    <tr>\n",
              "      <th>15</th>\n",
              "      <td>NVDA</td>\n",
              "      <td>NVIDIA Corporation</td>\n",
              "      <td>271.69</td>\n",
              "      <td>-4.10</td>\n",
              "      <td>+0.67</td>\n",
              "      <td>30.02M</td>\n",
              "      <td>50.135M</td>\n",
              "      <td>671.074B</td>\n",
              "      <td>156.14</td>\n",
              "      <td></td>\n",
              "    </tr>\n",
              "    <tr>\n",
              "      <th>16</th>\n",
              "      <td>PLUG</td>\n",
              "      <td>Plug Power Inc.</td>\n",
              "      <td>9.76</td>\n",
              "      <td>+0.40</td>\n",
              "      <td>+0.67</td>\n",
              "      <td>28.713M</td>\n",
              "      <td>18.69M</td>\n",
              "      <td>5.792B</td>\n",
              "      <td>N/A</td>\n",
              "      <td></td>\n",
              "    </tr>\n",
              "    <tr>\n",
              "      <th>17</th>\n",
              "      <td>MSFT</td>\n",
              "      <td>Microsoft Corporation</td>\n",
              "      <td>282.83</td>\n",
              "      <td>-6.56</td>\n",
              "      <td>+0.67</td>\n",
              "      <td>27.277M</td>\n",
              "      <td>31.871M</td>\n",
              "      <td>2.105T</td>\n",
              "      <td>31.43</td>\n",
              "      <td></td>\n",
              "    </tr>\n",
              "    <tr>\n",
              "      <th>18</th>\n",
              "      <td>INTC</td>\n",
              "      <td>Intel Corporation</td>\n",
              "      <td>32.35</td>\n",
              "      <td>-0.17</td>\n",
              "      <td>+0.67</td>\n",
              "      <td>27.059M</td>\n",
              "      <td>48.317M</td>\n",
              "      <td>134.933B</td>\n",
              "      <td>16.68</td>\n",
              "      <td></td>\n",
              "    </tr>\n",
              "    <tr>\n",
              "      <th>19</th>\n",
              "      <td>SOFI</td>\n",
              "      <td>SoFi Technologies, Inc.</td>\n",
              "      <td>5.97</td>\n",
              "      <td>+0.06</td>\n",
              "      <td>+0.67</td>\n",
              "      <td>26.455M</td>\n",
              "      <td>36.62M</td>\n",
              "      <td>5.579B</td>\n",
              "      <td>N/A</td>\n",
              "      <td></td>\n",
              "    </tr>\n",
              "    <tr>\n",
              "      <th>20</th>\n",
              "      <td>GOOGL</td>\n",
              "      <td>Alphabet Inc.</td>\n",
              "      <td>105.35</td>\n",
              "      <td>-1.09</td>\n",
              "      <td>+0.67</td>\n",
              "      <td>26.312M</td>\n",
              "      <td>40.284M</td>\n",
              "      <td>1.352T</td>\n",
              "      <td>23.52</td>\n",
              "      <td></td>\n",
              "    </tr>\n",
              "    <tr>\n",
              "      <th>21</th>\n",
              "      <td>COIN</td>\n",
              "      <td>Coinbase Global, Inc.</td>\n",
              "      <td>70.19</td>\n",
              "      <td>+4.06</td>\n",
              "      <td>+0.67</td>\n",
              "      <td>25.222M</td>\n",
              "      <td>20.241M</td>\n",
              "      <td>16.247B</td>\n",
              "      <td>N/A</td>\n",
              "      <td></td>\n",
              "    </tr>\n",
              "    <tr>\n",
              "      <th>22</th>\n",
              "      <td>WFC</td>\n",
              "      <td>Wells Fargo &amp; Company</td>\n",
              "      <td>39.37</td>\n",
              "      <td>+0.74</td>\n",
              "      <td>+0.67</td>\n",
              "      <td>25.09M</td>\n",
              "      <td>23.943M</td>\n",
              "      <td>148.704B</td>\n",
              "      <td>12.54</td>\n",
              "      <td></td>\n",
              "    </tr>\n",
              "    <tr>\n",
              "      <th>23</th>\n",
              "      <td>T</td>\n",
              "      <td>AT&amp;T Inc.</td>\n",
              "      <td>19.69</td>\n",
              "      <td>+0.12</td>\n",
              "      <td>+0.67</td>\n",
              "      <td>24.05M</td>\n",
              "      <td>31.385M</td>\n",
              "      <td>140.853B</td>\n",
              "      <td>N/A</td>\n",
              "      <td></td>\n",
              "    </tr>\n",
              "    <tr>\n",
              "      <th>24</th>\n",
              "      <td>CCL</td>\n",
              "      <td>Carnival Corporation &amp; plc</td>\n",
              "      <td>10.04</td>\n",
              "      <td>+0.17</td>\n",
              "      <td>+0.67</td>\n",
              "      <td>25.834M</td>\n",
              "      <td>39.952M</td>\n",
              "      <td>13.08B</td>\n",
              "      <td>N/A</td>\n",
              "      <td></td>\n",
              "    </tr>\n",
              "    <tr>\n",
              "      <th>25</th>\n",
              "      <td>PBR</td>\n",
              "      <td>Petróleo Brasileiro S.A. - Petrobras</td>\n",
              "      <td>11.57</td>\n",
              "      <td>+0.67</td>\n",
              "      <td>+0.67</td>\n",
              "      <td>23.112M</td>\n",
              "      <td>22.632M</td>\n",
              "      <td>75.461B</td>\n",
              "      <td>2.02</td>\n",
              "      <td></td>\n",
              "    </tr>\n",
              "  </tbody>\n",
              "</table>\n",
              "</div>"
            ],
            "text/plain": [
              "   Symbol                                  Name Price (Intraday)   Change  \\\n",
              "1    TSLA                           Tesla, Inc.           186.79    +2.28   \n",
              "2    AMZN                      Amazon.com, Inc.            99.92    -2.25   \n",
              "3       F                    Ford Motor Company            12.87    +0.15   \n",
              "4    RIOT                  Riot Platforms, Inc.            12.38    +1.80   \n",
              "5     BAC           Bank of America Corporation            28.71    +0.77   \n",
              "6     AMD          Advanced Micro Devices, Inc.            94.03    -1.45   \n",
              "7     BBD                   Banco Bradesco S.A.           2.7800  +0.1600   \n",
              "8     NIO                              NIO Inc.             9.52    +0.47   \n",
              "9    ITUB            Itaú Unibanco Holding S.A.             5.07    +0.24   \n",
              "10   AAPL                            Apple Inc.           160.80    -1.23   \n",
              "11    AMC      AMC Entertainment Holdings, Inc.             5.43    +0.19   \n",
              "12   PLTR            Palantir Technologies Inc.             8.61    +0.22   \n",
              "13     AI                           C3.ai, Inc.            22.75    -0.32   \n",
              "14   VALE                             Vale S.A.            16.42    +1.05   \n",
              "15   NVDA                    NVIDIA Corporation           271.69    -4.10   \n",
              "16   PLUG                       Plug Power Inc.             9.76    +0.40   \n",
              "17   MSFT                 Microsoft Corporation           282.83    -6.56   \n",
              "18   INTC                     Intel Corporation            32.35    -0.17   \n",
              "19   SOFI               SoFi Technologies, Inc.             5.97    +0.06   \n",
              "20  GOOGL                         Alphabet Inc.           105.35    -1.09   \n",
              "21   COIN                 Coinbase Global, Inc.            70.19    +4.06   \n",
              "22    WFC                 Wells Fargo & Company            39.37    +0.74   \n",
              "23      T                             AT&T Inc.            19.69    +0.12   \n",
              "24    CCL            Carnival Corporation & plc            10.04    +0.17   \n",
              "25    PBR  Petróleo Brasileiro S.A. - Petrobras            11.57    +0.67   \n",
              "\n",
              "   % Change    Volume Avg Vol (3 month) Market Cap PE Ratio (TTM)  \\\n",
              "1     +0.67  115.771M          169.054M   591.995B          51.74   \n",
              "2     +0.67   60.418M           64.921M     1.024T            N/A   \n",
              "3     +0.67   62.949M           70.066M    51.479B            N/A   \n",
              "4     +0.67   55.029M           18.738M     2.067B            N/A   \n",
              "5     +0.67   58.295M           57.968M   229.659B           9.00   \n",
              "6     +0.67   51.936M           62.438M   151.519B         108.08   \n",
              "7     +0.67   46.337M            32.31M    29.585B           7.51   \n",
              "8     +0.67   44.158M           44.303M    15.903B            N/A   \n",
              "9     +0.67   44.495M           33.258M    49.559B           8.45   \n",
              "10    +0.67   47.507M           65.351M     2.544T          27.25   \n",
              "11    +0.67   36.001M            39.16M     4.245B            N/A   \n",
              "12    +0.67   35.214M            41.59M    18.093B            N/A   \n",
              "13    +0.67   31.486M           25.685M     2.553B            N/A   \n",
              "14    +0.67   30.452M           22.538M    73.045B           4.47   \n",
              "15    +0.67    30.02M           50.135M   671.074B         156.14   \n",
              "16    +0.67   28.713M            18.69M     5.792B            N/A   \n",
              "17    +0.67   27.277M           31.871M     2.105T          31.43   \n",
              "18    +0.67   27.059M           48.317M   134.933B          16.68   \n",
              "19    +0.67   26.455M            36.62M     5.579B            N/A   \n",
              "20    +0.67   26.312M           40.284M     1.352T          23.52   \n",
              "21    +0.67   25.222M           20.241M    16.247B            N/A   \n",
              "22    +0.67    25.09M           23.943M   148.704B          12.54   \n",
              "23    +0.67    24.05M           31.385M   140.853B            N/A   \n",
              "24    +0.67   25.834M           39.952M     13.08B            N/A   \n",
              "25    +0.67   23.112M           22.632M    75.461B           2.02   \n",
              "\n",
              "   52 Week Range  \n",
              "1                 \n",
              "2                 \n",
              "3                 \n",
              "4                 \n",
              "5                 \n",
              "6                 \n",
              "7                 \n",
              "8                 \n",
              "9                 \n",
              "10                \n",
              "11                \n",
              "12                \n",
              "13                \n",
              "14                \n",
              "15                \n",
              "16                \n",
              "17                \n",
              "18                \n",
              "19                \n",
              "20                \n",
              "21                \n",
              "22                \n",
              "23                \n",
              "24                \n",
              "25                "
            ]
          },
          "execution_count": 63,
          "metadata": {},
          "output_type": "execute_result"
        }
      ],
      "source": [
        "import pandas as pd\n",
        "df=pd.DataFrame(data)\n",
        "df.index=df.index+1\n",
        "df"
      ]
    },
    {
      "cell_type": "code",
      "execution_count": null,
      "id": "e36e0388",
      "metadata": {
        "id": "e36e0388"
      },
      "outputs": [],
      "source": [
        "df.to_csv(\"Web Scraping Project.csv\",index=False)"
      ]
    },
    {
      "cell_type": "code",
      "execution_count": null,
      "id": "c579b000",
      "metadata": {
        "id": "c579b000"
      },
      "outputs": [],
      "source": []
    }
  ],
  "metadata": {
    "kernelspec": {
      "display_name": "Python 3",
      "language": "python",
      "name": "python3"
    },
    "language_info": {
      "codemirror_mode": {
        "name": "ipython",
        "version": 3
      },
      "file_extension": ".py",
      "mimetype": "text/x-python",
      "name": "python",
      "nbconvert_exporter": "python",
      "pygments_lexer": "ipython3",
      "version": "3.8.8"
    },
    "colab": {
      "provenance": [],
      "include_colab_link": true
    }
  },
  "nbformat": 4,
  "nbformat_minor": 5
}